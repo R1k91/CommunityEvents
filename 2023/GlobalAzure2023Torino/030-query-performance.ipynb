{
    "metadata": {
        "kernelspec": {
            "name": "SQL",
            "display_name": "SQL",
            "language": "sql"
        },
        "language_info": {
            "name": "sql",
            "version": ""
        }
    },
    "nbformat_minor": 2,
    "nbformat": 4,
    "cells": [
        {
            "cell_type": "markdown",
            "source": [
                "# **Distribution and performance**\n",
                "\n",
                "This notebook:\n",
                "\n",
                "1. Shows ingestion performance when dealing with different distributions"
            ],
            "metadata": {
                "language": "sql",
                "azdata_cell_guid": "7e7caf26-90e0-4c79-acc9-fb9d2ba2a59f"
            },
            "attachments": {}
        },
        {
            "cell_type": "markdown",
            "source": [
                "# Query 1\n",
                "\n",
                "Creates 1 hash table and one round robin table with same structure and popolutes with same data"
            ],
            "metadata": {
                "language": "sql",
                "azdata_cell_guid": "2792af25-18a6-42bb-98b0-144be70de653"
            },
            "attachments": {}
        },
        {
            "cell_type": "code",
            "source": [
                "CREATE TABLE [dbo].[Trip_round_robin]\r\n",
                "(\r\n",
                "\t[DateID] [int] NOT NULL,\r\n",
                "\t[MedallionID] [int] NOT NULL,\r\n",
                "\t[HackneyLicenseID] [int] NOT NULL,\r\n",
                "\t[PickupTimeID] [int] NOT NULL,\r\n",
                "\t[DropoffTimeID] [int] NOT NULL,\r\n",
                "\t[PickupGeographyID] [int] NULL,\r\n",
                "\t[DropoffGeographyID] [int] NULL,\r\n",
                "\t[PickupLatitude] [float] NULL,\r\n",
                "\t[PickupLongitude] [float] NULL,\r\n",
                "\t[PickupLatLong] [varchar](50) NULL,\r\n",
                "\t[DropoffLatitude] [float] NULL,\r\n",
                "\t[DropoffLongitude] [float] NULL,\r\n",
                "\t[DropoffLatLong] [varchar](50) NULL,\r\n",
                "\t[PassengerCount] [int] NULL,\r\n",
                "\t[TripDurationSeconds] [int] NULL,\r\n",
                "\t[TripDistanceMiles] [float] NULL,\r\n",
                "\t[PaymentType] [varchar](50) NULL,\r\n",
                "\t[FareAmount] [money] NULL,\r\n",
                "\t[SurchargeAmount] [money] NULL,\r\n",
                "\t[TaxAmount] [money] NULL,\r\n",
                "\t[TipAmount] [money] NULL,\r\n",
                "\t[TollsAmount] [money] NULL,\r\n",
                "\t[TotalAmount] [money] NULL\r\n",
                ")\r\n",
                "WITH\r\n",
                "(\r\n",
                "\tDISTRIBUTION = ROUND_ROBIN--,\r\n",
                "\t--CLUSTERED COLUMNSTORE INDEX\r\n",
                ")\r\n",
                "GO\r\n",
                "\r\n",
                "CREATE TABLE [dbo].[Trip_hash]\r\n",
                "(\r\n",
                "\t[DateID] [int] NOT NULL,\r\n",
                "\t[MedallionID] [int] NOT NULL,\r\n",
                "\t[HackneyLicenseID] [int] NOT NULL,\r\n",
                "\t[PickupTimeID] [int] NOT NULL,\r\n",
                "\t[DropoffTimeID] [int] NOT NULL,\r\n",
                "\t[PickupGeographyID] [int] NULL,\r\n",
                "\t[DropoffGeographyID] [int] NULL,\r\n",
                "\t[PickupLatitude] [float] NULL,\r\n",
                "\t[PickupLongitude] [float] NULL,\r\n",
                "\t[PickupLatLong] [varchar](50) NULL,\r\n",
                "\t[DropoffLatitude] [float] NULL,\r\n",
                "\t[DropoffLongitude] [float] NULL,\r\n",
                "\t[DropoffLatLong] [varchar](50) NULL,\r\n",
                "\t[PassengerCount] [int] NULL,\r\n",
                "\t[TripDurationSeconds] [int] NULL,\r\n",
                "\t[TripDistanceMiles] [float] NULL,\r\n",
                "\t[PaymentType] [varchar](50) NULL,\r\n",
                "\t[FareAmount] [money] NULL,\r\n",
                "\t[SurchargeAmount] [money] NULL,\r\n",
                "\t[TaxAmount] [money] NULL,\r\n",
                "\t[TipAmount] [money] NULL,\r\n",
                "\t[TollsAmount] [money] NULL,\r\n",
                "\t[TotalAmount] [money] NULL\r\n",
                ")\r\n",
                "WITH\r\n",
                "(\r\n",
                "\tDISTRIBUTION = hash(DateId)--,\r\n",
                "\t--CLUSTERED COLUMNSTORE INDEX\r\n",
                ")\r\n",
                "GO\r\n",
                "\r\n",
                "truncate table dbo.Trip_round_robin;\r\n",
                "insert into dbo.Trip_round_robin \r\n",
                "select top(10000000)* from dbo.Trip\r\n",
                "option (label = 'INSERT rr');\r\n",
                "\r\n",
                "truncate table dbo.Trip_hash;\r\n",
                "insert into dbo.Trip_hash\r\n",
                "select top(10000000)* from dbo.Trip\r\n",
                "option (label = 'INSERT hash');\r\n",
                "\r\n",
                "DBCC PDW_SHOWSPACEUSED('dbo.Trip_round_robin')\r\n",
                "DBCC PDW_SHOWSPACEUSED('dbo.Trip_hash')"
            ],
            "metadata": {
                "azdata_cell_guid": "2dc03de9-87c6-44c8-bdde-0e89198898e5",
                "language": "sql"
            },
            "outputs": [
                {
                    "output_type": "display_data",
                    "data": {
                        "text/html": "Commands completed successfully."
                    },
                    "metadata": {}
                },
                {
                    "output_type": "display_data",
                    "data": {
                        "text/html": "Commands completed successfully."
                    },
                    "metadata": {}
                },
                {
                    "output_type": "display_data",
                    "data": {
                        "text/html": "(10000000 rows affected)"
                    },
                    "metadata": {}
                },
                {
                    "output_type": "display_data",
                    "data": {
                        "text/html": "(10000000 rows affected)"
                    },
                    "metadata": {}
                },
                {
                    "output_type": "display_data",
                    "data": {
                        "text/html": "(60 rows affected)"
                    },
                    "metadata": {}
                },
                {
                    "output_type": "display_data",
                    "data": {
                        "text/html": "(60 rows affected)"
                    },
                    "metadata": {}
                },
                {
                    "output_type": "display_data",
                    "data": {
                        "text/html": "Total execution time: 00:05:15.434"
                    },
                    "metadata": {}
                },
                {
                    "output_type": "execute_result",
                    "metadata": {},
                    "execution_count": 1,
                    "data": {
                        "application/vnd.dataresource+json": {
                            "schema": {
                                "fields": [
                                    {
                                        "name": "ROWS"
                                    },
                                    {
                                        "name": "RESERVED_SPACE"
                                    },
                                    {
                                        "name": "DATA_SPACE"
                                    },
                                    {
                                        "name": "INDEX_SPACE"
                                    },
                                    {
                                        "name": "UNUSED_SPACE"
                                    },
                                    {
                                        "name": "PDW_NODE_ID"
                                    },
                                    {
                                        "name": "DISTRIBUTION_ID"
                                    }
                                ]
                            },
                            "data": [
                                {
                                    "0": "166628",
                                    "1": "8360",
                                    "2": "8360",
                                    "3": "0",
                                    "4": "0",
                                    "5": "1",
                                    "6": "1"
                                },
                                {
                                    "0": "166628",
                                    "1": "8360",
                                    "2": "8360",
                                    "3": "0",
                                    "4": "0",
                                    "5": "1",
                                    "6": "2"
                                },
                                {
                                    "0": "166628",
                                    "1": "8376",
                                    "2": "8376",
                                    "3": "0",
                                    "4": "0",
                                    "5": "1",
                                    "6": "3"
                                },
                                {
                                    "0": "166628",
                                    "1": "8368",
                                    "2": "8368",
                                    "3": "0",
                                    "4": "0",
                                    "5": "1",
                                    "6": "4"
                                },
                                {
                                    "0": "166628",
                                    "1": "8368",
                                    "2": "8368",
                                    "3": "0",
                                    "4": "0",
                                    "5": "1",
                                    "6": "5"
                                },
                                {
                                    "0": "166628",
                                    "1": "8360",
                                    "2": "8360",
                                    "3": "0",
                                    "4": "0",
                                    "5": "1",
                                    "6": "6"
                                },
                                {
                                    "0": "166628",
                                    "1": "8360",
                                    "2": "8360",
                                    "3": "0",
                                    "4": "0",
                                    "5": "1",
                                    "6": "7"
                                },
                                {
                                    "0": "166628",
                                    "1": "8368",
                                    "2": "8368",
                                    "3": "0",
                                    "4": "0",
                                    "5": "1",
                                    "6": "8"
                                },
                                {
                                    "0": "166628",
                                    "1": "8376",
                                    "2": "8376",
                                    "3": "0",
                                    "4": "0",
                                    "5": "1",
                                    "6": "9"
                                },
                                {
                                    "0": "166628",
                                    "1": "8376",
                                    "2": "8376",
                                    "3": "0",
                                    "4": "0",
                                    "5": "1",
                                    "6": "10"
                                },
                                {
                                    "0": "166628",
                                    "1": "8392",
                                    "2": "8392",
                                    "3": "0",
                                    "4": "0",
                                    "5": "1",
                                    "6": "11"
                                },
                                {
                                    "0": "166628",
                                    "1": "8376",
                                    "2": "8376",
                                    "3": "0",
                                    "4": "0",
                                    "5": "1",
                                    "6": "12"
                                },
                                {
                                    "0": "166628",
                                    "1": "8376",
                                    "2": "8376",
                                    "3": "0",
                                    "4": "0",
                                    "5": "1",
                                    "6": "13"
                                },
                                {
                                    "0": "166628",
                                    "1": "8368",
                                    "2": "8368",
                                    "3": "0",
                                    "4": "0",
                                    "5": "1",
                                    "6": "14"
                                },
                                {
                                    "0": "166628",
                                    "1": "8376",
                                    "2": "8376",
                                    "3": "0",
                                    "4": "0",
                                    "5": "1",
                                    "6": "15"
                                },
                                {
                                    "0": "166628",
                                    "1": "8368",
                                    "2": "8368",
                                    "3": "0",
                                    "4": "0",
                                    "5": "1",
                                    "6": "16"
                                },
                                {
                                    "0": "166628",
                                    "1": "8368",
                                    "2": "8368",
                                    "3": "0",
                                    "4": "0",
                                    "5": "1",
                                    "6": "17"
                                },
                                {
                                    "0": "166628",
                                    "1": "8376",
                                    "2": "8376",
                                    "3": "0",
                                    "4": "0",
                                    "5": "1",
                                    "6": "18"
                                },
                                {
                                    "0": "166628",
                                    "1": "8368",
                                    "2": "8368",
                                    "3": "0",
                                    "4": "0",
                                    "5": "1",
                                    "6": "19"
                                },
                                {
                                    "0": "166628",
                                    "1": "8368",
                                    "2": "8368",
                                    "3": "0",
                                    "4": "0",
                                    "5": "1",
                                    "6": "20"
                                },
                                {
                                    "0": "166628",
                                    "1": "8384",
                                    "2": "8384",
                                    "3": "0",
                                    "4": "0",
                                    "5": "1",
                                    "6": "21"
                                },
                                {
                                    "0": "166628",
                                    "1": "8376",
                                    "2": "8376",
                                    "3": "0",
                                    "4": "0",
                                    "5": "1",
                                    "6": "22"
                                },
                                {
                                    "0": "166628",
                                    "1": "8360",
                                    "2": "8360",
                                    "3": "0",
                                    "4": "0",
                                    "5": "1",
                                    "6": "23"
                                },
                                {
                                    "0": "166628",
                                    "1": "8384",
                                    "2": "8384",
                                    "3": "0",
                                    "4": "0",
                                    "5": "1",
                                    "6": "24"
                                },
                                {
                                    "0": "166628",
                                    "1": "8368",
                                    "2": "8368",
                                    "3": "0",
                                    "4": "0",
                                    "5": "1",
                                    "6": "25"
                                },
                                {
                                    "0": "166705",
                                    "1": "8384",
                                    "2": "8384",
                                    "3": "0",
                                    "4": "0",
                                    "5": "1",
                                    "6": "26"
                                },
                                {
                                    "0": "166705",
                                    "1": "8376",
                                    "2": "8376",
                                    "3": "0",
                                    "4": "0",
                                    "5": "1",
                                    "6": "27"
                                },
                                {
                                    "0": "166705",
                                    "1": "8376",
                                    "2": "8376",
                                    "3": "0",
                                    "4": "0",
                                    "5": "1",
                                    "6": "28"
                                },
                                {
                                    "0": "166705",
                                    "1": "8384",
                                    "2": "8384",
                                    "3": "0",
                                    "4": "0",
                                    "5": "1",
                                    "6": "29"
                                },
                                {
                                    "0": "166705",
                                    "1": "8376",
                                    "2": "8376",
                                    "3": "0",
                                    "4": "0",
                                    "5": "1",
                                    "6": "30"
                                },
                                {
                                    "0": "166705",
                                    "1": "8376",
                                    "2": "8376",
                                    "3": "0",
                                    "4": "0",
                                    "5": "1",
                                    "6": "31"
                                },
                                {
                                    "0": "166705",
                                    "1": "8392",
                                    "2": "8392",
                                    "3": "0",
                                    "4": "0",
                                    "5": "1",
                                    "6": "32"
                                },
                                {
                                    "0": "166705",
                                    "1": "8368",
                                    "2": "8368",
                                    "3": "0",
                                    "4": "0",
                                    "5": "1",
                                    "6": "33"
                                },
                                {
                                    "0": "166705",
                                    "1": "8384",
                                    "2": "8384",
                                    "3": "0",
                                    "4": "0",
                                    "5": "1",
                                    "6": "34"
                                },
                                {
                                    "0": "166705",
                                    "1": "8392",
                                    "2": "8392",
                                    "3": "0",
                                    "4": "0",
                                    "5": "1",
                                    "6": "35"
                                },
                                {
                                    "0": "166705",
                                    "1": "8384",
                                    "2": "8384",
                                    "3": "0",
                                    "4": "0",
                                    "5": "1",
                                    "6": "36"
                                },
                                {
                                    "0": "166705",
                                    "1": "8368",
                                    "2": "8368",
                                    "3": "0",
                                    "4": "0",
                                    "5": "1",
                                    "6": "37"
                                },
                                {
                                    "0": "166705",
                                    "1": "8376",
                                    "2": "8376",
                                    "3": "0",
                                    "4": "0",
                                    "5": "1",
                                    "6": "38"
                                },
                                {
                                    "0": "166705",
                                    "1": "8360",
                                    "2": "8360",
                                    "3": "0",
                                    "4": "0",
                                    "5": "1",
                                    "6": "39"
                                },
                                {
                                    "0": "166705",
                                    "1": "8352",
                                    "2": "8352",
                                    "3": "0",
                                    "4": "0",
                                    "5": "1",
                                    "6": "40"
                                },
                                {
                                    "0": "166705",
                                    "1": "8352",
                                    "2": "8352",
                                    "3": "0",
                                    "4": "0",
                                    "5": "1",
                                    "6": "41"
                                },
                                {
                                    "0": "166705",
                                    "1": "8368",
                                    "2": "8368",
                                    "3": "0",
                                    "4": "0",
                                    "5": "1",
                                    "6": "42"
                                },
                                {
                                    "0": "166705",
                                    "1": "8368",
                                    "2": "8368",
                                    "3": "0",
                                    "4": "0",
                                    "5": "1",
                                    "6": "43"
                                },
                                {
                                    "0": "166705",
                                    "1": "8344",
                                    "2": "8344",
                                    "3": "0",
                                    "4": "0",
                                    "5": "1",
                                    "6": "44"
                                },
                                {
                                    "0": "166705",
                                    "1": "8368",
                                    "2": "8368",
                                    "3": "0",
                                    "4": "0",
                                    "5": "1",
                                    "6": "45"
                                },
                                {
                                    "0": "166705",
                                    "1": "8368",
                                    "2": "8368",
                                    "3": "0",
                                    "4": "0",
                                    "5": "1",
                                    "6": "46"
                                },
                                {
                                    "0": "166705",
                                    "1": "8376",
                                    "2": "8376",
                                    "3": "0",
                                    "4": "0",
                                    "5": "1",
                                    "6": "47"
                                },
                                {
                                    "0": "166705",
                                    "1": "8376",
                                    "2": "8376",
                                    "3": "0",
                                    "4": "0",
                                    "5": "1",
                                    "6": "48"
                                },
                                {
                                    "0": "166705",
                                    "1": "8376",
                                    "2": "8376",
                                    "3": "0",
                                    "4": "0",
                                    "5": "1",
                                    "6": "49"
                                },
                                {
                                    "0": "166705",
                                    "1": "8368",
                                    "2": "8368",
                                    "3": "0",
                                    "4": "0",
                                    "5": "1",
                                    "6": "50"
                                },
                                {
                                    "0": "166705",
                                    "1": "8368",
                                    "2": "8368",
                                    "3": "0",
                                    "4": "0",
                                    "5": "1",
                                    "6": "51"
                                },
                                {
                                    "0": "166705",
                                    "1": "8376",
                                    "2": "8376",
                                    "3": "0",
                                    "4": "0",
                                    "5": "1",
                                    "6": "52"
                                },
                                {
                                    "0": "166705",
                                    "1": "8368",
                                    "2": "8368",
                                    "3": "0",
                                    "4": "0",
                                    "5": "1",
                                    "6": "53"
                                },
                                {
                                    "0": "166705",
                                    "1": "8368",
                                    "2": "8368",
                                    "3": "0",
                                    "4": "0",
                                    "5": "1",
                                    "6": "54"
                                },
                                {
                                    "0": "166705",
                                    "1": "8368",
                                    "2": "8368",
                                    "3": "0",
                                    "4": "0",
                                    "5": "1",
                                    "6": "55"
                                },
                                {
                                    "0": "166638",
                                    "1": "8384",
                                    "2": "8384",
                                    "3": "0",
                                    "4": "0",
                                    "5": "1",
                                    "6": "56"
                                },
                                {
                                    "0": "166628",
                                    "1": "8376",
                                    "2": "8376",
                                    "3": "0",
                                    "4": "0",
                                    "5": "1",
                                    "6": "57"
                                },
                                {
                                    "0": "166628",
                                    "1": "8376",
                                    "2": "8376",
                                    "3": "0",
                                    "4": "0",
                                    "5": "1",
                                    "6": "58"
                                },
                                {
                                    "0": "166628",
                                    "1": "8368",
                                    "2": "8368",
                                    "3": "0",
                                    "4": "0",
                                    "5": "1",
                                    "6": "59"
                                },
                                {
                                    "0": "166628",
                                    "1": "8384",
                                    "2": "8384",
                                    "3": "0",
                                    "4": "0",
                                    "5": "1",
                                    "6": "60"
                                }
                            ]
                        },
                        "text/html": [
                            "<table>",
                            "<tr><th>ROWS</th><th>RESERVED_SPACE</th><th>DATA_SPACE</th><th>INDEX_SPACE</th><th>UNUSED_SPACE</th><th>PDW_NODE_ID</th><th>DISTRIBUTION_ID</th></tr>",
                            "<tr><td>166628</td><td>8360</td><td>8360</td><td>0</td><td>0</td><td>1</td><td>1</td></tr>",
                            "<tr><td>166628</td><td>8360</td><td>8360</td><td>0</td><td>0</td><td>1</td><td>2</td></tr>",
                            "<tr><td>166628</td><td>8376</td><td>8376</td><td>0</td><td>0</td><td>1</td><td>3</td></tr>",
                            "<tr><td>166628</td><td>8368</td><td>8368</td><td>0</td><td>0</td><td>1</td><td>4</td></tr>",
                            "<tr><td>166628</td><td>8368</td><td>8368</td><td>0</td><td>0</td><td>1</td><td>5</td></tr>",
                            "<tr><td>166628</td><td>8360</td><td>8360</td><td>0</td><td>0</td><td>1</td><td>6</td></tr>",
                            "<tr><td>166628</td><td>8360</td><td>8360</td><td>0</td><td>0</td><td>1</td><td>7</td></tr>",
                            "<tr><td>166628</td><td>8368</td><td>8368</td><td>0</td><td>0</td><td>1</td><td>8</td></tr>",
                            "<tr><td>166628</td><td>8376</td><td>8376</td><td>0</td><td>0</td><td>1</td><td>9</td></tr>",
                            "<tr><td>166628</td><td>8376</td><td>8376</td><td>0</td><td>0</td><td>1</td><td>10</td></tr>",
                            "<tr><td>166628</td><td>8392</td><td>8392</td><td>0</td><td>0</td><td>1</td><td>11</td></tr>",
                            "<tr><td>166628</td><td>8376</td><td>8376</td><td>0</td><td>0</td><td>1</td><td>12</td></tr>",
                            "<tr><td>166628</td><td>8376</td><td>8376</td><td>0</td><td>0</td><td>1</td><td>13</td></tr>",
                            "<tr><td>166628</td><td>8368</td><td>8368</td><td>0</td><td>0</td><td>1</td><td>14</td></tr>",
                            "<tr><td>166628</td><td>8376</td><td>8376</td><td>0</td><td>0</td><td>1</td><td>15</td></tr>",
                            "<tr><td>166628</td><td>8368</td><td>8368</td><td>0</td><td>0</td><td>1</td><td>16</td></tr>",
                            "<tr><td>166628</td><td>8368</td><td>8368</td><td>0</td><td>0</td><td>1</td><td>17</td></tr>",
                            "<tr><td>166628</td><td>8376</td><td>8376</td><td>0</td><td>0</td><td>1</td><td>18</td></tr>",
                            "<tr><td>166628</td><td>8368</td><td>8368</td><td>0</td><td>0</td><td>1</td><td>19</td></tr>",
                            "<tr><td>166628</td><td>8368</td><td>8368</td><td>0</td><td>0</td><td>1</td><td>20</td></tr>",
                            "<tr><td>166628</td><td>8384</td><td>8384</td><td>0</td><td>0</td><td>1</td><td>21</td></tr>",
                            "<tr><td>166628</td><td>8376</td><td>8376</td><td>0</td><td>0</td><td>1</td><td>22</td></tr>",
                            "<tr><td>166628</td><td>8360</td><td>8360</td><td>0</td><td>0</td><td>1</td><td>23</td></tr>",
                            "<tr><td>166628</td><td>8384</td><td>8384</td><td>0</td><td>0</td><td>1</td><td>24</td></tr>",
                            "<tr><td>166628</td><td>8368</td><td>8368</td><td>0</td><td>0</td><td>1</td><td>25</td></tr>",
                            "<tr><td>166705</td><td>8384</td><td>8384</td><td>0</td><td>0</td><td>1</td><td>26</td></tr>",
                            "<tr><td>166705</td><td>8376</td><td>8376</td><td>0</td><td>0</td><td>1</td><td>27</td></tr>",
                            "<tr><td>166705</td><td>8376</td><td>8376</td><td>0</td><td>0</td><td>1</td><td>28</td></tr>",
                            "<tr><td>166705</td><td>8384</td><td>8384</td><td>0</td><td>0</td><td>1</td><td>29</td></tr>",
                            "<tr><td>166705</td><td>8376</td><td>8376</td><td>0</td><td>0</td><td>1</td><td>30</td></tr>",
                            "<tr><td>166705</td><td>8376</td><td>8376</td><td>0</td><td>0</td><td>1</td><td>31</td></tr>",
                            "<tr><td>166705</td><td>8392</td><td>8392</td><td>0</td><td>0</td><td>1</td><td>32</td></tr>",
                            "<tr><td>166705</td><td>8368</td><td>8368</td><td>0</td><td>0</td><td>1</td><td>33</td></tr>",
                            "<tr><td>166705</td><td>8384</td><td>8384</td><td>0</td><td>0</td><td>1</td><td>34</td></tr>",
                            "<tr><td>166705</td><td>8392</td><td>8392</td><td>0</td><td>0</td><td>1</td><td>35</td></tr>",
                            "<tr><td>166705</td><td>8384</td><td>8384</td><td>0</td><td>0</td><td>1</td><td>36</td></tr>",
                            "<tr><td>166705</td><td>8368</td><td>8368</td><td>0</td><td>0</td><td>1</td><td>37</td></tr>",
                            "<tr><td>166705</td><td>8376</td><td>8376</td><td>0</td><td>0</td><td>1</td><td>38</td></tr>",
                            "<tr><td>166705</td><td>8360</td><td>8360</td><td>0</td><td>0</td><td>1</td><td>39</td></tr>",
                            "<tr><td>166705</td><td>8352</td><td>8352</td><td>0</td><td>0</td><td>1</td><td>40</td></tr>",
                            "<tr><td>166705</td><td>8352</td><td>8352</td><td>0</td><td>0</td><td>1</td><td>41</td></tr>",
                            "<tr><td>166705</td><td>8368</td><td>8368</td><td>0</td><td>0</td><td>1</td><td>42</td></tr>",
                            "<tr><td>166705</td><td>8368</td><td>8368</td><td>0</td><td>0</td><td>1</td><td>43</td></tr>",
                            "<tr><td>166705</td><td>8344</td><td>8344</td><td>0</td><td>0</td><td>1</td><td>44</td></tr>",
                            "<tr><td>166705</td><td>8368</td><td>8368</td><td>0</td><td>0</td><td>1</td><td>45</td></tr>",
                            "<tr><td>166705</td><td>8368</td><td>8368</td><td>0</td><td>0</td><td>1</td><td>46</td></tr>",
                            "<tr><td>166705</td><td>8376</td><td>8376</td><td>0</td><td>0</td><td>1</td><td>47</td></tr>",
                            "<tr><td>166705</td><td>8376</td><td>8376</td><td>0</td><td>0</td><td>1</td><td>48</td></tr>",
                            "<tr><td>166705</td><td>8376</td><td>8376</td><td>0</td><td>0</td><td>1</td><td>49</td></tr>",
                            "<tr><td>166705</td><td>8368</td><td>8368</td><td>0</td><td>0</td><td>1</td><td>50</td></tr>",
                            "<tr><td>166705</td><td>8368</td><td>8368</td><td>0</td><td>0</td><td>1</td><td>51</td></tr>",
                            "<tr><td>166705</td><td>8376</td><td>8376</td><td>0</td><td>0</td><td>1</td><td>52</td></tr>",
                            "<tr><td>166705</td><td>8368</td><td>8368</td><td>0</td><td>0</td><td>1</td><td>53</td></tr>",
                            "<tr><td>166705</td><td>8368</td><td>8368</td><td>0</td><td>0</td><td>1</td><td>54</td></tr>",
                            "<tr><td>166705</td><td>8368</td><td>8368</td><td>0</td><td>0</td><td>1</td><td>55</td></tr>",
                            "<tr><td>166638</td><td>8384</td><td>8384</td><td>0</td><td>0</td><td>1</td><td>56</td></tr>",
                            "<tr><td>166628</td><td>8376</td><td>8376</td><td>0</td><td>0</td><td>1</td><td>57</td></tr>",
                            "<tr><td>166628</td><td>8376</td><td>8376</td><td>0</td><td>0</td><td>1</td><td>58</td></tr>",
                            "<tr><td>166628</td><td>8368</td><td>8368</td><td>0</td><td>0</td><td>1</td><td>59</td></tr>",
                            "<tr><td>166628</td><td>8384</td><td>8384</td><td>0</td><td>0</td><td>1</td><td>60</td></tr>",
                            "</table>"
                        ]
                    }
                },
                {
                    "output_type": "execute_result",
                    "metadata": {},
                    "execution_count": 1,
                    "data": {
                        "application/vnd.dataresource+json": {
                            "schema": {
                                "fields": [
                                    {
                                        "name": "ROWS"
                                    },
                                    {
                                        "name": "RESERVED_SPACE"
                                    },
                                    {
                                        "name": "DATA_SPACE"
                                    },
                                    {
                                        "name": "INDEX_SPACE"
                                    },
                                    {
                                        "name": "UNUSED_SPACE"
                                    },
                                    {
                                        "name": "PDW_NODE_ID"
                                    },
                                    {
                                        "name": "DISTRIBUTION_ID"
                                    }
                                ]
                            },
                            "data": [
                                {
                                    "0": "160129",
                                    "1": "8104",
                                    "2": "8104",
                                    "3": "0",
                                    "4": "0",
                                    "5": "1",
                                    "6": "1"
                                },
                                {
                                    "0": "189690",
                                    "1": "9312",
                                    "2": "9312",
                                    "3": "0",
                                    "4": "0",
                                    "5": "1",
                                    "6": "2"
                                },
                                {
                                    "0": "79581",
                                    "1": "15776",
                                    "2": "15528",
                                    "3": "88",
                                    "4": "160",
                                    "5": "1",
                                    "6": "3"
                                },
                                {
                                    "0": "290153",
                                    "1": "13200",
                                    "2": "13200",
                                    "3": "0",
                                    "4": "0",
                                    "5": "1",
                                    "6": "4"
                                },
                                {
                                    "0": "164567",
                                    "1": "8312",
                                    "2": "8312",
                                    "3": "0",
                                    "4": "0",
                                    "5": "1",
                                    "6": "5"
                                },
                                {
                                    "0": "131654",
                                    "1": "6896",
                                    "2": "6896",
                                    "3": "0",
                                    "4": "0",
                                    "5": "1",
                                    "6": "6"
                                },
                                {
                                    "0": "138885",
                                    "1": "7208",
                                    "2": "7208",
                                    "3": "0",
                                    "4": "0",
                                    "5": "1",
                                    "6": "7"
                                },
                                {
                                    "0": "327821",
                                    "1": "14600",
                                    "2": "14600",
                                    "3": "0",
                                    "4": "0",
                                    "5": "1",
                                    "6": "8"
                                },
                                {
                                    "0": "167829",
                                    "1": "8392",
                                    "2": "8392",
                                    "3": "0",
                                    "4": "0",
                                    "5": "1",
                                    "6": "9"
                                },
                                {
                                    "0": "190106",
                                    "1": "9344",
                                    "2": "9344",
                                    "3": "0",
                                    "4": "0",
                                    "5": "1",
                                    "6": "10"
                                },
                                {
                                    "0": "160251",
                                    "1": "8120",
                                    "2": "8120",
                                    "3": "0",
                                    "4": "0",
                                    "5": "1",
                                    "6": "11"
                                },
                                {
                                    "0": "177311",
                                    "1": "8784",
                                    "2": "8784",
                                    "3": "0",
                                    "4": "0",
                                    "5": "1",
                                    "6": "12"
                                },
                                {
                                    "0": "229085",
                                    "1": "10840",
                                    "2": "10840",
                                    "3": "0",
                                    "4": "0",
                                    "5": "1",
                                    "6": "13"
                                },
                                {
                                    "0": "175476",
                                    "1": "8760",
                                    "2": "8760",
                                    "3": "0",
                                    "4": "0",
                                    "5": "1",
                                    "6": "14"
                                },
                                {
                                    "0": "241796",
                                    "1": "11408",
                                    "2": "11408",
                                    "3": "0",
                                    "4": "0",
                                    "5": "1",
                                    "6": "15"
                                },
                                {
                                    "0": "136246",
                                    "1": "7080",
                                    "2": "7080",
                                    "3": "0",
                                    "4": "0",
                                    "5": "1",
                                    "6": "16"
                                },
                                {
                                    "0": "268470",
                                    "1": "12488",
                                    "2": "12488",
                                    "3": "0",
                                    "4": "0",
                                    "5": "1",
                                    "6": "17"
                                },
                                {
                                    "0": "176585",
                                    "1": "8776",
                                    "2": "8776",
                                    "3": "0",
                                    "4": "0",
                                    "5": "1",
                                    "6": "18"
                                },
                                {
                                    "0": "147384",
                                    "1": "7568",
                                    "2": "7568",
                                    "3": "0",
                                    "4": "0",
                                    "5": "1",
                                    "6": "19"
                                },
                                {
                                    "0": "59297",
                                    "1": "11808",
                                    "2": "11576",
                                    "3": "80",
                                    "4": "152",
                                    "5": "1",
                                    "6": "20"
                                },
                                {
                                    "0": "135111",
                                    "1": "7072",
                                    "2": "7072",
                                    "3": "0",
                                    "4": "0",
                                    "5": "1",
                                    "6": "21"
                                },
                                {
                                    "0": "216538",
                                    "1": "10320",
                                    "2": "10320",
                                    "3": "0",
                                    "4": "0",
                                    "5": "1",
                                    "6": "22"
                                },
                                {
                                    "0": "232428",
                                    "1": "10936",
                                    "2": "10936",
                                    "3": "0",
                                    "4": "0",
                                    "5": "1",
                                    "6": "23"
                                },
                                {
                                    "0": "142740",
                                    "1": "7424",
                                    "2": "7424",
                                    "3": "0",
                                    "4": "0",
                                    "5": "1",
                                    "6": "24"
                                },
                                {
                                    "0": "216729",
                                    "1": "10368",
                                    "2": "10368",
                                    "3": "0",
                                    "4": "0",
                                    "5": "1",
                                    "6": "25"
                                },
                                {
                                    "0": "164516",
                                    "1": "8320",
                                    "2": "8320",
                                    "3": "0",
                                    "4": "0",
                                    "5": "1",
                                    "6": "26"
                                },
                                {
                                    "0": "139857",
                                    "1": "7280",
                                    "2": "7280",
                                    "3": "0",
                                    "4": "0",
                                    "5": "1",
                                    "6": "27"
                                },
                                {
                                    "0": "166078",
                                    "1": "8384",
                                    "2": "8384",
                                    "3": "0",
                                    "4": "0",
                                    "5": "1",
                                    "6": "28"
                                },
                                {
                                    "0": "304561",
                                    "1": "13736",
                                    "2": "13736",
                                    "3": "0",
                                    "4": "0",
                                    "5": "1",
                                    "6": "29"
                                },
                                {
                                    "0": "148395",
                                    "1": "7624",
                                    "2": "7624",
                                    "3": "0",
                                    "4": "0",
                                    "5": "1",
                                    "6": "30"
                                },
                                {
                                    "0": "213883",
                                    "1": "10360",
                                    "2": "10360",
                                    "3": "0",
                                    "4": "0",
                                    "5": "1",
                                    "6": "31"
                                },
                                {
                                    "0": "136340",
                                    "1": "7128",
                                    "2": "7128",
                                    "3": "0",
                                    "4": "0",
                                    "5": "1",
                                    "6": "32"
                                },
                                {
                                    "0": "0",
                                    "1": "0",
                                    "2": "0",
                                    "3": "0",
                                    "4": "0",
                                    "5": "1",
                                    "6": "33"
                                },
                                {
                                    "0": "312579",
                                    "1": "14048",
                                    "2": "14048",
                                    "3": "0",
                                    "4": "0",
                                    "5": "1",
                                    "6": "34"
                                },
                                {
                                    "0": "112557",
                                    "1": "6056",
                                    "2": "6056",
                                    "3": "0",
                                    "4": "0",
                                    "5": "1",
                                    "6": "35"
                                },
                                {
                                    "0": "163527",
                                    "1": "8232",
                                    "2": "8232",
                                    "3": "0",
                                    "4": "0",
                                    "5": "1",
                                    "6": "36"
                                },
                                {
                                    "0": "82220",
                                    "1": "16288",
                                    "2": "16048",
                                    "3": "96",
                                    "4": "144",
                                    "5": "1",
                                    "6": "37"
                                },
                                {
                                    "0": "53660",
                                    "1": "10720",
                                    "2": "10472",
                                    "3": "72",
                                    "4": "176",
                                    "5": "1",
                                    "6": "38"
                                },
                                {
                                    "0": "164931",
                                    "1": "8344",
                                    "2": "8344",
                                    "3": "0",
                                    "4": "0",
                                    "5": "1",
                                    "6": "39"
                                },
                                {
                                    "0": "113139",
                                    "1": "6048",
                                    "2": "6048",
                                    "3": "0",
                                    "4": "0",
                                    "5": "1",
                                    "6": "40"
                                },
                                {
                                    "0": "134646",
                                    "1": "6992",
                                    "2": "6992",
                                    "3": "0",
                                    "4": "0",
                                    "5": "1",
                                    "6": "41"
                                },
                                {
                                    "0": "189293",
                                    "1": "9272",
                                    "2": "9272",
                                    "3": "0",
                                    "4": "0",
                                    "5": "1",
                                    "6": "42"
                                },
                                {
                                    "0": "29275",
                                    "1": "5976",
                                    "2": "5720",
                                    "3": "48",
                                    "4": "208",
                                    "5": "1",
                                    "6": "43"
                                },
                                {
                                    "0": "157220",
                                    "1": "7984",
                                    "2": "7984",
                                    "3": "0",
                                    "4": "0",
                                    "5": "1",
                                    "6": "44"
                                },
                                {
                                    "0": "148174",
                                    "1": "7608",
                                    "2": "7608",
                                    "3": "0",
                                    "4": "0",
                                    "5": "1",
                                    "6": "45"
                                },
                                {
                                    "0": "162645",
                                    "1": "8320",
                                    "2": "8320",
                                    "3": "0",
                                    "4": "0",
                                    "5": "1",
                                    "6": "46"
                                },
                                {
                                    "0": "257723",
                                    "1": "12024",
                                    "2": "12024",
                                    "3": "0",
                                    "4": "0",
                                    "5": "1",
                                    "6": "47"
                                },
                                {
                                    "0": "115192",
                                    "1": "6160",
                                    "2": "6160",
                                    "3": "0",
                                    "4": "0",
                                    "5": "1",
                                    "6": "48"
                                },
                                {
                                    "0": "212118",
                                    "1": "10312",
                                    "2": "10312",
                                    "3": "0",
                                    "4": "0",
                                    "5": "1",
                                    "6": "49"
                                },
                                {
                                    "0": "125788",
                                    "1": "6648",
                                    "2": "6648",
                                    "3": "0",
                                    "4": "0",
                                    "5": "1",
                                    "6": "50"
                                },
                                {
                                    "0": "200121",
                                    "1": "9760",
                                    "2": "9760",
                                    "3": "0",
                                    "4": "0",
                                    "5": "1",
                                    "6": "51"
                                },
                                {
                                    "0": "163269",
                                    "1": "8248",
                                    "2": "8248",
                                    "3": "0",
                                    "4": "0",
                                    "5": "1",
                                    "6": "52"
                                },
                                {
                                    "0": "141063",
                                    "1": "7272",
                                    "2": "7272",
                                    "3": "0",
                                    "4": "0",
                                    "5": "1",
                                    "6": "53"
                                },
                                {
                                    "0": "103930",
                                    "1": "5576",
                                    "2": "5576",
                                    "3": "0",
                                    "4": "0",
                                    "5": "1",
                                    "6": "54"
                                },
                                {
                                    "0": "59825",
                                    "1": "11936",
                                    "2": "11680",
                                    "3": "80",
                                    "4": "176",
                                    "5": "1",
                                    "6": "55"
                                },
                                {
                                    "0": "230406",
                                    "1": "11056",
                                    "2": "11056",
                                    "3": "0",
                                    "4": "0",
                                    "5": "1",
                                    "6": "56"
                                },
                                {
                                    "0": "164157",
                                    "1": "8240",
                                    "2": "8240",
                                    "3": "0",
                                    "4": "0",
                                    "5": "1",
                                    "6": "57"
                                },
                                {
                                    "0": "198390",
                                    "1": "9592",
                                    "2": "9592",
                                    "3": "0",
                                    "4": "0",
                                    "5": "1",
                                    "6": "58"
                                },
                                {
                                    "0": "265433",
                                    "1": "12184",
                                    "2": "12184",
                                    "3": "0",
                                    "4": "0",
                                    "5": "1",
                                    "6": "59"
                                },
                                {
                                    "0": "109227",
                                    "1": "5896",
                                    "2": "5896",
                                    "3": "0",
                                    "4": "0",
                                    "5": "1",
                                    "6": "60"
                                }
                            ]
                        },
                        "text/html": [
                            "<table>",
                            "<tr><th>ROWS</th><th>RESERVED_SPACE</th><th>DATA_SPACE</th><th>INDEX_SPACE</th><th>UNUSED_SPACE</th><th>PDW_NODE_ID</th><th>DISTRIBUTION_ID</th></tr>",
                            "<tr><td>160129</td><td>8104</td><td>8104</td><td>0</td><td>0</td><td>1</td><td>1</td></tr>",
                            "<tr><td>189690</td><td>9312</td><td>9312</td><td>0</td><td>0</td><td>1</td><td>2</td></tr>",
                            "<tr><td>79581</td><td>15776</td><td>15528</td><td>88</td><td>160</td><td>1</td><td>3</td></tr>",
                            "<tr><td>290153</td><td>13200</td><td>13200</td><td>0</td><td>0</td><td>1</td><td>4</td></tr>",
                            "<tr><td>164567</td><td>8312</td><td>8312</td><td>0</td><td>0</td><td>1</td><td>5</td></tr>",
                            "<tr><td>131654</td><td>6896</td><td>6896</td><td>0</td><td>0</td><td>1</td><td>6</td></tr>",
                            "<tr><td>138885</td><td>7208</td><td>7208</td><td>0</td><td>0</td><td>1</td><td>7</td></tr>",
                            "<tr><td>327821</td><td>14600</td><td>14600</td><td>0</td><td>0</td><td>1</td><td>8</td></tr>",
                            "<tr><td>167829</td><td>8392</td><td>8392</td><td>0</td><td>0</td><td>1</td><td>9</td></tr>",
                            "<tr><td>190106</td><td>9344</td><td>9344</td><td>0</td><td>0</td><td>1</td><td>10</td></tr>",
                            "<tr><td>160251</td><td>8120</td><td>8120</td><td>0</td><td>0</td><td>1</td><td>11</td></tr>",
                            "<tr><td>177311</td><td>8784</td><td>8784</td><td>0</td><td>0</td><td>1</td><td>12</td></tr>",
                            "<tr><td>229085</td><td>10840</td><td>10840</td><td>0</td><td>0</td><td>1</td><td>13</td></tr>",
                            "<tr><td>175476</td><td>8760</td><td>8760</td><td>0</td><td>0</td><td>1</td><td>14</td></tr>",
                            "<tr><td>241796</td><td>11408</td><td>11408</td><td>0</td><td>0</td><td>1</td><td>15</td></tr>",
                            "<tr><td>136246</td><td>7080</td><td>7080</td><td>0</td><td>0</td><td>1</td><td>16</td></tr>",
                            "<tr><td>268470</td><td>12488</td><td>12488</td><td>0</td><td>0</td><td>1</td><td>17</td></tr>",
                            "<tr><td>176585</td><td>8776</td><td>8776</td><td>0</td><td>0</td><td>1</td><td>18</td></tr>",
                            "<tr><td>147384</td><td>7568</td><td>7568</td><td>0</td><td>0</td><td>1</td><td>19</td></tr>",
                            "<tr><td>59297</td><td>11808</td><td>11576</td><td>80</td><td>152</td><td>1</td><td>20</td></tr>",
                            "<tr><td>135111</td><td>7072</td><td>7072</td><td>0</td><td>0</td><td>1</td><td>21</td></tr>",
                            "<tr><td>216538</td><td>10320</td><td>10320</td><td>0</td><td>0</td><td>1</td><td>22</td></tr>",
                            "<tr><td>232428</td><td>10936</td><td>10936</td><td>0</td><td>0</td><td>1</td><td>23</td></tr>",
                            "<tr><td>142740</td><td>7424</td><td>7424</td><td>0</td><td>0</td><td>1</td><td>24</td></tr>",
                            "<tr><td>216729</td><td>10368</td><td>10368</td><td>0</td><td>0</td><td>1</td><td>25</td></tr>",
                            "<tr><td>164516</td><td>8320</td><td>8320</td><td>0</td><td>0</td><td>1</td><td>26</td></tr>",
                            "<tr><td>139857</td><td>7280</td><td>7280</td><td>0</td><td>0</td><td>1</td><td>27</td></tr>",
                            "<tr><td>166078</td><td>8384</td><td>8384</td><td>0</td><td>0</td><td>1</td><td>28</td></tr>",
                            "<tr><td>304561</td><td>13736</td><td>13736</td><td>0</td><td>0</td><td>1</td><td>29</td></tr>",
                            "<tr><td>148395</td><td>7624</td><td>7624</td><td>0</td><td>0</td><td>1</td><td>30</td></tr>",
                            "<tr><td>213883</td><td>10360</td><td>10360</td><td>0</td><td>0</td><td>1</td><td>31</td></tr>",
                            "<tr><td>136340</td><td>7128</td><td>7128</td><td>0</td><td>0</td><td>1</td><td>32</td></tr>",
                            "<tr><td>0</td><td>0</td><td>0</td><td>0</td><td>0</td><td>1</td><td>33</td></tr>",
                            "<tr><td>312579</td><td>14048</td><td>14048</td><td>0</td><td>0</td><td>1</td><td>34</td></tr>",
                            "<tr><td>112557</td><td>6056</td><td>6056</td><td>0</td><td>0</td><td>1</td><td>35</td></tr>",
                            "<tr><td>163527</td><td>8232</td><td>8232</td><td>0</td><td>0</td><td>1</td><td>36</td></tr>",
                            "<tr><td>82220</td><td>16288</td><td>16048</td><td>96</td><td>144</td><td>1</td><td>37</td></tr>",
                            "<tr><td>53660</td><td>10720</td><td>10472</td><td>72</td><td>176</td><td>1</td><td>38</td></tr>",
                            "<tr><td>164931</td><td>8344</td><td>8344</td><td>0</td><td>0</td><td>1</td><td>39</td></tr>",
                            "<tr><td>113139</td><td>6048</td><td>6048</td><td>0</td><td>0</td><td>1</td><td>40</td></tr>",
                            "<tr><td>134646</td><td>6992</td><td>6992</td><td>0</td><td>0</td><td>1</td><td>41</td></tr>",
                            "<tr><td>189293</td><td>9272</td><td>9272</td><td>0</td><td>0</td><td>1</td><td>42</td></tr>",
                            "<tr><td>29275</td><td>5976</td><td>5720</td><td>48</td><td>208</td><td>1</td><td>43</td></tr>",
                            "<tr><td>157220</td><td>7984</td><td>7984</td><td>0</td><td>0</td><td>1</td><td>44</td></tr>",
                            "<tr><td>148174</td><td>7608</td><td>7608</td><td>0</td><td>0</td><td>1</td><td>45</td></tr>",
                            "<tr><td>162645</td><td>8320</td><td>8320</td><td>0</td><td>0</td><td>1</td><td>46</td></tr>",
                            "<tr><td>257723</td><td>12024</td><td>12024</td><td>0</td><td>0</td><td>1</td><td>47</td></tr>",
                            "<tr><td>115192</td><td>6160</td><td>6160</td><td>0</td><td>0</td><td>1</td><td>48</td></tr>",
                            "<tr><td>212118</td><td>10312</td><td>10312</td><td>0</td><td>0</td><td>1</td><td>49</td></tr>",
                            "<tr><td>125788</td><td>6648</td><td>6648</td><td>0</td><td>0</td><td>1</td><td>50</td></tr>",
                            "<tr><td>200121</td><td>9760</td><td>9760</td><td>0</td><td>0</td><td>1</td><td>51</td></tr>",
                            "<tr><td>163269</td><td>8248</td><td>8248</td><td>0</td><td>0</td><td>1</td><td>52</td></tr>",
                            "<tr><td>141063</td><td>7272</td><td>7272</td><td>0</td><td>0</td><td>1</td><td>53</td></tr>",
                            "<tr><td>103930</td><td>5576</td><td>5576</td><td>0</td><td>0</td><td>1</td><td>54</td></tr>",
                            "<tr><td>59825</td><td>11936</td><td>11680</td><td>80</td><td>176</td><td>1</td><td>55</td></tr>",
                            "<tr><td>230406</td><td>11056</td><td>11056</td><td>0</td><td>0</td><td>1</td><td>56</td></tr>",
                            "<tr><td>164157</td><td>8240</td><td>8240</td><td>0</td><td>0</td><td>1</td><td>57</td></tr>",
                            "<tr><td>198390</td><td>9592</td><td>9592</td><td>0</td><td>0</td><td>1</td><td>58</td></tr>",
                            "<tr><td>265433</td><td>12184</td><td>12184</td><td>0</td><td>0</td><td>1</td><td>59</td></tr>",
                            "<tr><td>109227</td><td>5896</td><td>5896</td><td>0</td><td>0</td><td>1</td><td>60</td></tr>",
                            "</table>"
                        ]
                    }
                }
            ],
            "execution_count": 1
        },
        {
            "cell_type": "markdown",
            "source": [
                "Query 2\n",
                "\n",
                "Shows duration and plans for inserts"
            ],
            "metadata": {
                "language": "sql",
                "azdata_cell_guid": "ee05b79c-f1fa-450c-8d1c-1b6020304b78"
            },
            "attachments": {}
        },
        {
            "cell_type": "code",
            "source": [
                "-- Query 2\r\n",
                "select 'hash', total_elapsed_time \r\n",
                "    from sys.dm_pdw_exec_requests  as t \r\n",
                "    where t.[label] = 'INSERT hash'\r\n",
                "    order by start_time desc \r\n",
                "\r\n",
                "select 'rr', total_elapsed_time \r\n",
                "    from sys.dm_pdw_exec_requests  as t \r\n",
                "    where t.[label] = 'INSERT rr'\r\n",
                "    order by start_time desc \r\n",
                "\r\n",
                "select * from sys.dm_pdw_request_steps as t \r\n",
                "where request_id =\r\n",
                "(\r\n",
                "    select top(1) request_id \r\n",
                "    from sys.dm_pdw_exec_requests  as t \r\n",
                "    where t.[label] = 'INSERT hash'\r\n",
                "    order by start_time desc \r\n",
                ")\r\n",
                "\r\n",
                "select * from sys.dm_pdw_request_steps as t \r\n",
                "where request_id =\r\n",
                "(\r\n",
                "    select top(1) request_id \r\n",
                "    from sys.dm_pdw_exec_requests  as t \r\n",
                "    where t.[label] = 'INSERT rr'\r\n",
                "    order by start_time desc \r\n",
                ")\r\n",
                "\r\n",
                ""
            ],
            "metadata": {
                "language": "sql",
                "azdata_cell_guid": "07118921-5a4d-47a5-a328-527481f22b78"
            },
            "outputs": [
                {
                    "output_type": "display_data",
                    "data": {
                        "text/html": "(1 row affected)"
                    },
                    "metadata": {}
                },
                {
                    "output_type": "display_data",
                    "data": {
                        "text/html": "(1 row affected)"
                    },
                    "metadata": {}
                },
                {
                    "output_type": "display_data",
                    "data": {
                        "text/html": "(12 rows affected)"
                    },
                    "metadata": {}
                },
                {
                    "output_type": "display_data",
                    "data": {
                        "text/html": "(8 rows affected)"
                    },
                    "metadata": {}
                },
                {
                    "output_type": "display_data",
                    "data": {
                        "text/html": "Total execution time: 00:00:00.605"
                    },
                    "metadata": {}
                },
                {
                    "output_type": "execute_result",
                    "metadata": {},
                    "execution_count": 2,
                    "data": {
                        "application/vnd.dataresource+json": {
                            "schema": {
                                "fields": [
                                    {
                                        "name": "(No column name)"
                                    },
                                    {
                                        "name": "total_elapsed_time"
                                    }
                                ]
                            },
                            "data": [
                                {
                                    "0": "hash",
                                    "1": "170079"
                                }
                            ]
                        },
                        "text/html": [
                            "<table>",
                            "<tr><th>(No column name)</th><th>total_elapsed_time</th></tr>",
                            "<tr><td>hash</td><td>170079</td></tr>",
                            "</table>"
                        ]
                    }
                },
                {
                    "output_type": "execute_result",
                    "metadata": {},
                    "execution_count": 2,
                    "data": {
                        "application/vnd.dataresource+json": {
                            "schema": {
                                "fields": [
                                    {
                                        "name": "(No column name)"
                                    },
                                    {
                                        "name": "total_elapsed_time"
                                    }
                                ]
                            },
                            "data": [
                                {
                                    "0": "rr",
                                    "1": "142563"
                                }
                            ]
                        },
                        "text/html": [
                            "<table>",
                            "<tr><th>(No column name)</th><th>total_elapsed_time</th></tr>",
                            "<tr><td>rr</td><td>142563</td></tr>",
                            "</table>"
                        ]
                    }
                },
                {
                    "output_type": "execute_result",
                    "metadata": {},
                    "execution_count": 2,
                    "data": {
                        "application/vnd.dataresource+json": {
                            "schema": {
                                "fields": [
                                    {
                                        "name": "request_id"
                                    },
                                    {
                                        "name": "step_index"
                                    },
                                    {
                                        "name": "plan_node_id"
                                    },
                                    {
                                        "name": "operation_type"
                                    },
                                    {
                                        "name": "distribution_type"
                                    },
                                    {
                                        "name": "location_type"
                                    },
                                    {
                                        "name": "status"
                                    },
                                    {
                                        "name": "error_id"
                                    },
                                    {
                                        "name": "start_time"
                                    },
                                    {
                                        "name": "end_time"
                                    },
                                    {
                                        "name": "total_elapsed_time"
                                    },
                                    {
                                        "name": "row_count"
                                    },
                                    {
                                        "name": "estimated_rows"
                                    },
                                    {
                                        "name": "command"
                                    }
                                ]
                            },
                            "data": [
                                {
                                    "0": "QID33805",
                                    "1": "0",
                                    "2": "-1",
                                    "3": "OnOperation",
                                    "4": "Unspecified",
                                    "5": "Control",
                                    "6": "Complete",
                                    "7": "NULL",
                                    "8": "2023-05-12 08:17:46.563",
                                    "9": "2023-05-12 08:17:46.580",
                                    "10": "15",
                                    "11": "-1",
                                    "12": "-1",
                                    "13": "CREATE TABLE [tempdb].[QTables].[QTable_9ba85b8bd1864394b07a75ba75d14f5a] ([DateID] INT NOT NULL, [MedallionID] INT NOT NULL, [HackneyLicenseID] INT NOT NULL, [PickupTimeID] INT NOT NULL, [DropoffTimeID] INT NOT NULL, [PickupGeographyID] INT, [DropoffGeographyID] INT, [PickupLatitude] FLOAT(53), [PickupLongitude] FLOAT(53), [PickupLatLong] VARCHAR(50) COLLATE SQL_Latin1_General_CP1_CI_AS, [DropoffLatitude] FLOAT(53), [DropoffLongitude] FLOAT(53), [DropoffLatLong] VARCHAR(50) COLLATE SQL_Latin1_General_CP1_CI_AS, [PassengerCount] INT, [TripDurationSeconds] INT, [TripDistanceMiles] FLOAT(53), [PaymentType] VARCHAR(50) COLLATE SQL_Latin1_General_CP1_CI_AS, [FareAmount] MONEY, [SurchargeAmount] MONEY, [TaxAmount] MONEY, [TipAmount] MONEY, [TollsAmount] MONEY, [TotalAmount] MONEY ) WITH(DISTRIBUTED_MOVE_FILE='');"
                                },
                                {
                                    "0": "QID33805",
                                    "1": "1",
                                    "2": "11",
                                    "3": "PartitionMoveOperation",
                                    "4": "AllDistributions",
                                    "5": "Compute",
                                    "6": "Complete",
                                    "7": "NULL",
                                    "8": "2023-05-12 08:17:46.580",
                                    "9": "2023-05-12 08:18:58.173",
                                    "10": "71594",
                                    "11": "170261325",
                                    "12": "10000000",
                                    "13": "SELECT [T1_1].[DateID] AS [DateID], [T1_1].[MedallionID] AS [MedallionID], [T1_1].[HackneyLicenseID] AS [HackneyLicenseID], [T1_1].[PickupTimeID] AS [PickupTimeID], [T1_1].[DropoffTimeID] AS [DropoffTimeID], [T1_1].[PickupGeographyID] AS [PickupGeographyID], [T1_1].[DropoffGeographyID] AS [DropoffGeographyID], [T1_1].[PickupLatitude] AS [PickupLatitude], [T1_1].[PickupLongitude] AS [PickupLongitude], [T1_1].[PickupLatLong] AS [PickupLatLong], [T1_1].[DropoffLatitude] AS [DropoffLatitude], [T1_1].[DropoffLongitude] AS [DropoffLongitude], [T1_1].[DropoffLatLong] AS [DropoffLatLong], [T1_1].[PassengerCount] AS [PassengerCount], [T1_1].[TripDurationSeconds] AS [TripDurationSeconds], [T1_1].[TripDistanceMiles] AS [TripDistanceMiles], [T1_1].[PaymentType] AS [PaymentType], [T1_1].[FareAmount] AS [FareAmount], [T1_1].[SurchargeAmount] AS [SurchargeAmount], [T1_1].[TaxAmount] AS [TaxAmount], [T1_1].[TipAmount] AS [TipAmount], [T1_1].[TollsAmount] AS [TollsAmount], [T1_1].[TotalAmount] AS [TotalAmount] FROM (SELECT TOP (CAST ((10000000) AS BIGINT)) [T2_1].[DateID] AS [DateID], [T2_1].[MedallionID] AS [MedallionID], [T2_1].[HackneyLicenseID] AS [HackneyLicenseID], [T2_1].[PickupTimeID] AS [PickupTimeID], [T2_1].[DropoffTimeID] AS [DropoffTimeID], [T2_1].[PickupGeographyID] AS [PickupGeographyID], [T2_1].[DropoffGeographyID] AS [DropoffGeographyID], [T2_1].[PickupLatitude] AS [PickupLatitude], [T2_1].[PickupLongitude] AS [PickupLongitude], [T2_1].[PickupLatLong] AS [PickupLatLong], [T2_1].[DropoffLatitude] AS [DropoffLatitude], [T2_1].[DropoffLongitude] AS [DropoffLongitude], [T2_1].[DropoffLatLong] AS [DropoffLatLong], [T2_1].[PassengerCount] AS [PassengerCount], [T2_1].[TripDurationSeconds] AS [TripDurationSeconds], [T2_1].[TripDistanceMiles] AS [TripDistanceMiles], [T2_1].[PaymentType] AS [PaymentType], [T2_1].[FareAmount] AS [FareAmount], [T2_1].[SurchargeAmount] AS [SurchargeAmount], [T2_1].[TaxAmount] AS [TaxAmount], [T2_1].[TipAmount] AS [TipAmount], [T2_1].[TollsAmount] AS [TollsAmount], [T2_1].[TotalAmount] AS [TotalAmount] FROM [dsqlpool].[dbo].[Trip] AS T2_1) AS T1_1\r\nOPTION (MAXDOP 1, MIN_GRANT_PERCENT = [MIN_GRANT], DISTRIBUTED_MOVE(N''), MAX_GRANT_PERCENT = [MAX_GRANT])"
                                },
                                {
                                    "0": "QID33805",
                                    "1": "2",
                                    "2": "-1",
                                    "3": "RandomIDOperation",
                                    "4": "Unspecified",
                                    "5": "Control",
                                    "6": "Complete",
                                    "7": "NULL",
                                    "8": "2023-05-12 08:18:58.173",
                                    "9": "2023-05-12 08:18:58.173",
                                    "10": "0",
                                    "11": "-1",
                                    "12": "-1",
                                    "13": "TEMP_ID_27"
                                },
                                {
                                    "0": "QID33805",
                                    "1": "3",
                                    "2": "-1",
                                    "3": "OnOperation",
                                    "4": "AllComputeNodes",
                                    "5": "Compute",
                                    "6": "Complete",
                                    "7": "NULL",
                                    "8": "2023-05-12 08:18:58.173",
                                    "9": "2023-05-12 08:18:58.237",
                                    "10": "62",
                                    "11": "-1",
                                    "12": "-1",
                                    "13": "CREATE TABLE [tempdb].[dbo].[TEMP_ID_27] ([DateID] INT NOT NULL, [MedallionID] INT NOT NULL, [HackneyLicenseID] INT NOT NULL, [PickupTimeID] INT NOT NULL, [DropoffTimeID] INT NOT NULL, [PickupGeographyID] INT, [DropoffGeographyID] INT, [PickupLatitude] FLOAT(53), [PickupLongitude] FLOAT(53), [PickupLatLong] VARCHAR(50) COLLATE SQL_Latin1_General_CP1_CI_AS, [DropoffLatitude] FLOAT(53), [DropoffLongitude] FLOAT(53), [DropoffLatLong] VARCHAR(50) COLLATE SQL_Latin1_General_CP1_CI_AS, [PassengerCount] INT, [TripDurationSeconds] INT, [TripDistanceMiles] FLOAT(53), [PaymentType] VARCHAR(50) COLLATE SQL_Latin1_General_CP1_CI_AS, [FareAmount] MONEY, [SurchargeAmount] MONEY, [TaxAmount] MONEY, [TipAmount] MONEY, [TollsAmount] MONEY, [TotalAmount] MONEY ) WITH(DATA_COMPRESSION=PAGE);"
                                },
                                {
                                    "0": "QID33805",
                                    "1": "4",
                                    "2": "-1",
                                    "3": "MoveOperation",
                                    "4": "Unspecified",
                                    "5": "DMS",
                                    "6": "Complete",
                                    "7": "NULL",
                                    "8": "2023-05-12 08:18:58.237",
                                    "9": "2023-05-12 08:19:29.767",
                                    "10": "31531",
                                    "11": "10000000",
                                    "12": "10000000",
                                    "13": "SELECT [T1_1].[DateID] AS [DateID], [T1_1].[MedallionID] AS [MedallionID], [T1_1].[HackneyLicenseID] AS [HackneyLicenseID], [T1_1].[PickupTimeID] AS [PickupTimeID], [T1_1].[DropoffTimeID] AS [DropoffTimeID], [T1_1].[PickupGeographyID] AS [PickupGeographyID], [T1_1].[DropoffGeographyID] AS [DropoffGeographyID], [T1_1].[PickupLatitude] AS [PickupLatitude], [T1_1].[PickupLongitude] AS [PickupLongitude], [T1_1].[PickupLatLong] AS [PickupLatLong], [T1_1].[DropoffLatitude] AS [DropoffLatitude], [T1_1].[DropoffLongitude] AS [DropoffLongitude], [T1_1].[DropoffLatLong] AS [DropoffLatLong], [T1_1].[PassengerCount] AS [PassengerCount], [T1_1].[TripDurationSeconds] AS [TripDurationSeconds], [T1_1].[TripDistanceMiles] AS [TripDistanceMiles], [T1_1].[PaymentType] AS [PaymentType], [T1_1].[FareAmount] AS [FareAmount], [T1_1].[SurchargeAmount] AS [SurchargeAmount], [T1_1].[TaxAmount] AS [TaxAmount], [T1_1].[TipAmount] AS [TipAmount], [T1_1].[TollsAmount] AS [TollsAmount], [T1_1].[TotalAmount] AS [TotalAmount] FROM (SELECT TOP (CAST ((10000000) AS BIGINT)) [T2_1].[DateID] AS [DateID], [T2_1].[MedallionID] AS [MedallionID], [T2_1].[HackneyLicenseID] AS [HackneyLicenseID], [T2_1].[PickupTimeID] AS [PickupTimeID], [T2_1].[DropoffTimeID] AS [DropoffTimeID], [T2_1].[PickupGeographyID] AS [PickupGeographyID], [T2_1].[DropoffGeographyID] AS [DropoffGeographyID], [T2_1].[PickupLatitude] AS [PickupLatitude], [T2_1].[PickupLongitude] AS [PickupLongitude], [T2_1].[PickupLatLong] AS [PickupLatLong], [T2_1].[DropoffLatitude] AS [DropoffLatitude], [T2_1].[DropoffLongitude] AS [DropoffLongitude], [T2_1].[DropoffLatLong] AS [DropoffLatLong], [T2_1].[PassengerCount] AS [PassengerCount], [T2_1].[TripDurationSeconds] AS [TripDurationSeconds], [T2_1].[TripDistanceMiles] AS [TripDistanceMiles], [T2_1].[PaymentType] AS [PaymentType], [T2_1].[FareAmount] AS [FareAmount], [T2_1].[SurchargeAmount] AS [SurchargeAmount], [T2_1].[TaxAmount] AS [TaxAmount], [T2_1].[TipAmount] AS [TipAmount], [T2_1].[TollsAmount] AS [TollsAmount], [T2_1].[TotalAmount] AS [TotalAmount] FROM [tempdb].[QTables].[QTable_9ba85b8bd1864394b07a75ba75d14f5a] AS T2_1) AS T1_1\r\nOPTION (MAXDOP 1, MAX_GRANT_PERCENT = [MAX_GRANT])"
                                },
                                {
                                    "0": "QID33805",
                                    "1": "5",
                                    "2": "-1",
                                    "3": "OnOperation",
                                    "4": "Unspecified",
                                    "5": "Control",
                                    "6": "Complete",
                                    "7": "NULL",
                                    "8": "2023-05-12 08:19:29.767",
                                    "9": "2023-05-12 08:19:29.767",
                                    "10": "0",
                                    "11": "-1",
                                    "12": "-1",
                                    "13": "DROP TABLE [tempdb].[QTables].[QTable_9ba85b8bd1864394b07a75ba75d14f5a]"
                                },
                                {
                                    "0": "QID33805",
                                    "1": "6",
                                    "2": "-1",
                                    "3": "RandomIDOperation",
                                    "4": "Unspecified",
                                    "5": "Control",
                                    "6": "Complete",
                                    "7": "NULL",
                                    "8": "2023-05-12 08:19:29.767",
                                    "9": "2023-05-12 08:19:29.767",
                                    "10": "0",
                                    "11": "-1",
                                    "12": "-1",
                                    "13": "TEMP_ID_28"
                                },
                                {
                                    "0": "QID33805",
                                    "1": "7",
                                    "2": "-1",
                                    "3": "OnOperation",
                                    "4": "AllDistributions",
                                    "5": "Compute",
                                    "6": "Complete",
                                    "7": "NULL",
                                    "8": "2023-05-12 08:19:29.767",
                                    "9": "2023-05-12 08:19:29.910",
                                    "10": "140",
                                    "11": "-1",
                                    "12": "-1",
                                    "13": "CREATE TABLE [tempdb].[dbo].[TEMP_ID_28] ([DateID] INT NOT NULL, [MedallionID] INT NOT NULL, [HackneyLicenseID] INT NOT NULL, [PickupTimeID] INT NOT NULL, [DropoffTimeID] INT NOT NULL, [PickupGeographyID] INT, [DropoffGeographyID] INT, [PickupLatitude] FLOAT(53), [PickupLongitude] FLOAT(53), [PickupLatLong] VARCHAR(50) COLLATE SQL_Latin1_General_CP1_CI_AS, [DropoffLatitude] FLOAT(53), [DropoffLongitude] FLOAT(53), [DropoffLatLong] VARCHAR(50) COLLATE SQL_Latin1_General_CP1_CI_AS, [PassengerCount] INT, [TripDurationSeconds] INT, [TripDistanceMiles] FLOAT(53), [PaymentType] VARCHAR(50) COLLATE SQL_Latin1_General_CP1_CI_AS, [FareAmount] MONEY, [SurchargeAmount] MONEY, [TaxAmount] MONEY, [TipAmount] MONEY, [TollsAmount] MONEY, [TotalAmount] MONEY ) WITH(DATA_COMPRESSION=PAGE);"
                                },
                                {
                                    "0": "QID33805",
                                    "1": "8",
                                    "2": "-1",
                                    "3": "TrimMoveOperation",
                                    "4": "Unspecified",
                                    "5": "DMS",
                                    "6": "Complete",
                                    "7": "NULL",
                                    "8": "2023-05-12 08:19:29.910",
                                    "9": "2023-05-12 08:20:16.643",
                                    "10": "46734",
                                    "11": "10000000",
                                    "12": "10000000",
                                    "13": "SELECT [T1_1].[DateID] AS [DateID], [T1_1].[MedallionID] AS [MedallionID], [T1_1].[HackneyLicenseID] AS [HackneyLicenseID], [T1_1].[PickupTimeID] AS [PickupTimeID], [T1_1].[DropoffTimeID] AS [DropoffTimeID], [T1_1].[PickupGeographyID] AS [PickupGeographyID], [T1_1].[DropoffGeographyID] AS [DropoffGeographyID], [T1_1].[PickupLatitude] AS [PickupLatitude], [T1_1].[PickupLongitude] AS [PickupLongitude], [T1_1].[PickupLatLong] AS [PickupLatLong], [T1_1].[DropoffLatitude] AS [DropoffLatitude], [T1_1].[DropoffLongitude] AS [DropoffLongitude], [T1_1].[DropoffLatLong] AS [DropoffLatLong], [T1_1].[PassengerCount] AS [PassengerCount], [T1_1].[TripDurationSeconds] AS [TripDurationSeconds], [T1_1].[TripDistanceMiles] AS [TripDistanceMiles], [T1_1].[PaymentType] AS [PaymentType], [T1_1].[FareAmount] AS [FareAmount], [T1_1].[SurchargeAmount] AS [SurchargeAmount], [T1_1].[TaxAmount] AS [TaxAmount], [T1_1].[TipAmount] AS [TipAmount], [T1_1].[TollsAmount] AS [TollsAmount], [T1_1].[TotalAmount] AS [TotalAmount] FROM [tempdb].[dbo].[TEMP_ID_27] AS T1_1\r\nOPTION (MAXDOP 1, MAX_GRANT_PERCENT = [MAX_GRANT])"
                                },
                                {
                                    "0": "QID33805",
                                    "1": "9",
                                    "2": "-1",
                                    "3": "OnOperation",
                                    "4": "AllComputeNodes",
                                    "5": "Compute",
                                    "6": "Complete",
                                    "7": "NULL",
                                    "8": "2023-05-12 08:20:16.643",
                                    "9": "2023-05-12 08:20:16.660",
                                    "10": "15",
                                    "11": "-1",
                                    "12": "-1",
                                    "13": "DROP TABLE [tempdb].[dbo].[TEMP_ID_27]"
                                },
                                {
                                    "0": "QID33805",
                                    "1": "10",
                                    "2": "-1",
                                    "3": "OnOperation",
                                    "4": "AllDistributions",
                                    "5": "Compute",
                                    "6": "Complete",
                                    "7": "NULL",
                                    "8": "2023-05-12 08:20:16.660",
                                    "9": "2023-05-12 08:20:36.270",
                                    "10": "19609",
                                    "11": "10000000",
                                    "12": "-1",
                                    "13": "INSERT INTO [dsqlpool].[dbo].[Trip_hash] WITH (TABLOCK) ([DateID], [MedallionID], [HackneyLicenseID], [PickupTimeID], [DropoffTimeID], [PickupGeographyID], [DropoffGeographyID], [PickupLatitude], [PickupLongitude], [PickupLatLong], [DropoffLatitude], [DropoffLongitude], [DropoffLatLong], [PassengerCount], [TripDurationSeconds], [TripDistanceMiles], [PaymentType], [FareAmount], [SurchargeAmount], [TaxAmount], [TipAmount], [TollsAmount], [TotalAmount])\r\nSELECT [T1_1].[DateID], [T1_1].[MedallionID], [T1_1].[HackneyLicenseID], [T1_1].[PickupTimeID], [T1_1].[DropoffTimeID], [T1_1].[PickupGeographyID], [T1_1].[DropoffGeographyID], [T1_1].[PickupLatitude], [T1_1].[PickupLongitude], [T1_1].[PickupLatLong], [T1_1].[DropoffLatitude], [T1_1].[DropoffLongitude], [T1_1].[DropoffLatLong], [T1_1].[PassengerCount], [T1_1].[TripDurationSeconds], [T1_1].[TripDistanceMiles], [T1_1].[PaymentType], [T1_1].[FareAmount], [T1_1].[SurchargeAmount], [T1_1].[TaxAmount], [T1_1].[TipAmount], [T1_1].[TollsAmount], [T1_1].[TotalAmount] FROM [tempdb].[dbo].[TEMP_ID_28] AS T1_1\r\nOPTION (MAXDOP 1, MAX_GRANT_PERCENT = [MAX_GRANT])"
                                },
                                {
                                    "0": "QID33805",
                                    "1": "11",
                                    "2": "-1",
                                    "3": "OnOperation",
                                    "4": "AllDistributions",
                                    "5": "Compute",
                                    "6": "Complete",
                                    "7": "NULL",
                                    "8": "2023-05-12 08:20:36.270",
                                    "9": "2023-05-12 08:20:36.347",
                                    "10": "78",
                                    "11": "-1",
                                    "12": "-1",
                                    "13": "DROP TABLE [tempdb].[dbo].[TEMP_ID_28]"
                                }
                            ]
                        },
                        "text/html": [
                            "<table>",
                            "<tr><th>request_id</th><th>step_index</th><th>plan_node_id</th><th>operation_type</th><th>distribution_type</th><th>location_type</th><th>status</th><th>error_id</th><th>start_time</th><th>end_time</th><th>total_elapsed_time</th><th>row_count</th><th>estimated_rows</th><th>command</th></tr>",
                            "<tr><td>QID33805</td><td>0</td><td>-1</td><td>OnOperation</td><td>Unspecified</td><td>Control</td><td>Complete</td><td>NULL</td><td>2023-05-12 08:17:46.563</td><td>2023-05-12 08:17:46.580</td><td>15</td><td>-1</td><td>-1</td><td>CREATE TABLE [tempdb].[QTables].[QTable_9ba85b8bd1864394b07a75ba75d14f5a] ([DateID] INT NOT NULL, [MedallionID] INT NOT NULL, [HackneyLicenseID] INT NOT NULL, [PickupTimeID] INT NOT NULL, [DropoffTimeID] INT NOT NULL, [PickupGeographyID] INT, [DropoffGeographyID] INT, [PickupLatitude] FLOAT(53), [PickupLongitude] FLOAT(53), [PickupLatLong] VARCHAR(50) COLLATE SQL_Latin1_General_CP1_CI_AS, [DropoffLatitude] FLOAT(53), [DropoffLongitude] FLOAT(53), [DropoffLatLong] VARCHAR(50) COLLATE SQL_Latin1_General_CP1_CI_AS, [PassengerCount] INT, [TripDurationSeconds] INT, [TripDistanceMiles] FLOAT(53), [PaymentType] VARCHAR(50) COLLATE SQL_Latin1_General_CP1_CI_AS, [FareAmount] MONEY, [SurchargeAmount] MONEY, [TaxAmount] MONEY, [TipAmount] MONEY, [TollsAmount] MONEY, [TotalAmount] MONEY ) WITH(DISTRIBUTED_MOVE_FILE='');</td></tr>",
                            "<tr><td>QID33805</td><td>1</td><td>11</td><td>PartitionMoveOperation</td><td>AllDistributions</td><td>Compute</td><td>Complete</td><td>NULL</td><td>2023-05-12 08:17:46.580</td><td>2023-05-12 08:18:58.173</td><td>71594</td><td>170261325</td><td>10000000</td><td>SELECT [T1_1].[DateID] AS [DateID], [T1_1].[MedallionID] AS [MedallionID], [T1_1].[HackneyLicenseID] AS [HackneyLicenseID], [T1_1].[PickupTimeID] AS [PickupTimeID], [T1_1].[DropoffTimeID] AS [DropoffTimeID], [T1_1].[PickupGeographyID] AS [PickupGeographyID], [T1_1].[DropoffGeographyID] AS [DropoffGeographyID], [T1_1].[PickupLatitude] AS [PickupLatitude], [T1_1].[PickupLongitude] AS [PickupLongitude], [T1_1].[PickupLatLong] AS [PickupLatLong], [T1_1].[DropoffLatitude] AS [DropoffLatitude], [T1_1].[DropoffLongitude] AS [DropoffLongitude], [T1_1].[DropoffLatLong] AS [DropoffLatLong], [T1_1].[PassengerCount] AS [PassengerCount], [T1_1].[TripDurationSeconds] AS [TripDurationSeconds], [T1_1].[TripDistanceMiles] AS [TripDistanceMiles], [T1_1].[PaymentType] AS [PaymentType], [T1_1].[FareAmount] AS [FareAmount], [T1_1].[SurchargeAmount] AS [SurchargeAmount], [T1_1].[TaxAmount] AS [TaxAmount], [T1_1].[TipAmount] AS [TipAmount], [T1_1].[TollsAmount] AS [TollsAmount], [T1_1].[TotalAmount] AS [TotalAmount] FROM (SELECT TOP (CAST ((10000000) AS BIGINT)) [T2_1].[DateID] AS [DateID], [T2_1].[MedallionID] AS [MedallionID], [T2_1].[HackneyLicenseID] AS [HackneyLicenseID], [T2_1].[PickupTimeID] AS [PickupTimeID], [T2_1].[DropoffTimeID] AS [DropoffTimeID], [T2_1].[PickupGeographyID] AS [PickupGeographyID], [T2_1].[DropoffGeographyID] AS [DropoffGeographyID], [T2_1].[PickupLatitude] AS [PickupLatitude], [T2_1].[PickupLongitude] AS [PickupLongitude], [T2_1].[PickupLatLong] AS [PickupLatLong], [T2_1].[DropoffLatitude] AS [DropoffLatitude], [T2_1].[DropoffLongitude] AS [DropoffLongitude], [T2_1].[DropoffLatLong] AS [DropoffLatLong], [T2_1].[PassengerCount] AS [PassengerCount], [T2_1].[TripDurationSeconds] AS [TripDurationSeconds], [T2_1].[TripDistanceMiles] AS [TripDistanceMiles], [T2_1].[PaymentType] AS [PaymentType], [T2_1].[FareAmount] AS [FareAmount], [T2_1].[SurchargeAmount] AS [SurchargeAmount], [T2_1].[TaxAmount] AS [TaxAmount], [T2_1].[TipAmount] AS [TipAmount], [T2_1].[TollsAmount] AS [TollsAmount], [T2_1].[TotalAmount] AS [TotalAmount] FROM [dsqlpool].[dbo].[Trip] AS T2_1) AS T1_1\r\nOPTION (MAXDOP 1, MIN_GRANT_PERCENT = [MIN_GRANT], DISTRIBUTED_MOVE(N''), MAX_GRANT_PERCENT = [MAX_GRANT])</td></tr>",
                            "<tr><td>QID33805</td><td>2</td><td>-1</td><td>RandomIDOperation</td><td>Unspecified</td><td>Control</td><td>Complete</td><td>NULL</td><td>2023-05-12 08:18:58.173</td><td>2023-05-12 08:18:58.173</td><td>0</td><td>-1</td><td>-1</td><td>TEMP_ID_27</td></tr>",
                            "<tr><td>QID33805</td><td>3</td><td>-1</td><td>OnOperation</td><td>AllComputeNodes</td><td>Compute</td><td>Complete</td><td>NULL</td><td>2023-05-12 08:18:58.173</td><td>2023-05-12 08:18:58.237</td><td>62</td><td>-1</td><td>-1</td><td>CREATE TABLE [tempdb].[dbo].[TEMP_ID_27] ([DateID] INT NOT NULL, [MedallionID] INT NOT NULL, [HackneyLicenseID] INT NOT NULL, [PickupTimeID] INT NOT NULL, [DropoffTimeID] INT NOT NULL, [PickupGeographyID] INT, [DropoffGeographyID] INT, [PickupLatitude] FLOAT(53), [PickupLongitude] FLOAT(53), [PickupLatLong] VARCHAR(50) COLLATE SQL_Latin1_General_CP1_CI_AS, [DropoffLatitude] FLOAT(53), [DropoffLongitude] FLOAT(53), [DropoffLatLong] VARCHAR(50) COLLATE SQL_Latin1_General_CP1_CI_AS, [PassengerCount] INT, [TripDurationSeconds] INT, [TripDistanceMiles] FLOAT(53), [PaymentType] VARCHAR(50) COLLATE SQL_Latin1_General_CP1_CI_AS, [FareAmount] MONEY, [SurchargeAmount] MONEY, [TaxAmount] MONEY, [TipAmount] MONEY, [TollsAmount] MONEY, [TotalAmount] MONEY ) WITH(DATA_COMPRESSION=PAGE);</td></tr>",
                            "<tr><td>QID33805</td><td>4</td><td>-1</td><td>MoveOperation</td><td>Unspecified</td><td>DMS</td><td>Complete</td><td>NULL</td><td>2023-05-12 08:18:58.237</td><td>2023-05-12 08:19:29.767</td><td>31531</td><td>10000000</td><td>10000000</td><td>SELECT [T1_1].[DateID] AS [DateID], [T1_1].[MedallionID] AS [MedallionID], [T1_1].[HackneyLicenseID] AS [HackneyLicenseID], [T1_1].[PickupTimeID] AS [PickupTimeID], [T1_1].[DropoffTimeID] AS [DropoffTimeID], [T1_1].[PickupGeographyID] AS [PickupGeographyID], [T1_1].[DropoffGeographyID] AS [DropoffGeographyID], [T1_1].[PickupLatitude] AS [PickupLatitude], [T1_1].[PickupLongitude] AS [PickupLongitude], [T1_1].[PickupLatLong] AS [PickupLatLong], [T1_1].[DropoffLatitude] AS [DropoffLatitude], [T1_1].[DropoffLongitude] AS [DropoffLongitude], [T1_1].[DropoffLatLong] AS [DropoffLatLong], [T1_1].[PassengerCount] AS [PassengerCount], [T1_1].[TripDurationSeconds] AS [TripDurationSeconds], [T1_1].[TripDistanceMiles] AS [TripDistanceMiles], [T1_1].[PaymentType] AS [PaymentType], [T1_1].[FareAmount] AS [FareAmount], [T1_1].[SurchargeAmount] AS [SurchargeAmount], [T1_1].[TaxAmount] AS [TaxAmount], [T1_1].[TipAmount] AS [TipAmount], [T1_1].[TollsAmount] AS [TollsAmount], [T1_1].[TotalAmount] AS [TotalAmount] FROM (SELECT TOP (CAST ((10000000) AS BIGINT)) [T2_1].[DateID] AS [DateID], [T2_1].[MedallionID] AS [MedallionID], [T2_1].[HackneyLicenseID] AS [HackneyLicenseID], [T2_1].[PickupTimeID] AS [PickupTimeID], [T2_1].[DropoffTimeID] AS [DropoffTimeID], [T2_1].[PickupGeographyID] AS [PickupGeographyID], [T2_1].[DropoffGeographyID] AS [DropoffGeographyID], [T2_1].[PickupLatitude] AS [PickupLatitude], [T2_1].[PickupLongitude] AS [PickupLongitude], [T2_1].[PickupLatLong] AS [PickupLatLong], [T2_1].[DropoffLatitude] AS [DropoffLatitude], [T2_1].[DropoffLongitude] AS [DropoffLongitude], [T2_1].[DropoffLatLong] AS [DropoffLatLong], [T2_1].[PassengerCount] AS [PassengerCount], [T2_1].[TripDurationSeconds] AS [TripDurationSeconds], [T2_1].[TripDistanceMiles] AS [TripDistanceMiles], [T2_1].[PaymentType] AS [PaymentType], [T2_1].[FareAmount] AS [FareAmount], [T2_1].[SurchargeAmount] AS [SurchargeAmount], [T2_1].[TaxAmount] AS [TaxAmount], [T2_1].[TipAmount] AS [TipAmount], [T2_1].[TollsAmount] AS [TollsAmount], [T2_1].[TotalAmount] AS [TotalAmount] FROM [tempdb].[QTables].[QTable_9ba85b8bd1864394b07a75ba75d14f5a] AS T2_1) AS T1_1\r\nOPTION (MAXDOP 1, MAX_GRANT_PERCENT = [MAX_GRANT])</td></tr>",
                            "<tr><td>QID33805</td><td>5</td><td>-1</td><td>OnOperation</td><td>Unspecified</td><td>Control</td><td>Complete</td><td>NULL</td><td>2023-05-12 08:19:29.767</td><td>2023-05-12 08:19:29.767</td><td>0</td><td>-1</td><td>-1</td><td>DROP TABLE [tempdb].[QTables].[QTable_9ba85b8bd1864394b07a75ba75d14f5a]</td></tr>",
                            "<tr><td>QID33805</td><td>6</td><td>-1</td><td>RandomIDOperation</td><td>Unspecified</td><td>Control</td><td>Complete</td><td>NULL</td><td>2023-05-12 08:19:29.767</td><td>2023-05-12 08:19:29.767</td><td>0</td><td>-1</td><td>-1</td><td>TEMP_ID_28</td></tr>",
                            "<tr><td>QID33805</td><td>7</td><td>-1</td><td>OnOperation</td><td>AllDistributions</td><td>Compute</td><td>Complete</td><td>NULL</td><td>2023-05-12 08:19:29.767</td><td>2023-05-12 08:19:29.910</td><td>140</td><td>-1</td><td>-1</td><td>CREATE TABLE [tempdb].[dbo].[TEMP_ID_28] ([DateID] INT NOT NULL, [MedallionID] INT NOT NULL, [HackneyLicenseID] INT NOT NULL, [PickupTimeID] INT NOT NULL, [DropoffTimeID] INT NOT NULL, [PickupGeographyID] INT, [DropoffGeographyID] INT, [PickupLatitude] FLOAT(53), [PickupLongitude] FLOAT(53), [PickupLatLong] VARCHAR(50) COLLATE SQL_Latin1_General_CP1_CI_AS, [DropoffLatitude] FLOAT(53), [DropoffLongitude] FLOAT(53), [DropoffLatLong] VARCHAR(50) COLLATE SQL_Latin1_General_CP1_CI_AS, [PassengerCount] INT, [TripDurationSeconds] INT, [TripDistanceMiles] FLOAT(53), [PaymentType] VARCHAR(50) COLLATE SQL_Latin1_General_CP1_CI_AS, [FareAmount] MONEY, [SurchargeAmount] MONEY, [TaxAmount] MONEY, [TipAmount] MONEY, [TollsAmount] MONEY, [TotalAmount] MONEY ) WITH(DATA_COMPRESSION=PAGE);</td></tr>",
                            "<tr><td>QID33805</td><td>8</td><td>-1</td><td>TrimMoveOperation</td><td>Unspecified</td><td>DMS</td><td>Complete</td><td>NULL</td><td>2023-05-12 08:19:29.910</td><td>2023-05-12 08:20:16.643</td><td>46734</td><td>10000000</td><td>10000000</td><td>SELECT [T1_1].[DateID] AS [DateID], [T1_1].[MedallionID] AS [MedallionID], [T1_1].[HackneyLicenseID] AS [HackneyLicenseID], [T1_1].[PickupTimeID] AS [PickupTimeID], [T1_1].[DropoffTimeID] AS [DropoffTimeID], [T1_1].[PickupGeographyID] AS [PickupGeographyID], [T1_1].[DropoffGeographyID] AS [DropoffGeographyID], [T1_1].[PickupLatitude] AS [PickupLatitude], [T1_1].[PickupLongitude] AS [PickupLongitude], [T1_1].[PickupLatLong] AS [PickupLatLong], [T1_1].[DropoffLatitude] AS [DropoffLatitude], [T1_1].[DropoffLongitude] AS [DropoffLongitude], [T1_1].[DropoffLatLong] AS [DropoffLatLong], [T1_1].[PassengerCount] AS [PassengerCount], [T1_1].[TripDurationSeconds] AS [TripDurationSeconds], [T1_1].[TripDistanceMiles] AS [TripDistanceMiles], [T1_1].[PaymentType] AS [PaymentType], [T1_1].[FareAmount] AS [FareAmount], [T1_1].[SurchargeAmount] AS [SurchargeAmount], [T1_1].[TaxAmount] AS [TaxAmount], [T1_1].[TipAmount] AS [TipAmount], [T1_1].[TollsAmount] AS [TollsAmount], [T1_1].[TotalAmount] AS [TotalAmount] FROM [tempdb].[dbo].[TEMP_ID_27] AS T1_1\r\nOPTION (MAXDOP 1, MAX_GRANT_PERCENT = [MAX_GRANT])</td></tr>",
                            "<tr><td>QID33805</td><td>9</td><td>-1</td><td>OnOperation</td><td>AllComputeNodes</td><td>Compute</td><td>Complete</td><td>NULL</td><td>2023-05-12 08:20:16.643</td><td>2023-05-12 08:20:16.660</td><td>15</td><td>-1</td><td>-1</td><td>DROP TABLE [tempdb].[dbo].[TEMP_ID_27]</td></tr>",
                            "<tr><td>QID33805</td><td>10</td><td>-1</td><td>OnOperation</td><td>AllDistributions</td><td>Compute</td><td>Complete</td><td>NULL</td><td>2023-05-12 08:20:16.660</td><td>2023-05-12 08:20:36.270</td><td>19609</td><td>10000000</td><td>-1</td><td>INSERT INTO [dsqlpool].[dbo].[Trip_hash] WITH (TABLOCK) ([DateID], [MedallionID], [HackneyLicenseID], [PickupTimeID], [DropoffTimeID], [PickupGeographyID], [DropoffGeographyID], [PickupLatitude], [PickupLongitude], [PickupLatLong], [DropoffLatitude], [DropoffLongitude], [DropoffLatLong], [PassengerCount], [TripDurationSeconds], [TripDistanceMiles], [PaymentType], [FareAmount], [SurchargeAmount], [TaxAmount], [TipAmount], [TollsAmount], [TotalAmount])\r\nSELECT [T1_1].[DateID], [T1_1].[MedallionID], [T1_1].[HackneyLicenseID], [T1_1].[PickupTimeID], [T1_1].[DropoffTimeID], [T1_1].[PickupGeographyID], [T1_1].[DropoffGeographyID], [T1_1].[PickupLatitude], [T1_1].[PickupLongitude], [T1_1].[PickupLatLong], [T1_1].[DropoffLatitude], [T1_1].[DropoffLongitude], [T1_1].[DropoffLatLong], [T1_1].[PassengerCount], [T1_1].[TripDurationSeconds], [T1_1].[TripDistanceMiles], [T1_1].[PaymentType], [T1_1].[FareAmount], [T1_1].[SurchargeAmount], [T1_1].[TaxAmount], [T1_1].[TipAmount], [T1_1].[TollsAmount], [T1_1].[TotalAmount] FROM [tempdb].[dbo].[TEMP_ID_28] AS T1_1\r\nOPTION (MAXDOP 1, MAX_GRANT_PERCENT = [MAX_GRANT])</td></tr>",
                            "<tr><td>QID33805</td><td>11</td><td>-1</td><td>OnOperation</td><td>AllDistributions</td><td>Compute</td><td>Complete</td><td>NULL</td><td>2023-05-12 08:20:36.270</td><td>2023-05-12 08:20:36.347</td><td>78</td><td>-1</td><td>-1</td><td>DROP TABLE [tempdb].[dbo].[TEMP_ID_28]</td></tr>",
                            "</table>"
                        ]
                    }
                },
                {
                    "output_type": "execute_result",
                    "metadata": {},
                    "execution_count": 2,
                    "data": {
                        "application/vnd.dataresource+json": {
                            "schema": {
                                "fields": [
                                    {
                                        "name": "request_id"
                                    },
                                    {
                                        "name": "step_index"
                                    },
                                    {
                                        "name": "plan_node_id"
                                    },
                                    {
                                        "name": "operation_type"
                                    },
                                    {
                                        "name": "distribution_type"
                                    },
                                    {
                                        "name": "location_type"
                                    },
                                    {
                                        "name": "status"
                                    },
                                    {
                                        "name": "error_id"
                                    },
                                    {
                                        "name": "start_time"
                                    },
                                    {
                                        "name": "end_time"
                                    },
                                    {
                                        "name": "total_elapsed_time"
                                    },
                                    {
                                        "name": "row_count"
                                    },
                                    {
                                        "name": "estimated_rows"
                                    },
                                    {
                                        "name": "command"
                                    }
                                ]
                            },
                            "data": [
                                {
                                    "0": "QID33687",
                                    "1": "0",
                                    "2": "-1",
                                    "3": "OnOperation",
                                    "4": "Unspecified",
                                    "5": "Control",
                                    "6": "Complete",
                                    "7": "NULL",
                                    "8": "2023-05-12 08:15:23.720",
                                    "9": "2023-05-12 08:15:23.750",
                                    "10": "31",
                                    "11": "-1",
                                    "12": "-1",
                                    "13": "CREATE TABLE [tempdb].[QTables].[QTable_cc2b84eeb385432489c5e31bae3c72f7] ([DateID] INT NOT NULL, [MedallionID] INT NOT NULL, [HackneyLicenseID] INT NOT NULL, [PickupTimeID] INT NOT NULL, [DropoffTimeID] INT NOT NULL, [PickupGeographyID] INT, [DropoffGeographyID] INT, [PickupLatitude] FLOAT(53), [PickupLongitude] FLOAT(53), [PickupLatLong] VARCHAR(50) COLLATE SQL_Latin1_General_CP1_CI_AS, [DropoffLatitude] FLOAT(53), [DropoffLongitude] FLOAT(53), [DropoffLatLong] VARCHAR(50) COLLATE SQL_Latin1_General_CP1_CI_AS, [PassengerCount] INT, [TripDurationSeconds] INT, [TripDistanceMiles] FLOAT(53), [PaymentType] VARCHAR(50) COLLATE SQL_Latin1_General_CP1_CI_AS, [FareAmount] MONEY, [SurchargeAmount] MONEY, [TaxAmount] MONEY, [TipAmount] MONEY, [TollsAmount] MONEY, [TotalAmount] MONEY ) WITH(DISTRIBUTED_MOVE_FILE='');"
                                },
                                {
                                    "0": "QID33687",
                                    "1": "1",
                                    "2": "11",
                                    "3": "PartitionMoveOperation",
                                    "4": "AllDistributions",
                                    "5": "Compute",
                                    "6": "Complete",
                                    "7": "NULL",
                                    "8": "2023-05-12 08:15:23.750",
                                    "9": "2023-05-12 08:16:57.877",
                                    "10": "94125",
                                    "11": "170261325",
                                    "12": "10000000",
                                    "13": "SELECT [T1_1].[DateID] AS [DateID], [T1_1].[MedallionID] AS [MedallionID], [T1_1].[HackneyLicenseID] AS [HackneyLicenseID], [T1_1].[PickupTimeID] AS [PickupTimeID], [T1_1].[DropoffTimeID] AS [DropoffTimeID], [T1_1].[PickupGeographyID] AS [PickupGeographyID], [T1_1].[DropoffGeographyID] AS [DropoffGeographyID], [T1_1].[PickupLatitude] AS [PickupLatitude], [T1_1].[PickupLongitude] AS [PickupLongitude], [T1_1].[PickupLatLong] AS [PickupLatLong], [T1_1].[DropoffLatitude] AS [DropoffLatitude], [T1_1].[DropoffLongitude] AS [DropoffLongitude], [T1_1].[DropoffLatLong] AS [DropoffLatLong], [T1_1].[PassengerCount] AS [PassengerCount], [T1_1].[TripDurationSeconds] AS [TripDurationSeconds], [T1_1].[TripDistanceMiles] AS [TripDistanceMiles], [T1_1].[PaymentType] AS [PaymentType], [T1_1].[FareAmount] AS [FareAmount], [T1_1].[SurchargeAmount] AS [SurchargeAmount], [T1_1].[TaxAmount] AS [TaxAmount], [T1_1].[TipAmount] AS [TipAmount], [T1_1].[TollsAmount] AS [TollsAmount], [T1_1].[TotalAmount] AS [TotalAmount] FROM (SELECT TOP (CAST ((10000000) AS BIGINT)) [T2_1].[DateID] AS [DateID], [T2_1].[MedallionID] AS [MedallionID], [T2_1].[HackneyLicenseID] AS [HackneyLicenseID], [T2_1].[PickupTimeID] AS [PickupTimeID], [T2_1].[DropoffTimeID] AS [DropoffTimeID], [T2_1].[PickupGeographyID] AS [PickupGeographyID], [T2_1].[DropoffGeographyID] AS [DropoffGeographyID], [T2_1].[PickupLatitude] AS [PickupLatitude], [T2_1].[PickupLongitude] AS [PickupLongitude], [T2_1].[PickupLatLong] AS [PickupLatLong], [T2_1].[DropoffLatitude] AS [DropoffLatitude], [T2_1].[DropoffLongitude] AS [DropoffLongitude], [T2_1].[DropoffLatLong] AS [DropoffLatLong], [T2_1].[PassengerCount] AS [PassengerCount], [T2_1].[TripDurationSeconds] AS [TripDurationSeconds], [T2_1].[TripDistanceMiles] AS [TripDistanceMiles], [T2_1].[PaymentType] AS [PaymentType], [T2_1].[FareAmount] AS [FareAmount], [T2_1].[SurchargeAmount] AS [SurchargeAmount], [T2_1].[TaxAmount] AS [TaxAmount], [T2_1].[TipAmount] AS [TipAmount], [T2_1].[TollsAmount] AS [TollsAmount], [T2_1].[TotalAmount] AS [TotalAmount] FROM [dsqlpool].[dbo].[Trip] AS T2_1) AS T1_1\r\nOPTION (MAXDOP 1, MIN_GRANT_PERCENT = [MIN_GRANT], DISTRIBUTED_MOVE(N''), MAX_GRANT_PERCENT = [MAX_GRANT])"
                                },
                                {
                                    "0": "QID33687",
                                    "1": "2",
                                    "2": "-1",
                                    "3": "RandomIDOperation",
                                    "4": "Unspecified",
                                    "5": "Control",
                                    "6": "Complete",
                                    "7": "NULL",
                                    "8": "2023-05-12 08:16:57.877",
                                    "9": "2023-05-12 08:16:57.877",
                                    "10": "0",
                                    "11": "-1",
                                    "12": "-1",
                                    "13": "TEMP_ID_26"
                                },
                                {
                                    "0": "QID33687",
                                    "1": "3",
                                    "2": "-1",
                                    "3": "OnOperation",
                                    "4": "AllDistributions",
                                    "5": "Compute",
                                    "6": "Complete",
                                    "7": "NULL",
                                    "8": "2023-05-12 08:16:57.877",
                                    "9": "2023-05-12 08:16:58.080",
                                    "10": "203",
                                    "11": "-1",
                                    "12": "-1",
                                    "13": "CREATE TABLE [tempdb].[dbo].[TEMP_ID_26] ([DateID] INT NOT NULL, [MedallionID] INT NOT NULL, [HackneyLicenseID] INT NOT NULL, [PickupTimeID] INT NOT NULL, [DropoffTimeID] INT NOT NULL, [PickupGeographyID] INT, [DropoffGeographyID] INT, [PickupLatitude] FLOAT(53), [PickupLongitude] FLOAT(53), [PickupLatLong] VARCHAR(50) COLLATE SQL_Latin1_General_CP1_CI_AS, [DropoffLatitude] FLOAT(53), [DropoffLongitude] FLOAT(53), [DropoffLatLong] VARCHAR(50) COLLATE SQL_Latin1_General_CP1_CI_AS, [PassengerCount] INT, [TripDurationSeconds] INT, [TripDistanceMiles] FLOAT(53), [PaymentType] VARCHAR(50) COLLATE SQL_Latin1_General_CP1_CI_AS, [FareAmount] MONEY, [SurchargeAmount] MONEY, [TaxAmount] MONEY, [TipAmount] MONEY, [TollsAmount] MONEY, [TotalAmount] MONEY ) WITH(DATA_COMPRESSION=PAGE);"
                                },
                                {
                                    "0": "QID33687",
                                    "1": "4",
                                    "2": "-1",
                                    "3": "SingleSourceRoundRobinMoveOperation",
                                    "4": "Unspecified",
                                    "5": "DMS",
                                    "6": "Complete",
                                    "7": "NULL",
                                    "8": "2023-05-12 08:16:58.080",
                                    "9": "2023-05-12 08:17:30.047",
                                    "10": "31969",
                                    "11": "10000000",
                                    "12": "10000000",
                                    "13": "SELECT [T1_1].[DateID] AS [DateID], [T1_1].[MedallionID] AS [MedallionID], [T1_1].[HackneyLicenseID] AS [HackneyLicenseID], [T1_1].[PickupTimeID] AS [PickupTimeID], [T1_1].[DropoffTimeID] AS [DropoffTimeID], [T1_1].[PickupGeographyID] AS [PickupGeographyID], [T1_1].[DropoffGeographyID] AS [DropoffGeographyID], [T1_1].[PickupLatitude] AS [PickupLatitude], [T1_1].[PickupLongitude] AS [PickupLongitude], [T1_1].[PickupLatLong] AS [PickupLatLong], [T1_1].[DropoffLatitude] AS [DropoffLatitude], [T1_1].[DropoffLongitude] AS [DropoffLongitude], [T1_1].[DropoffLatLong] AS [DropoffLatLong], [T1_1].[PassengerCount] AS [PassengerCount], [T1_1].[TripDurationSeconds] AS [TripDurationSeconds], [T1_1].[TripDistanceMiles] AS [TripDistanceMiles], [T1_1].[PaymentType] AS [PaymentType], [T1_1].[FareAmount] AS [FareAmount], [T1_1].[SurchargeAmount] AS [SurchargeAmount], [T1_1].[TaxAmount] AS [TaxAmount], [T1_1].[TipAmount] AS [TipAmount], [T1_1].[TollsAmount] AS [TollsAmount], [T1_1].[TotalAmount] AS [TotalAmount] FROM (SELECT TOP (CAST ((10000000) AS BIGINT)) [T2_1].[DateID] AS [DateID], [T2_1].[MedallionID] AS [MedallionID], [T2_1].[HackneyLicenseID] AS [HackneyLicenseID], [T2_1].[PickupTimeID] AS [PickupTimeID], [T2_1].[DropoffTimeID] AS [DropoffTimeID], [T2_1].[PickupGeographyID] AS [PickupGeographyID], [T2_1].[DropoffGeographyID] AS [DropoffGeographyID], [T2_1].[PickupLatitude] AS [PickupLatitude], [T2_1].[PickupLongitude] AS [PickupLongitude], [T2_1].[PickupLatLong] AS [PickupLatLong], [T2_1].[DropoffLatitude] AS [DropoffLatitude], [T2_1].[DropoffLongitude] AS [DropoffLongitude], [T2_1].[DropoffLatLong] AS [DropoffLatLong], [T2_1].[PassengerCount] AS [PassengerCount], [T2_1].[TripDurationSeconds] AS [TripDurationSeconds], [T2_1].[TripDistanceMiles] AS [TripDistanceMiles], [T2_1].[PaymentType] AS [PaymentType], [T2_1].[FareAmount] AS [FareAmount], [T2_1].[SurchargeAmount] AS [SurchargeAmount], [T2_1].[TaxAmount] AS [TaxAmount], [T2_1].[TipAmount] AS [TipAmount], [T2_1].[TollsAmount] AS [TollsAmount], [T2_1].[TotalAmount] AS [TotalAmount] FROM [tempdb].[QTables].[QTable_cc2b84eeb385432489c5e31bae3c72f7] AS T2_1) AS T1_1\r\nOPTION (MAXDOP 1, MAX_GRANT_PERCENT = [MAX_GRANT])"
                                },
                                {
                                    "0": "QID33687",
                                    "1": "5",
                                    "2": "-1",
                                    "3": "OnOperation",
                                    "4": "Unspecified",
                                    "5": "Control",
                                    "6": "Complete",
                                    "7": "NULL",
                                    "8": "2023-05-12 08:17:30.047",
                                    "9": "2023-05-12 08:17:30.063",
                                    "10": "15",
                                    "11": "-1",
                                    "12": "-1",
                                    "13": "DROP TABLE [tempdb].[QTables].[QTable_cc2b84eeb385432489c5e31bae3c72f7]"
                                },
                                {
                                    "0": "QID33687",
                                    "1": "6",
                                    "2": "-1",
                                    "3": "OnOperation",
                                    "4": "AllDistributions",
                                    "5": "Compute",
                                    "6": "Complete",
                                    "7": "NULL",
                                    "8": "2023-05-12 08:17:30.063",
                                    "9": "2023-05-12 08:17:45.860",
                                    "10": "15796",
                                    "11": "10000000",
                                    "12": "-1",
                                    "13": "INSERT INTO [dsqlpool].[dbo].[Trip_round_robin] WITH (TABLOCK) ([DateID], [MedallionID], [HackneyLicenseID], [PickupTimeID], [DropoffTimeID], [PickupGeographyID], [DropoffGeographyID], [PickupLatitude], [PickupLongitude], [PickupLatLong], [DropoffLatitude], [DropoffLongitude], [DropoffLatLong], [PassengerCount], [TripDurationSeconds], [TripDistanceMiles], [PaymentType], [FareAmount], [SurchargeAmount], [TaxAmount], [TipAmount], [TollsAmount], [TotalAmount])\r\nSELECT [T1_1].[DateID], [T1_1].[MedallionID], [T1_1].[HackneyLicenseID], [T1_1].[PickupTimeID], [T1_1].[DropoffTimeID], [T1_1].[PickupGeographyID], [T1_1].[DropoffGeographyID], [T1_1].[PickupLatitude], [T1_1].[PickupLongitude], [T1_1].[PickupLatLong], [T1_1].[DropoffLatitude], [T1_1].[DropoffLongitude], [T1_1].[DropoffLatLong], [T1_1].[PassengerCount], [T1_1].[TripDurationSeconds], [T1_1].[TripDistanceMiles], [T1_1].[PaymentType], [T1_1].[FareAmount], [T1_1].[SurchargeAmount], [T1_1].[TaxAmount], [T1_1].[TipAmount], [T1_1].[TollsAmount], [T1_1].[TotalAmount] FROM [tempdb].[dbo].[TEMP_ID_26] AS T1_1\r\nOPTION (MAXDOP 1, MAX_GRANT_PERCENT = [MAX_GRANT])"
                                },
                                {
                                    "0": "QID33687",
                                    "1": "7",
                                    "2": "-1",
                                    "3": "OnOperation",
                                    "4": "AllDistributions",
                                    "5": "Compute",
                                    "6": "Complete",
                                    "7": "NULL",
                                    "8": "2023-05-12 08:17:45.860",
                                    "9": "2023-05-12 08:17:45.970",
                                    "10": "109",
                                    "11": "-1",
                                    "12": "-1",
                                    "13": "DROP TABLE [tempdb].[dbo].[TEMP_ID_26]"
                                }
                            ]
                        },
                        "text/html": [
                            "<table>",
                            "<tr><th>request_id</th><th>step_index</th><th>plan_node_id</th><th>operation_type</th><th>distribution_type</th><th>location_type</th><th>status</th><th>error_id</th><th>start_time</th><th>end_time</th><th>total_elapsed_time</th><th>row_count</th><th>estimated_rows</th><th>command</th></tr>",
                            "<tr><td>QID33687</td><td>0</td><td>-1</td><td>OnOperation</td><td>Unspecified</td><td>Control</td><td>Complete</td><td>NULL</td><td>2023-05-12 08:15:23.720</td><td>2023-05-12 08:15:23.750</td><td>31</td><td>-1</td><td>-1</td><td>CREATE TABLE [tempdb].[QTables].[QTable_cc2b84eeb385432489c5e31bae3c72f7] ([DateID] INT NOT NULL, [MedallionID] INT NOT NULL, [HackneyLicenseID] INT NOT NULL, [PickupTimeID] INT NOT NULL, [DropoffTimeID] INT NOT NULL, [PickupGeographyID] INT, [DropoffGeographyID] INT, [PickupLatitude] FLOAT(53), [PickupLongitude] FLOAT(53), [PickupLatLong] VARCHAR(50) COLLATE SQL_Latin1_General_CP1_CI_AS, [DropoffLatitude] FLOAT(53), [DropoffLongitude] FLOAT(53), [DropoffLatLong] VARCHAR(50) COLLATE SQL_Latin1_General_CP1_CI_AS, [PassengerCount] INT, [TripDurationSeconds] INT, [TripDistanceMiles] FLOAT(53), [PaymentType] VARCHAR(50) COLLATE SQL_Latin1_General_CP1_CI_AS, [FareAmount] MONEY, [SurchargeAmount] MONEY, [TaxAmount] MONEY, [TipAmount] MONEY, [TollsAmount] MONEY, [TotalAmount] MONEY ) WITH(DISTRIBUTED_MOVE_FILE='');</td></tr>",
                            "<tr><td>QID33687</td><td>1</td><td>11</td><td>PartitionMoveOperation</td><td>AllDistributions</td><td>Compute</td><td>Complete</td><td>NULL</td><td>2023-05-12 08:15:23.750</td><td>2023-05-12 08:16:57.877</td><td>94125</td><td>170261325</td><td>10000000</td><td>SELECT [T1_1].[DateID] AS [DateID], [T1_1].[MedallionID] AS [MedallionID], [T1_1].[HackneyLicenseID] AS [HackneyLicenseID], [T1_1].[PickupTimeID] AS [PickupTimeID], [T1_1].[DropoffTimeID] AS [DropoffTimeID], [T1_1].[PickupGeographyID] AS [PickupGeographyID], [T1_1].[DropoffGeographyID] AS [DropoffGeographyID], [T1_1].[PickupLatitude] AS [PickupLatitude], [T1_1].[PickupLongitude] AS [PickupLongitude], [T1_1].[PickupLatLong] AS [PickupLatLong], [T1_1].[DropoffLatitude] AS [DropoffLatitude], [T1_1].[DropoffLongitude] AS [DropoffLongitude], [T1_1].[DropoffLatLong] AS [DropoffLatLong], [T1_1].[PassengerCount] AS [PassengerCount], [T1_1].[TripDurationSeconds] AS [TripDurationSeconds], [T1_1].[TripDistanceMiles] AS [TripDistanceMiles], [T1_1].[PaymentType] AS [PaymentType], [T1_1].[FareAmount] AS [FareAmount], [T1_1].[SurchargeAmount] AS [SurchargeAmount], [T1_1].[TaxAmount] AS [TaxAmount], [T1_1].[TipAmount] AS [TipAmount], [T1_1].[TollsAmount] AS [TollsAmount], [T1_1].[TotalAmount] AS [TotalAmount] FROM (SELECT TOP (CAST ((10000000) AS BIGINT)) [T2_1].[DateID] AS [DateID], [T2_1].[MedallionID] AS [MedallionID], [T2_1].[HackneyLicenseID] AS [HackneyLicenseID], [T2_1].[PickupTimeID] AS [PickupTimeID], [T2_1].[DropoffTimeID] AS [DropoffTimeID], [T2_1].[PickupGeographyID] AS [PickupGeographyID], [T2_1].[DropoffGeographyID] AS [DropoffGeographyID], [T2_1].[PickupLatitude] AS [PickupLatitude], [T2_1].[PickupLongitude] AS [PickupLongitude], [T2_1].[PickupLatLong] AS [PickupLatLong], [T2_1].[DropoffLatitude] AS [DropoffLatitude], [T2_1].[DropoffLongitude] AS [DropoffLongitude], [T2_1].[DropoffLatLong] AS [DropoffLatLong], [T2_1].[PassengerCount] AS [PassengerCount], [T2_1].[TripDurationSeconds] AS [TripDurationSeconds], [T2_1].[TripDistanceMiles] AS [TripDistanceMiles], [T2_1].[PaymentType] AS [PaymentType], [T2_1].[FareAmount] AS [FareAmount], [T2_1].[SurchargeAmount] AS [SurchargeAmount], [T2_1].[TaxAmount] AS [TaxAmount], [T2_1].[TipAmount] AS [TipAmount], [T2_1].[TollsAmount] AS [TollsAmount], [T2_1].[TotalAmount] AS [TotalAmount] FROM [dsqlpool].[dbo].[Trip] AS T2_1) AS T1_1\r\nOPTION (MAXDOP 1, MIN_GRANT_PERCENT = [MIN_GRANT], DISTRIBUTED_MOVE(N''), MAX_GRANT_PERCENT = [MAX_GRANT])</td></tr>",
                            "<tr><td>QID33687</td><td>2</td><td>-1</td><td>RandomIDOperation</td><td>Unspecified</td><td>Control</td><td>Complete</td><td>NULL</td><td>2023-05-12 08:16:57.877</td><td>2023-05-12 08:16:57.877</td><td>0</td><td>-1</td><td>-1</td><td>TEMP_ID_26</td></tr>",
                            "<tr><td>QID33687</td><td>3</td><td>-1</td><td>OnOperation</td><td>AllDistributions</td><td>Compute</td><td>Complete</td><td>NULL</td><td>2023-05-12 08:16:57.877</td><td>2023-05-12 08:16:58.080</td><td>203</td><td>-1</td><td>-1</td><td>CREATE TABLE [tempdb].[dbo].[TEMP_ID_26] ([DateID] INT NOT NULL, [MedallionID] INT NOT NULL, [HackneyLicenseID] INT NOT NULL, [PickupTimeID] INT NOT NULL, [DropoffTimeID] INT NOT NULL, [PickupGeographyID] INT, [DropoffGeographyID] INT, [PickupLatitude] FLOAT(53), [PickupLongitude] FLOAT(53), [PickupLatLong] VARCHAR(50) COLLATE SQL_Latin1_General_CP1_CI_AS, [DropoffLatitude] FLOAT(53), [DropoffLongitude] FLOAT(53), [DropoffLatLong] VARCHAR(50) COLLATE SQL_Latin1_General_CP1_CI_AS, [PassengerCount] INT, [TripDurationSeconds] INT, [TripDistanceMiles] FLOAT(53), [PaymentType] VARCHAR(50) COLLATE SQL_Latin1_General_CP1_CI_AS, [FareAmount] MONEY, [SurchargeAmount] MONEY, [TaxAmount] MONEY, [TipAmount] MONEY, [TollsAmount] MONEY, [TotalAmount] MONEY ) WITH(DATA_COMPRESSION=PAGE);</td></tr>",
                            "<tr><td>QID33687</td><td>4</td><td>-1</td><td>SingleSourceRoundRobinMoveOperation</td><td>Unspecified</td><td>DMS</td><td>Complete</td><td>NULL</td><td>2023-05-12 08:16:58.080</td><td>2023-05-12 08:17:30.047</td><td>31969</td><td>10000000</td><td>10000000</td><td>SELECT [T1_1].[DateID] AS [DateID], [T1_1].[MedallionID] AS [MedallionID], [T1_1].[HackneyLicenseID] AS [HackneyLicenseID], [T1_1].[PickupTimeID] AS [PickupTimeID], [T1_1].[DropoffTimeID] AS [DropoffTimeID], [T1_1].[PickupGeographyID] AS [PickupGeographyID], [T1_1].[DropoffGeographyID] AS [DropoffGeographyID], [T1_1].[PickupLatitude] AS [PickupLatitude], [T1_1].[PickupLongitude] AS [PickupLongitude], [T1_1].[PickupLatLong] AS [PickupLatLong], [T1_1].[DropoffLatitude] AS [DropoffLatitude], [T1_1].[DropoffLongitude] AS [DropoffLongitude], [T1_1].[DropoffLatLong] AS [DropoffLatLong], [T1_1].[PassengerCount] AS [PassengerCount], [T1_1].[TripDurationSeconds] AS [TripDurationSeconds], [T1_1].[TripDistanceMiles] AS [TripDistanceMiles], [T1_1].[PaymentType] AS [PaymentType], [T1_1].[FareAmount] AS [FareAmount], [T1_1].[SurchargeAmount] AS [SurchargeAmount], [T1_1].[TaxAmount] AS [TaxAmount], [T1_1].[TipAmount] AS [TipAmount], [T1_1].[TollsAmount] AS [TollsAmount], [T1_1].[TotalAmount] AS [TotalAmount] FROM (SELECT TOP (CAST ((10000000) AS BIGINT)) [T2_1].[DateID] AS [DateID], [T2_1].[MedallionID] AS [MedallionID], [T2_1].[HackneyLicenseID] AS [HackneyLicenseID], [T2_1].[PickupTimeID] AS [PickupTimeID], [T2_1].[DropoffTimeID] AS [DropoffTimeID], [T2_1].[PickupGeographyID] AS [PickupGeographyID], [T2_1].[DropoffGeographyID] AS [DropoffGeographyID], [T2_1].[PickupLatitude] AS [PickupLatitude], [T2_1].[PickupLongitude] AS [PickupLongitude], [T2_1].[PickupLatLong] AS [PickupLatLong], [T2_1].[DropoffLatitude] AS [DropoffLatitude], [T2_1].[DropoffLongitude] AS [DropoffLongitude], [T2_1].[DropoffLatLong] AS [DropoffLatLong], [T2_1].[PassengerCount] AS [PassengerCount], [T2_1].[TripDurationSeconds] AS [TripDurationSeconds], [T2_1].[TripDistanceMiles] AS [TripDistanceMiles], [T2_1].[PaymentType] AS [PaymentType], [T2_1].[FareAmount] AS [FareAmount], [T2_1].[SurchargeAmount] AS [SurchargeAmount], [T2_1].[TaxAmount] AS [TaxAmount], [T2_1].[TipAmount] AS [TipAmount], [T2_1].[TollsAmount] AS [TollsAmount], [T2_1].[TotalAmount] AS [TotalAmount] FROM [tempdb].[QTables].[QTable_cc2b84eeb385432489c5e31bae3c72f7] AS T2_1) AS T1_1\r\nOPTION (MAXDOP 1, MAX_GRANT_PERCENT = [MAX_GRANT])</td></tr>",
                            "<tr><td>QID33687</td><td>5</td><td>-1</td><td>OnOperation</td><td>Unspecified</td><td>Control</td><td>Complete</td><td>NULL</td><td>2023-05-12 08:17:30.047</td><td>2023-05-12 08:17:30.063</td><td>15</td><td>-1</td><td>-1</td><td>DROP TABLE [tempdb].[QTables].[QTable_cc2b84eeb385432489c5e31bae3c72f7]</td></tr>",
                            "<tr><td>QID33687</td><td>6</td><td>-1</td><td>OnOperation</td><td>AllDistributions</td><td>Compute</td><td>Complete</td><td>NULL</td><td>2023-05-12 08:17:30.063</td><td>2023-05-12 08:17:45.860</td><td>15796</td><td>10000000</td><td>-1</td><td>INSERT INTO [dsqlpool].[dbo].[Trip_round_robin] WITH (TABLOCK) ([DateID], [MedallionID], [HackneyLicenseID], [PickupTimeID], [DropoffTimeID], [PickupGeographyID], [DropoffGeographyID], [PickupLatitude], [PickupLongitude], [PickupLatLong], [DropoffLatitude], [DropoffLongitude], [DropoffLatLong], [PassengerCount], [TripDurationSeconds], [TripDistanceMiles], [PaymentType], [FareAmount], [SurchargeAmount], [TaxAmount], [TipAmount], [TollsAmount], [TotalAmount])\r\nSELECT [T1_1].[DateID], [T1_1].[MedallionID], [T1_1].[HackneyLicenseID], [T1_1].[PickupTimeID], [T1_1].[DropoffTimeID], [T1_1].[PickupGeographyID], [T1_1].[DropoffGeographyID], [T1_1].[PickupLatitude], [T1_1].[PickupLongitude], [T1_1].[PickupLatLong], [T1_1].[DropoffLatitude], [T1_1].[DropoffLongitude], [T1_1].[DropoffLatLong], [T1_1].[PassengerCount], [T1_1].[TripDurationSeconds], [T1_1].[TripDistanceMiles], [T1_1].[PaymentType], [T1_1].[FareAmount], [T1_1].[SurchargeAmount], [T1_1].[TaxAmount], [T1_1].[TipAmount], [T1_1].[TollsAmount], [T1_1].[TotalAmount] FROM [tempdb].[dbo].[TEMP_ID_26] AS T1_1\r\nOPTION (MAXDOP 1, MAX_GRANT_PERCENT = [MAX_GRANT])</td></tr>",
                            "<tr><td>QID33687</td><td>7</td><td>-1</td><td>OnOperation</td><td>AllDistributions</td><td>Compute</td><td>Complete</td><td>NULL</td><td>2023-05-12 08:17:45.860</td><td>2023-05-12 08:17:45.970</td><td>109</td><td>-1</td><td>-1</td><td>DROP TABLE [tempdb].[dbo].[TEMP_ID_26]</td></tr>",
                            "</table>"
                        ]
                    }
                }
            ],
            "execution_count": 2
        }
    ]
}