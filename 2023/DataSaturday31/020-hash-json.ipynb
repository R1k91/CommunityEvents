{
    "metadata": {
        "kernelspec": {
            "name": "SQL",
            "display_name": "SQL",
            "language": "sql"
        },
        "language_info": {
            "name": "sql",
            "version": ""
        }
    },
    "nbformat_minor": 2,
    "nbformat": 4,
    "cells": [
        {
            "cell_type": "markdown",
            "source": [
                "# **Hash Sharding**\n",
                "\n",
                "This notebook:\n",
                "\n",
                "1. shows hash tables\n",
                "2. shows plan when joining with other tables"
            ],
            "metadata": {
                "language": "sql",
                "azdata_cell_guid": "e6ae36b0-a08f-4f38-8c2f-d3ed0d3ad000"
            },
            "attachments": {}
        },
        {
            "cell_type": "markdown",
            "source": [
                "# Query 1\n",
                "\n",
                "Creates 2 table distributing them on the same key"
            ],
            "metadata": {
                "language": "sql",
                "azdata_cell_guid": "812ee1d4-a32b-4210-bcc6-a6e2ed6612ae"
            },
            "attachments": {}
        },
        {
            "cell_type": "code",
            "source": [
                "-- Query 1\r\n",
                "create table hashtable \r\n",
                "(\r\n",
                "\tid int \r\n",
                ")\r\n",
                "with\r\n",
                "(\r\n",
                "\tdistribution = hash(id)\r\n",
                ");\r\n",
                "\r\n",
                "\r\n",
                "create table hashtable2\r\n",
                "(\r\n",
                "\tid int \r\n",
                ")\r\n",
                "with\r\n",
                "(\r\n",
                "\tdistribution = hash(id)\r\n",
                ");\r\n",
                "\r\n",
                "declare @i as int = 1\r\n",
                "while (@i <= 25)\r\n",
                "begin\r\n",
                "\tinsert into hashtable (id) values(@i);\r\n",
                "\tset @i += 1;\r\n",
                "\r\n",
                "end\r\n",
                "\r\n",
                "\r\n",
                "while (@i <= 25)\r\n",
                "begin\r\n",
                "\tinsert into hashtable2 (id) values(@i);\r\n",
                "\tset @i += 1;\r\n",
                "\r\n",
                "end\r\n",
                "\r\n",
                "DBCC PDW_SHOWSPACEUSED('dbo.hashtable')"
            ],
            "metadata": {
                "language": "sql",
                "azdata_cell_guid": "d0b499ee-3c8b-4436-832e-efa4d12552da"
            },
            "outputs": [],
            "execution_count": null
        },
        {
            "cell_type": "markdown",
            "source": [
                "# Query 2\n",
                "\n",
                "Shows plan when joining distributed tabl with the same key"
            ],
            "metadata": {
                "language": "sql",
                "azdata_cell_guid": "0d826309-16f4-4dfe-a106-fde86196c10b"
            },
            "attachments": {}
        },
        {
            "cell_type": "code",
            "source": [
                "-- Query 2\r\n",
                "SELECT top(100000) * \r\n",
                "from dbo.hashtable as t \r\n",
                "    inner join dbo.hashtable2 as t2 on t.id = t2.id\r\n",
                "option (label = 'SELECT FROM hash JOIN hash');\r\n",
                "\r\n",
                "select * from sys.dm_pdw_request_steps as t \r\n",
                "where request_id =\r\n",
                "(\r\n",
                "    select top(1) request_id \r\n",
                "    from sys.dm_pdw_exec_requests  as t \r\n",
                "    where t.[label] = 'SELECT FROM hash JOIN hash' \r\n",
                "    order by start_time desc \r\n",
                ")"
            ],
            "metadata": {
                "azdata_cell_guid": "191651fd-5d1c-46a6-808c-3dca197ed387",
                "language": "sql",
                "tags": []
            },
            "outputs": [],
            "execution_count": null
        },
        {
            "cell_type": "markdown",
            "source": [
                "# Query 3\n",
                "\n",
                "Shows plan when joining on different distribution keys"
            ],
            "metadata": {
                "language": "sql",
                "azdata_cell_guid": "0316d963-fa24-4c30-bd72-396b5cba6843"
            },
            "attachments": {}
        },
        {
            "cell_type": "code",
            "source": [
                "-- Query 3\r\n",
                "select top(100000) * \r\n",
                "from dbo.hashtable as t \r\n",
                "    inner join dbo.hashtable2 as t2 on t.id = t2.id * 2\r\n",
                "option (label = 'SELECT FROM hash JOIN hash another distro');\r\n",
                "\r\n",
                "select * from sys.dm_pdw_request_steps as t \r\n",
                "where request_id =\r\n",
                "(\r\n",
                "    select top(1) request_id \r\n",
                "    from sys.dm_pdw_exec_requests  as t \r\n",
                "    where t.[label] = 'SELECT FROM hash JOIN hash another distro' \r\n",
                "    order by start_time desc \r\n",
                ")"
            ],
            "metadata": {
                "language": "sql",
                "azdata_cell_guid": "ce6f4724-4f8a-4c01-9cd6-ee38d4cd60b1",
                "tags": []
            },
            "outputs": [],
            "execution_count": null
        },
        {
            "cell_type": "markdown",
            "source": [
                "# Query 4\n",
                "\n",
                "Show plan when joining replicate and hash table"
            ],
            "metadata": {
                "language": "sql",
                "azdata_cell_guid": "3e6eaf5c-6c62-4626-9d3f-d8825d9f363d"
            },
            "attachments": {}
        },
        {
            "cell_type": "code",
            "source": [
                "-- Query 4\r\n",
                "select * \r\n",
                "from dbo.hashtable as t \r\n",
                "    inner join dbo.Geography_replicated as g on t.id = g.GeographyID\r\n",
                "option (label = 'SELECT FROM hash JOIN replicated');\r\n",
                "\r\n",
                "select * from sys.dm_pdw_request_steps as t \r\n",
                "where request_id =\r\n",
                "(\r\n",
                "    select top(1) request_id \r\n",
                "    from sys.dm_pdw_exec_requests  as t \r\n",
                "    where t.[label] = 'SELECT FROM hash JOIN replicated' \r\n",
                "    order by start_time desc \r\n",
                ")"
            ],
            "metadata": {
                "language": "sql",
                "azdata_cell_guid": "c33e5054-7db6-46fd-a750-05ea7939b3f6"
            },
            "outputs": [],
            "execution_count": null
        }
    ]
}