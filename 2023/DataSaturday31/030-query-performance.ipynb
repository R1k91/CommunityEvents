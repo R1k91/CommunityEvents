{
    "metadata": {
        "kernelspec": {
            "name": "SQL",
            "display_name": "SQL",
            "language": "sql"
        },
        "language_info": {
            "name": "sql",
            "version": ""
        }
    },
    "nbformat_minor": 2,
    "nbformat": 4,
    "cells": [
        {
            "cell_type": "markdown",
            "source": [
                "# **Distribution and performance**\n",
                "\n",
                "This notebook:\n",
                "\n",
                "1. Shows ingestion performance when dealing with different distributions"
            ],
            "metadata": {
                "language": "sql",
                "azdata_cell_guid": "7e7caf26-90e0-4c79-acc9-fb9d2ba2a59f"
            },
            "attachments": {}
        },
        {
            "cell_type": "markdown",
            "source": [
                "# Query 1\n",
                "\n",
                "Creates 1 hash table and one round robin table with same structure and popolutes with same data"
            ],
            "metadata": {
                "language": "sql",
                "azdata_cell_guid": "2792af25-18a6-42bb-98b0-144be70de653"
            },
            "attachments": {}
        },
        {
            "cell_type": "code",
            "source": [
                "CREATE TABLE [dbo].[Trip_round_robin]\r\n",
                "(\r\n",
                "\t[DateID] [int] NOT NULL,\r\n",
                "\t[MedallionID] [int] NOT NULL,\r\n",
                "\t[HackneyLicenseID] [int] NOT NULL,\r\n",
                "\t[PickupTimeID] [int] NOT NULL,\r\n",
                "\t[DropoffTimeID] [int] NOT NULL,\r\n",
                "\t[PickupGeographyID] [int] NULL,\r\n",
                "\t[DropoffGeographyID] [int] NULL,\r\n",
                "\t[PickupLatitude] [float] NULL,\r\n",
                "\t[PickupLongitude] [float] NULL,\r\n",
                "\t[PickupLatLong] [varchar](50) NULL,\r\n",
                "\t[DropoffLatitude] [float] NULL,\r\n",
                "\t[DropoffLongitude] [float] NULL,\r\n",
                "\t[DropoffLatLong] [varchar](50) NULL,\r\n",
                "\t[PassengerCount] [int] NULL,\r\n",
                "\t[TripDurationSeconds] [int] NULL,\r\n",
                "\t[TripDistanceMiles] [float] NULL,\r\n",
                "\t[PaymentType] [varchar](50) NULL,\r\n",
                "\t[FareAmount] [money] NULL,\r\n",
                "\t[SurchargeAmount] [money] NULL,\r\n",
                "\t[TaxAmount] [money] NULL,\r\n",
                "\t[TipAmount] [money] NULL,\r\n",
                "\t[TollsAmount] [money] NULL,\r\n",
                "\t[TotalAmount] [money] NULL\r\n",
                ")\r\n",
                "WITH\r\n",
                "(\r\n",
                "\tDISTRIBUTION = ROUND_ROBIN--,\r\n",
                "\t--CLUSTERED COLUMNSTORE INDEX\r\n",
                ")\r\n",
                "GO\r\n",
                "\r\n",
                "CREATE TABLE [dbo].[Trip_hash]\r\n",
                "(\r\n",
                "\t[DateID] [int] NOT NULL,\r\n",
                "\t[MedallionID] [int] NOT NULL,\r\n",
                "\t[HackneyLicenseID] [int] NOT NULL,\r\n",
                "\t[PickupTimeID] [int] NOT NULL,\r\n",
                "\t[DropoffTimeID] [int] NOT NULL,\r\n",
                "\t[PickupGeographyID] [int] NULL,\r\n",
                "\t[DropoffGeographyID] [int] NULL,\r\n",
                "\t[PickupLatitude] [float] NULL,\r\n",
                "\t[PickupLongitude] [float] NULL,\r\n",
                "\t[PickupLatLong] [varchar](50) NULL,\r\n",
                "\t[DropoffLatitude] [float] NULL,\r\n",
                "\t[DropoffLongitude] [float] NULL,\r\n",
                "\t[DropoffLatLong] [varchar](50) NULL,\r\n",
                "\t[PassengerCount] [int] NULL,\r\n",
                "\t[TripDurationSeconds] [int] NULL,\r\n",
                "\t[TripDistanceMiles] [float] NULL,\r\n",
                "\t[PaymentType] [varchar](50) NULL,\r\n",
                "\t[FareAmount] [money] NULL,\r\n",
                "\t[SurchargeAmount] [money] NULL,\r\n",
                "\t[TaxAmount] [money] NULL,\r\n",
                "\t[TipAmount] [money] NULL,\r\n",
                "\t[TollsAmount] [money] NULL,\r\n",
                "\t[TotalAmount] [money] NULL\r\n",
                ")\r\n",
                "WITH\r\n",
                "(\r\n",
                "\tDISTRIBUTION = hash(DateId)--,\r\n",
                "\t--CLUSTERED COLUMNSTORE INDEX\r\n",
                ")\r\n",
                "GO\r\n",
                "\r\n",
                "truncate table dbo.Trip_round_robin;\r\n",
                "insert into dbo.Trip_round_robin \r\n",
                "select top(10000000)* from dbo.Trip\r\n",
                "option (label = 'INSERT rr');\r\n",
                "\r\n",
                "truncate table dbo.Trip_hash;\r\n",
                "insert into dbo.Trip_hash\r\n",
                "select top(10000000)* from dbo.Trip\r\n",
                "option (label = 'INSERT hash');\r\n",
                "\r\n",
                "DBCC PDW_SHOWSPACEUSED('dbo.Trip_round_robin')\r\n",
                "DBCC PDW_SHOWSPACEUSED('dbo.Trip_hash')"
            ],
            "metadata": {
                "azdata_cell_guid": "2dc03de9-87c6-44c8-bdde-0e89198898e5",
                "language": "sql"
            },
            "outputs": [],
            "execution_count": null
        },
        {
            "cell_type": "markdown",
            "source": [
                "Query 2\n",
                "\n",
                "Shows duration and plans for inserts"
            ],
            "metadata": {
                "language": "sql",
                "azdata_cell_guid": "ee05b79c-f1fa-450c-8d1c-1b6020304b78"
            },
            "attachments": {}
        },
        {
            "cell_type": "code",
            "source": [
                "-- Query 2\r\n",
                "select 'hash', total_elapsed_time \r\n",
                "    from sys.dm_pdw_exec_requests  as t \r\n",
                "    where t.[label] = 'INSERT hash'\r\n",
                "    order by start_time desc \r\n",
                "\r\n",
                "select 'hash', total_elapsed_time \r\n",
                "    from sys.dm_pdw_exec_requests  as t \r\n",
                "    where t.[label] = 'INSERT rr'\r\n",
                "    order by start_time desc \r\n",
                "\r\n",
                "select * from sys.dm_pdw_request_steps as t \r\n",
                "where request_id =\r\n",
                "(\r\n",
                "    select top(1) request_id \r\n",
                "    from sys.dm_pdw_exec_requests  as t \r\n",
                "    where t.[label] = 'INSERT hash'\r\n",
                "    order by start_time desc \r\n",
                ")\r\n",
                "\r\n",
                "select * from sys.dm_pdw_request_steps as t \r\n",
                "where request_id =\r\n",
                "(\r\n",
                "    select top(1) request_id \r\n",
                "    from sys.dm_pdw_exec_requests  as t \r\n",
                "    where t.[label] = 'INSERT rr'\r\n",
                "    order by start_time desc \r\n",
                ")\r\n",
                "\r\n",
                ""
            ],
            "metadata": {
                "language": "sql",
                "azdata_cell_guid": "07118921-5a4d-47a5-a328-527481f22b78"
            },
            "outputs": [
                {
                    "output_type": "display_data",
                    "data": {
                        "text/html": "(1 row affected)"
                    },
                    "metadata": {}
                },
                {
                    "output_type": "display_data",
                    "data": {
                        "text/html": "(2 rows affected)"
                    },
                    "metadata": {}
                },
                {
                    "output_type": "display_data",
                    "data": {
                        "text/html": "(12 rows affected)"
                    },
                    "metadata": {}
                },
                {
                    "output_type": "display_data",
                    "data": {
                        "text/html": "(5 rows affected)"
                    },
                    "metadata": {}
                },
                {
                    "output_type": "display_data",
                    "data": {
                        "text/html": "Total execution time: 00:00:00.671"
                    },
                    "metadata": {}
                },
                {
                    "output_type": "execute_result",
                    "metadata": {},
                    "execution_count": 8,
                    "data": {
                        "application/vnd.dataresource+json": {
                            "schema": {
                                "fields": [
                                    {
                                        "name": "(No column name)"
                                    },
                                    {
                                        "name": "total_elapsed_time"
                                    }
                                ]
                            },
                            "data": [
                                {
                                    "0": "hash",
                                    "1": "162831"
                                }
                            ]
                        },
                        "text/html": [
                            "<table>",
                            "<tr><th>(No column name)</th><th>total_elapsed_time</th></tr>",
                            "<tr><td>hash</td><td>162831</td></tr>",
                            "</table>"
                        ]
                    }
                },
                {
                    "output_type": "execute_result",
                    "metadata": {},
                    "execution_count": 8,
                    "data": {
                        "application/vnd.dataresource+json": {
                            "schema": {
                                "fields": [
                                    {
                                        "name": "(No column name)"
                                    },
                                    {
                                        "name": "total_elapsed_time"
                                    }
                                ]
                            },
                            "data": [
                                {
                                    "0": "hash",
                                    "1": "18922"
                                },
                                {
                                    "0": "hash",
                                    "1": "144971"
                                }
                            ]
                        },
                        "text/html": [
                            "<table>",
                            "<tr><th>(No column name)</th><th>total_elapsed_time</th></tr>",
                            "<tr><td>hash</td><td>18922</td></tr>",
                            "<tr><td>hash</td><td>144971</td></tr>",
                            "</table>"
                        ]
                    }
                },
                {
                    "output_type": "execute_result",
                    "metadata": {},
                    "execution_count": 8,
                    "data": {
                        "application/vnd.dataresource+json": {
                            "schema": {
                                "fields": [
                                    {
                                        "name": "request_id"
                                    },
                                    {
                                        "name": "step_index"
                                    },
                                    {
                                        "name": "plan_node_id"
                                    },
                                    {
                                        "name": "operation_type"
                                    },
                                    {
                                        "name": "distribution_type"
                                    },
                                    {
                                        "name": "location_type"
                                    },
                                    {
                                        "name": "status"
                                    },
                                    {
                                        "name": "error_id"
                                    },
                                    {
                                        "name": "start_time"
                                    },
                                    {
                                        "name": "end_time"
                                    },
                                    {
                                        "name": "total_elapsed_time"
                                    },
                                    {
                                        "name": "row_count"
                                    },
                                    {
                                        "name": "estimated_rows"
                                    },
                                    {
                                        "name": "command"
                                    }
                                ]
                            },
                            "data": [
                                {
                                    "0": "QID26195",
                                    "1": "0",
                                    "2": "-1",
                                    "3": "OnOperation",
                                    "4": "Unspecified",
                                    "5": "Control",
                                    "6": "Complete",
                                    "7": "NULL",
                                    "8": "2023-01-07 17:42:40.747",
                                    "9": "2023-01-07 17:42:40.760",
                                    "10": "15",
                                    "11": "-1",
                                    "12": "-1",
                                    "13": "CREATE TABLE [tempdb].[QTables].[QTable_9c8c948544ac4af494349e9514335c60] ([DateID] INT NOT NULL, [MedallionID] INT NOT NULL, [HackneyLicenseID] INT NOT NULL, [PickupTimeID] INT NOT NULL, [DropoffTimeID] INT NOT NULL, [PickupGeographyID] INT, [DropoffGeographyID] INT, [PickupLatitude] FLOAT(53), [PickupLongitude] FLOAT(53), [PickupLatLong] VARCHAR(50) COLLATE SQL_Latin1_General_CP1_CI_AS, [DropoffLatitude] FLOAT(53), [DropoffLongitude] FLOAT(53), [DropoffLatLong] VARCHAR(50) COLLATE SQL_Latin1_General_CP1_CI_AS, [PassengerCount] INT, [TripDurationSeconds] INT, [TripDistanceMiles] FLOAT(53), [PaymentType] VARCHAR(50) COLLATE SQL_Latin1_General_CP1_CI_AS, [FareAmount] MONEY, [SurchargeAmount] MONEY, [TaxAmount] MONEY, [TipAmount] MONEY, [TollsAmount] MONEY, [TotalAmount] MONEY ) WITH(DISTRIBUTED_MOVE_FILE='');"
                                },
                                {
                                    "0": "QID26195",
                                    "1": "1",
                                    "2": "11",
                                    "3": "PartitionMoveOperation",
                                    "4": "AllDistributions",
                                    "5": "Compute",
                                    "6": "Complete",
                                    "7": "NULL",
                                    "8": "2023-01-07 17:42:40.760",
                                    "9": "2023-01-07 17:43:54.513",
                                    "10": "73751",
                                    "11": "170261325",
                                    "12": "10000000",
                                    "13": "SELECT [T1_1].[DateID] AS [DateID], [T1_1].[MedallionID] AS [MedallionID], [T1_1].[HackneyLicenseID] AS [HackneyLicenseID], [T1_1].[PickupTimeID] AS [PickupTimeID], [T1_1].[DropoffTimeID] AS [DropoffTimeID], [T1_1].[PickupGeographyID] AS [PickupGeographyID], [T1_1].[DropoffGeographyID] AS [DropoffGeographyID], [T1_1].[PickupLatitude] AS [PickupLatitude], [T1_1].[PickupLongitude] AS [PickupLongitude], [T1_1].[PickupLatLong] AS [PickupLatLong], [T1_1].[DropoffLatitude] AS [DropoffLatitude], [T1_1].[DropoffLongitude] AS [DropoffLongitude], [T1_1].[DropoffLatLong] AS [DropoffLatLong], [T1_1].[PassengerCount] AS [PassengerCount], [T1_1].[TripDurationSeconds] AS [TripDurationSeconds], [T1_1].[TripDistanceMiles] AS [TripDistanceMiles], [T1_1].[PaymentType] AS [PaymentType], [T1_1].[FareAmount] AS [FareAmount], [T1_1].[SurchargeAmount] AS [SurchargeAmount], [T1_1].[TaxAmount] AS [TaxAmount], [T1_1].[TipAmount] AS [TipAmount], [T1_1].[TollsAmount] AS [TollsAmount], [T1_1].[TotalAmount] AS [TotalAmount] FROM (SELECT TOP (CAST ((10000000) AS BIGINT)) [T2_1].[DateID] AS [DateID], [T2_1].[MedallionID] AS [MedallionID], [T2_1].[HackneyLicenseID] AS [HackneyLicenseID], [T2_1].[PickupTimeID] AS [PickupTimeID], [T2_1].[DropoffTimeID] AS [DropoffTimeID], [T2_1].[PickupGeographyID] AS [PickupGeographyID], [T2_1].[DropoffGeographyID] AS [DropoffGeographyID], [T2_1].[PickupLatitude] AS [PickupLatitude], [T2_1].[PickupLongitude] AS [PickupLongitude], [T2_1].[PickupLatLong] AS [PickupLatLong], [T2_1].[DropoffLatitude] AS [DropoffLatitude], [T2_1].[DropoffLongitude] AS [DropoffLongitude], [T2_1].[DropoffLatLong] AS [DropoffLatLong], [T2_1].[PassengerCount] AS [PassengerCount], [T2_1].[TripDurationSeconds] AS [TripDurationSeconds], [T2_1].[TripDistanceMiles] AS [TripDistanceMiles], [T2_1].[PaymentType] AS [PaymentType], [T2_1].[FareAmount] AS [FareAmount], [T2_1].[SurchargeAmount] AS [SurchargeAmount], [T2_1].[TaxAmount] AS [TaxAmount], [T2_1].[TipAmount] AS [TipAmount], [T2_1].[TollsAmount] AS [TollsAmount], [T2_1].[TotalAmount] AS [TotalAmount] FROM [dsqlpool].[dbo].[Trip] AS T2_1) AS T1_1\r\nOPTION (MAXDOP 1, MIN_GRANT_PERCENT = [MIN_GRANT], DISTRIBUTED_MOVE(N''), MAX_GRANT_PERCENT = [MAX_GRANT])"
                                },
                                {
                                    "0": "QID26195",
                                    "1": "2",
                                    "2": "-1",
                                    "3": "RandomIDOperation",
                                    "4": "Unspecified",
                                    "5": "Control",
                                    "6": "Complete",
                                    "7": "NULL",
                                    "8": "2023-01-07 17:43:54.513",
                                    "9": "2023-01-07 17:43:54.513",
                                    "10": "0",
                                    "11": "-1",
                                    "12": "-1",
                                    "13": "TEMP_ID_32"
                                },
                                {
                                    "0": "QID26195",
                                    "1": "3",
                                    "2": "-1",
                                    "3": "OnOperation",
                                    "4": "AllComputeNodes",
                                    "5": "Compute",
                                    "6": "Complete",
                                    "7": "NULL",
                                    "8": "2023-01-07 17:43:54.513",
                                    "9": "2023-01-07 17:43:54.543",
                                    "10": "31",
                                    "11": "-1",
                                    "12": "-1",
                                    "13": "CREATE TABLE [tempdb].[dbo].[TEMP_ID_32] ([DateID] INT NOT NULL, [MedallionID] INT NOT NULL, [HackneyLicenseID] INT NOT NULL, [PickupTimeID] INT NOT NULL, [DropoffTimeID] INT NOT NULL, [PickupGeographyID] INT, [DropoffGeographyID] INT, [PickupLatitude] FLOAT(53), [PickupLongitude] FLOAT(53), [PickupLatLong] VARCHAR(50) COLLATE SQL_Latin1_General_CP1_CI_AS, [DropoffLatitude] FLOAT(53), [DropoffLongitude] FLOAT(53), [DropoffLatLong] VARCHAR(50) COLLATE SQL_Latin1_General_CP1_CI_AS, [PassengerCount] INT, [TripDurationSeconds] INT, [TripDistanceMiles] FLOAT(53), [PaymentType] VARCHAR(50) COLLATE SQL_Latin1_General_CP1_CI_AS, [FareAmount] MONEY, [SurchargeAmount] MONEY, [TaxAmount] MONEY, [TipAmount] MONEY, [TollsAmount] MONEY, [TotalAmount] MONEY ) WITH(DATA_COMPRESSION=PAGE);"
                                },
                                {
                                    "0": "QID26195",
                                    "1": "4",
                                    "2": "-1",
                                    "3": "MoveOperation",
                                    "4": "Unspecified",
                                    "5": "DMS",
                                    "6": "Complete",
                                    "7": "NULL",
                                    "8": "2023-01-07 17:43:54.543",
                                    "9": "2023-01-07 17:44:18.747",
                                    "10": "24203",
                                    "11": "10000000",
                                    "12": "10000000",
                                    "13": "SELECT [T1_1].[DateID] AS [DateID], [T1_1].[MedallionID] AS [MedallionID], [T1_1].[HackneyLicenseID] AS [HackneyLicenseID], [T1_1].[PickupTimeID] AS [PickupTimeID], [T1_1].[DropoffTimeID] AS [DropoffTimeID], [T1_1].[PickupGeographyID] AS [PickupGeographyID], [T1_1].[DropoffGeographyID] AS [DropoffGeographyID], [T1_1].[PickupLatitude] AS [PickupLatitude], [T1_1].[PickupLongitude] AS [PickupLongitude], [T1_1].[PickupLatLong] AS [PickupLatLong], [T1_1].[DropoffLatitude] AS [DropoffLatitude], [T1_1].[DropoffLongitude] AS [DropoffLongitude], [T1_1].[DropoffLatLong] AS [DropoffLatLong], [T1_1].[PassengerCount] AS [PassengerCount], [T1_1].[TripDurationSeconds] AS [TripDurationSeconds], [T1_1].[TripDistanceMiles] AS [TripDistanceMiles], [T1_1].[PaymentType] AS [PaymentType], [T1_1].[FareAmount] AS [FareAmount], [T1_1].[SurchargeAmount] AS [SurchargeAmount], [T1_1].[TaxAmount] AS [TaxAmount], [T1_1].[TipAmount] AS [TipAmount], [T1_1].[TollsAmount] AS [TollsAmount], [T1_1].[TotalAmount] AS [TotalAmount] FROM (SELECT TOP (CAST ((10000000) AS BIGINT)) [T2_1].[DateID] AS [DateID], [T2_1].[MedallionID] AS [MedallionID], [T2_1].[HackneyLicenseID] AS [HackneyLicenseID], [T2_1].[PickupTimeID] AS [PickupTimeID], [T2_1].[DropoffTimeID] AS [DropoffTimeID], [T2_1].[PickupGeographyID] AS [PickupGeographyID], [T2_1].[DropoffGeographyID] AS [DropoffGeographyID], [T2_1].[PickupLatitude] AS [PickupLatitude], [T2_1].[PickupLongitude] AS [PickupLongitude], [T2_1].[PickupLatLong] AS [PickupLatLong], [T2_1].[DropoffLatitude] AS [DropoffLatitude], [T2_1].[DropoffLongitude] AS [DropoffLongitude], [T2_1].[DropoffLatLong] AS [DropoffLatLong], [T2_1].[PassengerCount] AS [PassengerCount], [T2_1].[TripDurationSeconds] AS [TripDurationSeconds], [T2_1].[TripDistanceMiles] AS [TripDistanceMiles], [T2_1].[PaymentType] AS [PaymentType], [T2_1].[FareAmount] AS [FareAmount], [T2_1].[SurchargeAmount] AS [SurchargeAmount], [T2_1].[TaxAmount] AS [TaxAmount], [T2_1].[TipAmount] AS [TipAmount], [T2_1].[TollsAmount] AS [TollsAmount], [T2_1].[TotalAmount] AS [TotalAmount] FROM [tempdb].[QTables].[QTable_9c8c948544ac4af494349e9514335c60] AS T2_1) AS T1_1\r\nOPTION (MAXDOP 1, MAX_GRANT_PERCENT = [MAX_GRANT])"
                                },
                                {
                                    "0": "QID26195",
                                    "1": "5",
                                    "2": "-1",
                                    "3": "OnOperation",
                                    "4": "Unspecified",
                                    "5": "Control",
                                    "6": "Complete",
                                    "7": "NULL",
                                    "8": "2023-01-07 17:44:18.747",
                                    "9": "2023-01-07 17:44:18.747",
                                    "10": "0",
                                    "11": "-1",
                                    "12": "-1",
                                    "13": "DROP TABLE [tempdb].[QTables].[QTable_9c8c948544ac4af494349e9514335c60]"
                                },
                                {
                                    "0": "QID26195",
                                    "1": "6",
                                    "2": "-1",
                                    "3": "RandomIDOperation",
                                    "4": "Unspecified",
                                    "5": "Control",
                                    "6": "Complete",
                                    "7": "NULL",
                                    "8": "2023-01-07 17:44:18.747",
                                    "9": "2023-01-07 17:44:18.747",
                                    "10": "0",
                                    "11": "-1",
                                    "12": "-1",
                                    "13": "TEMP_ID_33"
                                },
                                {
                                    "0": "QID26195",
                                    "1": "7",
                                    "2": "-1",
                                    "3": "OnOperation",
                                    "4": "AllDistributions",
                                    "5": "Compute",
                                    "6": "Complete",
                                    "7": "NULL",
                                    "8": "2023-01-07 17:44:18.747",
                                    "9": "2023-01-07 17:44:18.857",
                                    "10": "109",
                                    "11": "-1",
                                    "12": "-1",
                                    "13": "CREATE TABLE [tempdb].[dbo].[TEMP_ID_33] ([DateID] INT NOT NULL, [MedallionID] INT NOT NULL, [HackneyLicenseID] INT NOT NULL, [PickupTimeID] INT NOT NULL, [DropoffTimeID] INT NOT NULL, [PickupGeographyID] INT, [DropoffGeographyID] INT, [PickupLatitude] FLOAT(53), [PickupLongitude] FLOAT(53), [PickupLatLong] VARCHAR(50) COLLATE SQL_Latin1_General_CP1_CI_AS, [DropoffLatitude] FLOAT(53), [DropoffLongitude] FLOAT(53), [DropoffLatLong] VARCHAR(50) COLLATE SQL_Latin1_General_CP1_CI_AS, [PassengerCount] INT, [TripDurationSeconds] INT, [TripDistanceMiles] FLOAT(53), [PaymentType] VARCHAR(50) COLLATE SQL_Latin1_General_CP1_CI_AS, [FareAmount] MONEY, [SurchargeAmount] MONEY, [TaxAmount] MONEY, [TipAmount] MONEY, [TollsAmount] MONEY, [TotalAmount] MONEY ) WITH(DATA_COMPRESSION=PAGE);"
                                },
                                {
                                    "0": "QID26195",
                                    "1": "8",
                                    "2": "-1",
                                    "3": "TrimMoveOperation",
                                    "4": "Unspecified",
                                    "5": "DMS",
                                    "6": "Complete",
                                    "7": "NULL",
                                    "8": "2023-01-07 17:44:18.857",
                                    "9": "2023-01-07 17:45:01.780",
                                    "10": "42922",
                                    "11": "10000000",
                                    "12": "10000000",
                                    "13": "SELECT [T1_1].[DateID] AS [DateID], [T1_1].[MedallionID] AS [MedallionID], [T1_1].[HackneyLicenseID] AS [HackneyLicenseID], [T1_1].[PickupTimeID] AS [PickupTimeID], [T1_1].[DropoffTimeID] AS [DropoffTimeID], [T1_1].[PickupGeographyID] AS [PickupGeographyID], [T1_1].[DropoffGeographyID] AS [DropoffGeographyID], [T1_1].[PickupLatitude] AS [PickupLatitude], [T1_1].[PickupLongitude] AS [PickupLongitude], [T1_1].[PickupLatLong] AS [PickupLatLong], [T1_1].[DropoffLatitude] AS [DropoffLatitude], [T1_1].[DropoffLongitude] AS [DropoffLongitude], [T1_1].[DropoffLatLong] AS [DropoffLatLong], [T1_1].[PassengerCount] AS [PassengerCount], [T1_1].[TripDurationSeconds] AS [TripDurationSeconds], [T1_1].[TripDistanceMiles] AS [TripDistanceMiles], [T1_1].[PaymentType] AS [PaymentType], [T1_1].[FareAmount] AS [FareAmount], [T1_1].[SurchargeAmount] AS [SurchargeAmount], [T1_1].[TaxAmount] AS [TaxAmount], [T1_1].[TipAmount] AS [TipAmount], [T1_1].[TollsAmount] AS [TollsAmount], [T1_1].[TotalAmount] AS [TotalAmount] FROM [tempdb].[dbo].[TEMP_ID_32] AS T1_1\r\nOPTION (MAXDOP 1, MAX_GRANT_PERCENT = [MAX_GRANT])"
                                },
                                {
                                    "0": "QID26195",
                                    "1": "9",
                                    "2": "-1",
                                    "3": "OnOperation",
                                    "4": "AllComputeNodes",
                                    "5": "Compute",
                                    "6": "Complete",
                                    "7": "NULL",
                                    "8": "2023-01-07 17:45:01.780",
                                    "9": "2023-01-07 17:45:01.797",
                                    "10": "15",
                                    "11": "-1",
                                    "12": "-1",
                                    "13": "DROP TABLE [tempdb].[dbo].[TEMP_ID_32]"
                                },
                                {
                                    "0": "QID26195",
                                    "1": "10",
                                    "2": "-1",
                                    "3": "OnOperation",
                                    "4": "AllDistributions",
                                    "5": "Compute",
                                    "6": "Complete",
                                    "7": "NULL",
                                    "8": "2023-01-07 17:45:01.797",
                                    "9": "2023-01-07 17:45:22.310",
                                    "10": "20515",
                                    "11": "10000000",
                                    "12": "-1",
                                    "13": "INSERT INTO [dsqlpool].[dbo].[Trip_hash] WITH (TABLOCK) ([DateID], [MedallionID], [HackneyLicenseID], [PickupTimeID], [DropoffTimeID], [PickupGeographyID], [DropoffGeographyID], [PickupLatitude], [PickupLongitude], [PickupLatLong], [DropoffLatitude], [DropoffLongitude], [DropoffLatLong], [PassengerCount], [TripDurationSeconds], [TripDistanceMiles], [PaymentType], [FareAmount], [SurchargeAmount], [TaxAmount], [TipAmount], [TollsAmount], [TotalAmount])\r\nSELECT [T1_1].[DateID], [T1_1].[MedallionID], [T1_1].[HackneyLicenseID], [T1_1].[PickupTimeID], [T1_1].[DropoffTimeID], [T1_1].[PickupGeographyID], [T1_1].[DropoffGeographyID], [T1_1].[PickupLatitude], [T1_1].[PickupLongitude], [T1_1].[PickupLatLong], [T1_1].[DropoffLatitude], [T1_1].[DropoffLongitude], [T1_1].[DropoffLatLong], [T1_1].[PassengerCount], [T1_1].[TripDurationSeconds], [T1_1].[TripDistanceMiles], [T1_1].[PaymentType], [T1_1].[FareAmount], [T1_1].[SurchargeAmount], [T1_1].[TaxAmount], [T1_1].[TipAmount], [T1_1].[TollsAmount], [T1_1].[TotalAmount] FROM [tempdb].[dbo].[TEMP_ID_33] AS T1_1\r\nOPTION (MAXDOP 1, MAX_GRANT_PERCENT = [MAX_GRANT])"
                                },
                                {
                                    "0": "QID26195",
                                    "1": "11",
                                    "2": "-1",
                                    "3": "OnOperation",
                                    "4": "AllDistributions",
                                    "5": "Compute",
                                    "6": "Complete",
                                    "7": "NULL",
                                    "8": "2023-01-07 17:45:22.310",
                                    "9": "2023-01-07 17:45:22.420",
                                    "10": "109",
                                    "11": "-1",
                                    "12": "-1",
                                    "13": "DROP TABLE [tempdb].[dbo].[TEMP_ID_33]"
                                }
                            ]
                        },
                        "text/html": [
                            "<table>",
                            "<tr><th>request_id</th><th>step_index</th><th>plan_node_id</th><th>operation_type</th><th>distribution_type</th><th>location_type</th><th>status</th><th>error_id</th><th>start_time</th><th>end_time</th><th>total_elapsed_time</th><th>row_count</th><th>estimated_rows</th><th>command</th></tr>",
                            "<tr><td>QID26195</td><td>0</td><td>-1</td><td>OnOperation</td><td>Unspecified</td><td>Control</td><td>Complete</td><td>NULL</td><td>2023-01-07 17:42:40.747</td><td>2023-01-07 17:42:40.760</td><td>15</td><td>-1</td><td>-1</td><td>CREATE TABLE [tempdb].[QTables].[QTable_9c8c948544ac4af494349e9514335c60] ([DateID] INT NOT NULL, [MedallionID] INT NOT NULL, [HackneyLicenseID] INT NOT NULL, [PickupTimeID] INT NOT NULL, [DropoffTimeID] INT NOT NULL, [PickupGeographyID] INT, [DropoffGeographyID] INT, [PickupLatitude] FLOAT(53), [PickupLongitude] FLOAT(53), [PickupLatLong] VARCHAR(50) COLLATE SQL_Latin1_General_CP1_CI_AS, [DropoffLatitude] FLOAT(53), [DropoffLongitude] FLOAT(53), [DropoffLatLong] VARCHAR(50) COLLATE SQL_Latin1_General_CP1_CI_AS, [PassengerCount] INT, [TripDurationSeconds] INT, [TripDistanceMiles] FLOAT(53), [PaymentType] VARCHAR(50) COLLATE SQL_Latin1_General_CP1_CI_AS, [FareAmount] MONEY, [SurchargeAmount] MONEY, [TaxAmount] MONEY, [TipAmount] MONEY, [TollsAmount] MONEY, [TotalAmount] MONEY ) WITH(DISTRIBUTED_MOVE_FILE='');</td></tr>",
                            "<tr><td>QID26195</td><td>1</td><td>11</td><td>PartitionMoveOperation</td><td>AllDistributions</td><td>Compute</td><td>Complete</td><td>NULL</td><td>2023-01-07 17:42:40.760</td><td>2023-01-07 17:43:54.513</td><td>73751</td><td>170261325</td><td>10000000</td><td>SELECT [T1_1].[DateID] AS [DateID], [T1_1].[MedallionID] AS [MedallionID], [T1_1].[HackneyLicenseID] AS [HackneyLicenseID], [T1_1].[PickupTimeID] AS [PickupTimeID], [T1_1].[DropoffTimeID] AS [DropoffTimeID], [T1_1].[PickupGeographyID] AS [PickupGeographyID], [T1_1].[DropoffGeographyID] AS [DropoffGeographyID], [T1_1].[PickupLatitude] AS [PickupLatitude], [T1_1].[PickupLongitude] AS [PickupLongitude], [T1_1].[PickupLatLong] AS [PickupLatLong], [T1_1].[DropoffLatitude] AS [DropoffLatitude], [T1_1].[DropoffLongitude] AS [DropoffLongitude], [T1_1].[DropoffLatLong] AS [DropoffLatLong], [T1_1].[PassengerCount] AS [PassengerCount], [T1_1].[TripDurationSeconds] AS [TripDurationSeconds], [T1_1].[TripDistanceMiles] AS [TripDistanceMiles], [T1_1].[PaymentType] AS [PaymentType], [T1_1].[FareAmount] AS [FareAmount], [T1_1].[SurchargeAmount] AS [SurchargeAmount], [T1_1].[TaxAmount] AS [TaxAmount], [T1_1].[TipAmount] AS [TipAmount], [T1_1].[TollsAmount] AS [TollsAmount], [T1_1].[TotalAmount] AS [TotalAmount] FROM (SELECT TOP (CAST ((10000000) AS BIGINT)) [T2_1].[DateID] AS [DateID], [T2_1].[MedallionID] AS [MedallionID], [T2_1].[HackneyLicenseID] AS [HackneyLicenseID], [T2_1].[PickupTimeID] AS [PickupTimeID], [T2_1].[DropoffTimeID] AS [DropoffTimeID], [T2_1].[PickupGeographyID] AS [PickupGeographyID], [T2_1].[DropoffGeographyID] AS [DropoffGeographyID], [T2_1].[PickupLatitude] AS [PickupLatitude], [T2_1].[PickupLongitude] AS [PickupLongitude], [T2_1].[PickupLatLong] AS [PickupLatLong], [T2_1].[DropoffLatitude] AS [DropoffLatitude], [T2_1].[DropoffLongitude] AS [DropoffLongitude], [T2_1].[DropoffLatLong] AS [DropoffLatLong], [T2_1].[PassengerCount] AS [PassengerCount], [T2_1].[TripDurationSeconds] AS [TripDurationSeconds], [T2_1].[TripDistanceMiles] AS [TripDistanceMiles], [T2_1].[PaymentType] AS [PaymentType], [T2_1].[FareAmount] AS [FareAmount], [T2_1].[SurchargeAmount] AS [SurchargeAmount], [T2_1].[TaxAmount] AS [TaxAmount], [T2_1].[TipAmount] AS [TipAmount], [T2_1].[TollsAmount] AS [TollsAmount], [T2_1].[TotalAmount] AS [TotalAmount] FROM [dsqlpool].[dbo].[Trip] AS T2_1) AS T1_1\r\nOPTION (MAXDOP 1, MIN_GRANT_PERCENT = [MIN_GRANT], DISTRIBUTED_MOVE(N''), MAX_GRANT_PERCENT = [MAX_GRANT])</td></tr>",
                            "<tr><td>QID26195</td><td>2</td><td>-1</td><td>RandomIDOperation</td><td>Unspecified</td><td>Control</td><td>Complete</td><td>NULL</td><td>2023-01-07 17:43:54.513</td><td>2023-01-07 17:43:54.513</td><td>0</td><td>-1</td><td>-1</td><td>TEMP_ID_32</td></tr>",
                            "<tr><td>QID26195</td><td>3</td><td>-1</td><td>OnOperation</td><td>AllComputeNodes</td><td>Compute</td><td>Complete</td><td>NULL</td><td>2023-01-07 17:43:54.513</td><td>2023-01-07 17:43:54.543</td><td>31</td><td>-1</td><td>-1</td><td>CREATE TABLE [tempdb].[dbo].[TEMP_ID_32] ([DateID] INT NOT NULL, [MedallionID] INT NOT NULL, [HackneyLicenseID] INT NOT NULL, [PickupTimeID] INT NOT NULL, [DropoffTimeID] INT NOT NULL, [PickupGeographyID] INT, [DropoffGeographyID] INT, [PickupLatitude] FLOAT(53), [PickupLongitude] FLOAT(53), [PickupLatLong] VARCHAR(50) COLLATE SQL_Latin1_General_CP1_CI_AS, [DropoffLatitude] FLOAT(53), [DropoffLongitude] FLOAT(53), [DropoffLatLong] VARCHAR(50) COLLATE SQL_Latin1_General_CP1_CI_AS, [PassengerCount] INT, [TripDurationSeconds] INT, [TripDistanceMiles] FLOAT(53), [PaymentType] VARCHAR(50) COLLATE SQL_Latin1_General_CP1_CI_AS, [FareAmount] MONEY, [SurchargeAmount] MONEY, [TaxAmount] MONEY, [TipAmount] MONEY, [TollsAmount] MONEY, [TotalAmount] MONEY ) WITH(DATA_COMPRESSION=PAGE);</td></tr>",
                            "<tr><td>QID26195</td><td>4</td><td>-1</td><td>MoveOperation</td><td>Unspecified</td><td>DMS</td><td>Complete</td><td>NULL</td><td>2023-01-07 17:43:54.543</td><td>2023-01-07 17:44:18.747</td><td>24203</td><td>10000000</td><td>10000000</td><td>SELECT [T1_1].[DateID] AS [DateID], [T1_1].[MedallionID] AS [MedallionID], [T1_1].[HackneyLicenseID] AS [HackneyLicenseID], [T1_1].[PickupTimeID] AS [PickupTimeID], [T1_1].[DropoffTimeID] AS [DropoffTimeID], [T1_1].[PickupGeographyID] AS [PickupGeographyID], [T1_1].[DropoffGeographyID] AS [DropoffGeographyID], [T1_1].[PickupLatitude] AS [PickupLatitude], [T1_1].[PickupLongitude] AS [PickupLongitude], [T1_1].[PickupLatLong] AS [PickupLatLong], [T1_1].[DropoffLatitude] AS [DropoffLatitude], [T1_1].[DropoffLongitude] AS [DropoffLongitude], [T1_1].[DropoffLatLong] AS [DropoffLatLong], [T1_1].[PassengerCount] AS [PassengerCount], [T1_1].[TripDurationSeconds] AS [TripDurationSeconds], [T1_1].[TripDistanceMiles] AS [TripDistanceMiles], [T1_1].[PaymentType] AS [PaymentType], [T1_1].[FareAmount] AS [FareAmount], [T1_1].[SurchargeAmount] AS [SurchargeAmount], [T1_1].[TaxAmount] AS [TaxAmount], [T1_1].[TipAmount] AS [TipAmount], [T1_1].[TollsAmount] AS [TollsAmount], [T1_1].[TotalAmount] AS [TotalAmount] FROM (SELECT TOP (CAST ((10000000) AS BIGINT)) [T2_1].[DateID] AS [DateID], [T2_1].[MedallionID] AS [MedallionID], [T2_1].[HackneyLicenseID] AS [HackneyLicenseID], [T2_1].[PickupTimeID] AS [PickupTimeID], [T2_1].[DropoffTimeID] AS [DropoffTimeID], [T2_1].[PickupGeographyID] AS [PickupGeographyID], [T2_1].[DropoffGeographyID] AS [DropoffGeographyID], [T2_1].[PickupLatitude] AS [PickupLatitude], [T2_1].[PickupLongitude] AS [PickupLongitude], [T2_1].[PickupLatLong] AS [PickupLatLong], [T2_1].[DropoffLatitude] AS [DropoffLatitude], [T2_1].[DropoffLongitude] AS [DropoffLongitude], [T2_1].[DropoffLatLong] AS [DropoffLatLong], [T2_1].[PassengerCount] AS [PassengerCount], [T2_1].[TripDurationSeconds] AS [TripDurationSeconds], [T2_1].[TripDistanceMiles] AS [TripDistanceMiles], [T2_1].[PaymentType] AS [PaymentType], [T2_1].[FareAmount] AS [FareAmount], [T2_1].[SurchargeAmount] AS [SurchargeAmount], [T2_1].[TaxAmount] AS [TaxAmount], [T2_1].[TipAmount] AS [TipAmount], [T2_1].[TollsAmount] AS [TollsAmount], [T2_1].[TotalAmount] AS [TotalAmount] FROM [tempdb].[QTables].[QTable_9c8c948544ac4af494349e9514335c60] AS T2_1) AS T1_1\r\nOPTION (MAXDOP 1, MAX_GRANT_PERCENT = [MAX_GRANT])</td></tr>",
                            "<tr><td>QID26195</td><td>5</td><td>-1</td><td>OnOperation</td><td>Unspecified</td><td>Control</td><td>Complete</td><td>NULL</td><td>2023-01-07 17:44:18.747</td><td>2023-01-07 17:44:18.747</td><td>0</td><td>-1</td><td>-1</td><td>DROP TABLE [tempdb].[QTables].[QTable_9c8c948544ac4af494349e9514335c60]</td></tr>",
                            "<tr><td>QID26195</td><td>6</td><td>-1</td><td>RandomIDOperation</td><td>Unspecified</td><td>Control</td><td>Complete</td><td>NULL</td><td>2023-01-07 17:44:18.747</td><td>2023-01-07 17:44:18.747</td><td>0</td><td>-1</td><td>-1</td><td>TEMP_ID_33</td></tr>",
                            "<tr><td>QID26195</td><td>7</td><td>-1</td><td>OnOperation</td><td>AllDistributions</td><td>Compute</td><td>Complete</td><td>NULL</td><td>2023-01-07 17:44:18.747</td><td>2023-01-07 17:44:18.857</td><td>109</td><td>-1</td><td>-1</td><td>CREATE TABLE [tempdb].[dbo].[TEMP_ID_33] ([DateID] INT NOT NULL, [MedallionID] INT NOT NULL, [HackneyLicenseID] INT NOT NULL, [PickupTimeID] INT NOT NULL, [DropoffTimeID] INT NOT NULL, [PickupGeographyID] INT, [DropoffGeographyID] INT, [PickupLatitude] FLOAT(53), [PickupLongitude] FLOAT(53), [PickupLatLong] VARCHAR(50) COLLATE SQL_Latin1_General_CP1_CI_AS, [DropoffLatitude] FLOAT(53), [DropoffLongitude] FLOAT(53), [DropoffLatLong] VARCHAR(50) COLLATE SQL_Latin1_General_CP1_CI_AS, [PassengerCount] INT, [TripDurationSeconds] INT, [TripDistanceMiles] FLOAT(53), [PaymentType] VARCHAR(50) COLLATE SQL_Latin1_General_CP1_CI_AS, [FareAmount] MONEY, [SurchargeAmount] MONEY, [TaxAmount] MONEY, [TipAmount] MONEY, [TollsAmount] MONEY, [TotalAmount] MONEY ) WITH(DATA_COMPRESSION=PAGE);</td></tr>",
                            "<tr><td>QID26195</td><td>8</td><td>-1</td><td>TrimMoveOperation</td><td>Unspecified</td><td>DMS</td><td>Complete</td><td>NULL</td><td>2023-01-07 17:44:18.857</td><td>2023-01-07 17:45:01.780</td><td>42922</td><td>10000000</td><td>10000000</td><td>SELECT [T1_1].[DateID] AS [DateID], [T1_1].[MedallionID] AS [MedallionID], [T1_1].[HackneyLicenseID] AS [HackneyLicenseID], [T1_1].[PickupTimeID] AS [PickupTimeID], [T1_1].[DropoffTimeID] AS [DropoffTimeID], [T1_1].[PickupGeographyID] AS [PickupGeographyID], [T1_1].[DropoffGeographyID] AS [DropoffGeographyID], [T1_1].[PickupLatitude] AS [PickupLatitude], [T1_1].[PickupLongitude] AS [PickupLongitude], [T1_1].[PickupLatLong] AS [PickupLatLong], [T1_1].[DropoffLatitude] AS [DropoffLatitude], [T1_1].[DropoffLongitude] AS [DropoffLongitude], [T1_1].[DropoffLatLong] AS [DropoffLatLong], [T1_1].[PassengerCount] AS [PassengerCount], [T1_1].[TripDurationSeconds] AS [TripDurationSeconds], [T1_1].[TripDistanceMiles] AS [TripDistanceMiles], [T1_1].[PaymentType] AS [PaymentType], [T1_1].[FareAmount] AS [FareAmount], [T1_1].[SurchargeAmount] AS [SurchargeAmount], [T1_1].[TaxAmount] AS [TaxAmount], [T1_1].[TipAmount] AS [TipAmount], [T1_1].[TollsAmount] AS [TollsAmount], [T1_1].[TotalAmount] AS [TotalAmount] FROM [tempdb].[dbo].[TEMP_ID_32] AS T1_1\r\nOPTION (MAXDOP 1, MAX_GRANT_PERCENT = [MAX_GRANT])</td></tr>",
                            "<tr><td>QID26195</td><td>9</td><td>-1</td><td>OnOperation</td><td>AllComputeNodes</td><td>Compute</td><td>Complete</td><td>NULL</td><td>2023-01-07 17:45:01.780</td><td>2023-01-07 17:45:01.797</td><td>15</td><td>-1</td><td>-1</td><td>DROP TABLE [tempdb].[dbo].[TEMP_ID_32]</td></tr>",
                            "<tr><td>QID26195</td><td>10</td><td>-1</td><td>OnOperation</td><td>AllDistributions</td><td>Compute</td><td>Complete</td><td>NULL</td><td>2023-01-07 17:45:01.797</td><td>2023-01-07 17:45:22.310</td><td>20515</td><td>10000000</td><td>-1</td><td>INSERT INTO [dsqlpool].[dbo].[Trip_hash] WITH (TABLOCK) ([DateID], [MedallionID], [HackneyLicenseID], [PickupTimeID], [DropoffTimeID], [PickupGeographyID], [DropoffGeographyID], [PickupLatitude], [PickupLongitude], [PickupLatLong], [DropoffLatitude], [DropoffLongitude], [DropoffLatLong], [PassengerCount], [TripDurationSeconds], [TripDistanceMiles], [PaymentType], [FareAmount], [SurchargeAmount], [TaxAmount], [TipAmount], [TollsAmount], [TotalAmount])\r\nSELECT [T1_1].[DateID], [T1_1].[MedallionID], [T1_1].[HackneyLicenseID], [T1_1].[PickupTimeID], [T1_1].[DropoffTimeID], [T1_1].[PickupGeographyID], [T1_1].[DropoffGeographyID], [T1_1].[PickupLatitude], [T1_1].[PickupLongitude], [T1_1].[PickupLatLong], [T1_1].[DropoffLatitude], [T1_1].[DropoffLongitude], [T1_1].[DropoffLatLong], [T1_1].[PassengerCount], [T1_1].[TripDurationSeconds], [T1_1].[TripDistanceMiles], [T1_1].[PaymentType], [T1_1].[FareAmount], [T1_1].[SurchargeAmount], [T1_1].[TaxAmount], [T1_1].[TipAmount], [T1_1].[TollsAmount], [T1_1].[TotalAmount] FROM [tempdb].[dbo].[TEMP_ID_33] AS T1_1\r\nOPTION (MAXDOP 1, MAX_GRANT_PERCENT = [MAX_GRANT])</td></tr>",
                            "<tr><td>QID26195</td><td>11</td><td>-1</td><td>OnOperation</td><td>AllDistributions</td><td>Compute</td><td>Complete</td><td>NULL</td><td>2023-01-07 17:45:22.310</td><td>2023-01-07 17:45:22.420</td><td>109</td><td>-1</td><td>-1</td><td>DROP TABLE [tempdb].[dbo].[TEMP_ID_33]</td></tr>",
                            "</table>"
                        ]
                    }
                },
                {
                    "output_type": "execute_result",
                    "metadata": {},
                    "execution_count": 8,
                    "data": {
                        "application/vnd.dataresource+json": {
                            "schema": {
                                "fields": [
                                    {
                                        "name": "request_id"
                                    },
                                    {
                                        "name": "step_index"
                                    },
                                    {
                                        "name": "plan_node_id"
                                    },
                                    {
                                        "name": "operation_type"
                                    },
                                    {
                                        "name": "distribution_type"
                                    },
                                    {
                                        "name": "location_type"
                                    },
                                    {
                                        "name": "status"
                                    },
                                    {
                                        "name": "error_id"
                                    },
                                    {
                                        "name": "start_time"
                                    },
                                    {
                                        "name": "end_time"
                                    },
                                    {
                                        "name": "total_elapsed_time"
                                    },
                                    {
                                        "name": "row_count"
                                    },
                                    {
                                        "name": "estimated_rows"
                                    },
                                    {
                                        "name": "command"
                                    }
                                ]
                            },
                            "data": [
                                {
                                    "0": "QID26327",
                                    "1": "0",
                                    "2": "-1",
                                    "3": "RandomIDOperation",
                                    "4": "Unspecified",
                                    "5": "Control",
                                    "6": "Complete",
                                    "7": "NULL",
                                    "8": "2023-01-07 17:48:02.580",
                                    "9": "2023-01-07 17:48:02.580",
                                    "10": "0",
                                    "11": "-1",
                                    "12": "-1",
                                    "13": "TEMP_ID_34"
                                },
                                {
                                    "0": "QID26327",
                                    "1": "1",
                                    "2": "-1",
                                    "3": "OnOperation",
                                    "4": "AllComputeNodes",
                                    "5": "Compute",
                                    "6": "Complete",
                                    "7": "NULL",
                                    "8": "2023-01-07 17:48:02.580",
                                    "9": "2023-01-07 17:48:02.610",
                                    "10": "31",
                                    "11": "-1",
                                    "12": "-1",
                                    "13": "CREATE TABLE [qtabledb].[dbo].[TEMP_ID_34] ([GeographyID] INT NOT NULL, [ZipCodeBKey] VARCHAR(10) COLLATE SQL_Latin1_General_CP1_CI_AS NOT NULL, [County] VARCHAR(50) COLLATE SQL_Latin1_General_CP1_CI_AS, [City] VARCHAR(50) COLLATE SQL_Latin1_General_CP1_CI_AS, [State] VARCHAR(50) COLLATE SQL_Latin1_General_CP1_CI_AS, [Country] VARCHAR(50) COLLATE SQL_Latin1_General_CP1_CI_AS, [ZipCode] VARCHAR(50) COLLATE SQL_Latin1_General_CP1_CI_AS ) WITH(DISTRIBUTED_MOVE_FILE='');"
                                },
                                {
                                    "0": "QID26327",
                                    "1": "2",
                                    "2": "2",
                                    "3": "BroadcastMoveOperation",
                                    "4": "AllDistributions",
                                    "5": "Compute",
                                    "6": "Complete",
                                    "7": "NULL",
                                    "8": "2023-01-07 17:48:02.610",
                                    "9": "2023-01-07 17:48:02.783",
                                    "10": "171",
                                    "11": "305179",
                                    "12": "305179",
                                    "13": "SELECT [T1_1].[GeographyID] AS [GeographyID], [T1_1].[ZipCodeBKey] AS [ZipCodeBKey], [T1_1].[County] AS [County], [T1_1].[City] AS [City], [T1_1].[State] AS [State], [T1_1].[Country] AS [Country], [T1_1].[ZipCode] AS [ZipCode] FROM [dsqlpool].[dbo].[Geography] AS T1_1\r\nOPTION (MAXDOP 1, MIN_GRANT_PERCENT = [MIN_GRANT], DISTRIBUTED_MOVE(N''), MAX_GRANT_PERCENT = [MAX_GRANT])"
                                },
                                {
                                    "0": "QID26327",
                                    "1": "3",
                                    "2": "24",
                                    "3": "ReturnOperation",
                                    "4": "AllDistributions",
                                    "5": "Compute",
                                    "6": "Complete",
                                    "7": "NULL",
                                    "8": "2023-01-07 17:48:02.783",
                                    "9": "2023-01-07 17:48:21.440",
                                    "10": "18656",
                                    "11": "100000",
                                    "12": "0",
                                    "13": "SELECT [T1_1].[DateID] AS [DateID], [T1_1].[MedallionID] AS [MedallionID], [T1_1].[HackneyLicenseID] AS [HackneyLicenseID], [T1_1].[PickupTimeID] AS [PickupTimeID], [T1_1].[DropoffTimeID] AS [DropoffTimeID], [T1_1].[PickupGeographyID] AS [PickupGeographyID], [T1_1].[DropoffGeographyID] AS [DropoffGeographyID], [T1_1].[PickupLatitude] AS [PickupLatitude], [T1_1].[PickupLongitude] AS [PickupLongitude], [T1_1].[PickupLatLong] AS [PickupLatLong], [T1_1].[DropoffLatitude] AS [DropoffLatitude], [T1_1].[DropoffLongitude] AS [DropoffLongitude], [T1_1].[DropoffLatLong] AS [DropoffLatLong], [T1_1].[PassengerCount] AS [PassengerCount], [T1_1].[TripDurationSeconds] AS [TripDurationSeconds], [T1_1].[TripDistanceMiles] AS [TripDistanceMiles], [T1_1].[PaymentType] AS [PaymentType], [T1_1].[FareAmount] AS [FareAmount], [T1_1].[SurchargeAmount] AS [SurchargeAmount], [T1_1].[TaxAmount] AS [TaxAmount], [T1_1].[TipAmount] AS [TipAmount], [T1_1].[TollsAmount] AS [TollsAmount], [T1_1].[TotalAmount] AS [TotalAmount], [T1_1].[GeographyID] AS [GeographyID], [T1_1].[ZipCodeBKey] AS [ZipCodeBKey], [T1_1].[County] AS [County], [T1_1].[City] AS [City], [T1_1].[State] AS [State], [T1_1].[Country] AS [Country], [T1_1].[ZipCode] AS [ZipCode] FROM (SELECT TOP (CAST ((100000) AS BIGINT)) [T2_2].[DateID] AS [DateID], [T2_2].[MedallionID] AS [MedallionID], [T2_2].[HackneyLicenseID] AS [HackneyLicenseID], [T2_2].[PickupTimeID] AS [PickupTimeID], [T2_2].[DropoffTimeID] AS [DropoffTimeID], [T2_2].[PickupGeographyID] AS [PickupGeographyID], [T2_2].[DropoffGeographyID] AS [DropoffGeographyID], [T2_2].[PickupLatitude] AS [PickupLatitude], [T2_2].[PickupLongitude] AS [PickupLongitude], [T2_2].[PickupLatLong] AS [PickupLatLong], [T2_2].[DropoffLatitude] AS [DropoffLatitude], [T2_2].[DropoffLongitude] AS [DropoffLongitude], [T2_2].[DropoffLatLong] AS [DropoffLatLong], [T2_2].[PassengerCount] AS [PassengerCount], [T2_2].[TripDurationSeconds] AS [TripDurationSeconds], [T2_2].[TripDistanceMiles] AS [TripDistanceMiles], [T2_2].[PaymentType] AS [PaymentType], [T2_2].[FareAmount] AS [FareAmount], [T2_2].[SurchargeAmount] AS [SurchargeAmount], [T2_2].[TaxAmount] AS [TaxAmount], [T2_2].[TipAmount] AS [TipAmount], [T2_2].[TollsAmount] AS [TollsAmount], [T2_2].[TotalAmount] AS [TotalAmount], [T2_1].[GeographyID] AS [GeographyID], [T2_1].[ZipCodeBKey] AS [ZipCodeBKey], [T2_1].[County] AS [County], [T2_1].[City] AS [City], [T2_1].[State] AS [State], [T2_1].[Country] AS [Country], [T2_1].[ZipCode] AS [ZipCode] FROM [qtabledb].[dbo].[TEMP_ID_34] AS T2_1 INNER JOIN\r\n(SELECT [T3_1].[PickupGeographyID] AS [PickupGeographyID], [T3_1].[DateID] AS [DateID], [T3_1].[MedallionID] AS [MedallionID], [T3_1].[HackneyLicenseID] AS [HackneyLicenseID], [T3_1].[PickupTimeID] AS [PickupTimeID], [T3_1].[DropoffTimeID] AS [DropoffTimeID], [T3_1].[DropoffGeographyID] AS [DropoffGeographyID], [T3_1].[PickupLatitude] AS [PickupLatitude], [T3_1].[PickupLongitude] AS [PickupLongitude], [T3_1].[PickupLatLong] AS [PickupLatLong], [T3_1].[DropoffLatitude] AS [DropoffLatitude], [T3_1].[DropoffLongitude] AS [DropoffLongitude], [T3_1].[DropoffLatLong] AS [DropoffLatLong], [T3_1].[PassengerCount] AS [PassengerCount], [T3_1].[TripDurationSeconds] AS [TripDurationSeconds], [T3_1].[TripDistanceMiles] AS [TripDistanceMiles], [T3_1].[PaymentType] AS [PaymentType], [T3_1].[FareAmount] AS [FareAmount], [T3_1].[SurchargeAmount] AS [SurchargeAmount], [T3_1].[TaxAmount] AS [TaxAmount], [T3_1].[TipAmount] AS [TipAmount], [T3_1].[TollsAmount] AS [TollsAmount], [T3_1].[TotalAmount] AS [TotalAmount] FROM [dsqlpool].[dbo].[Trip] AS T3_1 WHERE ([T3_1].[PickupGeographyID] IS NOT NULL)) AS T2_2\r\nON ([T2_1].[GeographyID] = [T2_2].[PickupGeographyID])) AS T1_1\r\nOPTION (MAXDOP 1, MIN_GRANT_PERCENT = [MIN_GRANT], MAX_GRANT_PERCENT = [MAX_GRANT])"
                                },
                                {
                                    "0": "QID26327",
                                    "1": "4",
                                    "2": "-1",
                                    "3": "OnOperation",
                                    "4": "AllComputeNodes",
                                    "5": "Compute",
                                    "6": "Complete",
                                    "7": "NULL",
                                    "8": "2023-01-07 17:48:21.440",
                                    "9": "2023-01-07 17:48:21.453",
                                    "10": "15",
                                    "11": "-1",
                                    "12": "-1",
                                    "13": "DROP TABLE [qtabledb].[dbo].[TEMP_ID_34]"
                                }
                            ]
                        },
                        "text/html": [
                            "<table>",
                            "<tr><th>request_id</th><th>step_index</th><th>plan_node_id</th><th>operation_type</th><th>distribution_type</th><th>location_type</th><th>status</th><th>error_id</th><th>start_time</th><th>end_time</th><th>total_elapsed_time</th><th>row_count</th><th>estimated_rows</th><th>command</th></tr>",
                            "<tr><td>QID26327</td><td>0</td><td>-1</td><td>RandomIDOperation</td><td>Unspecified</td><td>Control</td><td>Complete</td><td>NULL</td><td>2023-01-07 17:48:02.580</td><td>2023-01-07 17:48:02.580</td><td>0</td><td>-1</td><td>-1</td><td>TEMP_ID_34</td></tr>",
                            "<tr><td>QID26327</td><td>1</td><td>-1</td><td>OnOperation</td><td>AllComputeNodes</td><td>Compute</td><td>Complete</td><td>NULL</td><td>2023-01-07 17:48:02.580</td><td>2023-01-07 17:48:02.610</td><td>31</td><td>-1</td><td>-1</td><td>CREATE TABLE [qtabledb].[dbo].[TEMP_ID_34] ([GeographyID] INT NOT NULL, [ZipCodeBKey] VARCHAR(10) COLLATE SQL_Latin1_General_CP1_CI_AS NOT NULL, [County] VARCHAR(50) COLLATE SQL_Latin1_General_CP1_CI_AS, [City] VARCHAR(50) COLLATE SQL_Latin1_General_CP1_CI_AS, [State] VARCHAR(50) COLLATE SQL_Latin1_General_CP1_CI_AS, [Country] VARCHAR(50) COLLATE SQL_Latin1_General_CP1_CI_AS, [ZipCode] VARCHAR(50) COLLATE SQL_Latin1_General_CP1_CI_AS ) WITH(DISTRIBUTED_MOVE_FILE='');</td></tr>",
                            "<tr><td>QID26327</td><td>2</td><td>2</td><td>BroadcastMoveOperation</td><td>AllDistributions</td><td>Compute</td><td>Complete</td><td>NULL</td><td>2023-01-07 17:48:02.610</td><td>2023-01-07 17:48:02.783</td><td>171</td><td>305179</td><td>305179</td><td>SELECT [T1_1].[GeographyID] AS [GeographyID], [T1_1].[ZipCodeBKey] AS [ZipCodeBKey], [T1_1].[County] AS [County], [T1_1].[City] AS [City], [T1_1].[State] AS [State], [T1_1].[Country] AS [Country], [T1_1].[ZipCode] AS [ZipCode] FROM [dsqlpool].[dbo].[Geography] AS T1_1\r\nOPTION (MAXDOP 1, MIN_GRANT_PERCENT = [MIN_GRANT], DISTRIBUTED_MOVE(N''), MAX_GRANT_PERCENT = [MAX_GRANT])</td></tr>",
                            "<tr><td>QID26327</td><td>3</td><td>24</td><td>ReturnOperation</td><td>AllDistributions</td><td>Compute</td><td>Complete</td><td>NULL</td><td>2023-01-07 17:48:02.783</td><td>2023-01-07 17:48:21.440</td><td>18656</td><td>100000</td><td>0</td><td>SELECT [T1_1].[DateID] AS [DateID], [T1_1].[MedallionID] AS [MedallionID], [T1_1].[HackneyLicenseID] AS [HackneyLicenseID], [T1_1].[PickupTimeID] AS [PickupTimeID], [T1_1].[DropoffTimeID] AS [DropoffTimeID], [T1_1].[PickupGeographyID] AS [PickupGeographyID], [T1_1].[DropoffGeographyID] AS [DropoffGeographyID], [T1_1].[PickupLatitude] AS [PickupLatitude], [T1_1].[PickupLongitude] AS [PickupLongitude], [T1_1].[PickupLatLong] AS [PickupLatLong], [T1_1].[DropoffLatitude] AS [DropoffLatitude], [T1_1].[DropoffLongitude] AS [DropoffLongitude], [T1_1].[DropoffLatLong] AS [DropoffLatLong], [T1_1].[PassengerCount] AS [PassengerCount], [T1_1].[TripDurationSeconds] AS [TripDurationSeconds], [T1_1].[TripDistanceMiles] AS [TripDistanceMiles], [T1_1].[PaymentType] AS [PaymentType], [T1_1].[FareAmount] AS [FareAmount], [T1_1].[SurchargeAmount] AS [SurchargeAmount], [T1_1].[TaxAmount] AS [TaxAmount], [T1_1].[TipAmount] AS [TipAmount], [T1_1].[TollsAmount] AS [TollsAmount], [T1_1].[TotalAmount] AS [TotalAmount], [T1_1].[GeographyID] AS [GeographyID], [T1_1].[ZipCodeBKey] AS [ZipCodeBKey], [T1_1].[County] AS [County], [T1_1].[City] AS [City], [T1_1].[State] AS [State], [T1_1].[Country] AS [Country], [T1_1].[ZipCode] AS [ZipCode] FROM (SELECT TOP (CAST ((100000) AS BIGINT)) [T2_2].[DateID] AS [DateID], [T2_2].[MedallionID] AS [MedallionID], [T2_2].[HackneyLicenseID] AS [HackneyLicenseID], [T2_2].[PickupTimeID] AS [PickupTimeID], [T2_2].[DropoffTimeID] AS [DropoffTimeID], [T2_2].[PickupGeographyID] AS [PickupGeographyID], [T2_2].[DropoffGeographyID] AS [DropoffGeographyID], [T2_2].[PickupLatitude] AS [PickupLatitude], [T2_2].[PickupLongitude] AS [PickupLongitude], [T2_2].[PickupLatLong] AS [PickupLatLong], [T2_2].[DropoffLatitude] AS [DropoffLatitude], [T2_2].[DropoffLongitude] AS [DropoffLongitude], [T2_2].[DropoffLatLong] AS [DropoffLatLong], [T2_2].[PassengerCount] AS [PassengerCount], [T2_2].[TripDurationSeconds] AS [TripDurationSeconds], [T2_2].[TripDistanceMiles] AS [TripDistanceMiles], [T2_2].[PaymentType] AS [PaymentType], [T2_2].[FareAmount] AS [FareAmount], [T2_2].[SurchargeAmount] AS [SurchargeAmount], [T2_2].[TaxAmount] AS [TaxAmount], [T2_2].[TipAmount] AS [TipAmount], [T2_2].[TollsAmount] AS [TollsAmount], [T2_2].[TotalAmount] AS [TotalAmount], [T2_1].[GeographyID] AS [GeographyID], [T2_1].[ZipCodeBKey] AS [ZipCodeBKey], [T2_1].[County] AS [County], [T2_1].[City] AS [City], [T2_1].[State] AS [State], [T2_1].[Country] AS [Country], [T2_1].[ZipCode] AS [ZipCode] FROM [qtabledb].[dbo].[TEMP_ID_34] AS T2_1 INNER JOIN\r\n(SELECT [T3_1].[PickupGeographyID] AS [PickupGeographyID], [T3_1].[DateID] AS [DateID], [T3_1].[MedallionID] AS [MedallionID], [T3_1].[HackneyLicenseID] AS [HackneyLicenseID], [T3_1].[PickupTimeID] AS [PickupTimeID], [T3_1].[DropoffTimeID] AS [DropoffTimeID], [T3_1].[DropoffGeographyID] AS [DropoffGeographyID], [T3_1].[PickupLatitude] AS [PickupLatitude], [T3_1].[PickupLongitude] AS [PickupLongitude], [T3_1].[PickupLatLong] AS [PickupLatLong], [T3_1].[DropoffLatitude] AS [DropoffLatitude], [T3_1].[DropoffLongitude] AS [DropoffLongitude], [T3_1].[DropoffLatLong] AS [DropoffLatLong], [T3_1].[PassengerCount] AS [PassengerCount], [T3_1].[TripDurationSeconds] AS [TripDurationSeconds], [T3_1].[TripDistanceMiles] AS [TripDistanceMiles], [T3_1].[PaymentType] AS [PaymentType], [T3_1].[FareAmount] AS [FareAmount], [T3_1].[SurchargeAmount] AS [SurchargeAmount], [T3_1].[TaxAmount] AS [TaxAmount], [T3_1].[TipAmount] AS [TipAmount], [T3_1].[TollsAmount] AS [TollsAmount], [T3_1].[TotalAmount] AS [TotalAmount] FROM [dsqlpool].[dbo].[Trip] AS T3_1 WHERE ([T3_1].[PickupGeographyID] IS NOT NULL)) AS T2_2\r\nON ([T2_1].[GeographyID] = [T2_2].[PickupGeographyID])) AS T1_1\r\nOPTION (MAXDOP 1, MIN_GRANT_PERCENT = [MIN_GRANT], MAX_GRANT_PERCENT = [MAX_GRANT])</td></tr>",
                            "<tr><td>QID26327</td><td>4</td><td>-1</td><td>OnOperation</td><td>AllComputeNodes</td><td>Compute</td><td>Complete</td><td>NULL</td><td>2023-01-07 17:48:21.440</td><td>2023-01-07 17:48:21.453</td><td>15</td><td>-1</td><td>-1</td><td>DROP TABLE [qtabledb].[dbo].[TEMP_ID_34]</td></tr>",
                            "</table>"
                        ]
                    }
                }
            ],
            "execution_count": 8
        }
    ]
}