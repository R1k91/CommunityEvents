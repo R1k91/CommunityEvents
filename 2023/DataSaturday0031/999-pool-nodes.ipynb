{
    "metadata": {
        "kernelspec": {
            "name": "SQL",
            "display_name": "SQL",
            "language": "sql"
        },
        "language_info": {
            "name": "sql",
            "version": ""
        }
    },
    "nbformat_minor": 2,
    "nbformat": 4,
    "cells": [
        {
            "cell_type": "markdown",
            "source": [
                "# **Pool Architecture**\n",
                "\n",
                "This notebook:\n",
                "\n",
                "1. shows nodes that are part of the pool\n",
                "2. shows distribution attached to each node\n",
                "\n",
                "DMVs used in this notebook\n",
                "\n",
                "- [sys.dm\\_pdw\\_nodes](https://learn.microsoft.com/en-us/sql/relational-databases/system-dynamic-management-views/sys-dm-pdw-nodes-transact-sql?view=aps-pdw-2016-au7): Holds information about all of the nodes in Analytics Platform System. It lists one row per node in the appliance.\n",
                "    \n",
                "- [sys.pdw\\_distributions](https://learn.microsoft.com/en-us/sql/relational-databases/system-catalog-views/sys-pdw-distributions-transact-sql?view=aps-pdw-2016-au7): Holds information about the distributions on the appliance. It lists one row per appliance distribution."
            ],
            "metadata": {
                "azdata_cell_guid": "00ae0477-b0d5-4b64-aaac-b03f64e254de"
            },
            "attachments": {}
        },
        {
            "cell_type": "code",
            "source": [
                "select * from sys.dm_pdw_nodes\r\n",
                "select * from sys.pdw_distributions"
            ],
            "metadata": {
                "azdata_cell_guid": "4d27e63f-0afe-4252-b101-2db0c8b7dbaf",
                "language": "sql"
            },
            "outputs": [],
            "execution_count": null
        }
    ]
}