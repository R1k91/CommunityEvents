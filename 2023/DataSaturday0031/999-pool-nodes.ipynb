{
    "metadata": {
        "kernelspec": {
            "name": "SQL",
            "display_name": "SQL",
            "language": "sql"
        },
        "language_info": {
            "name": "sql",
            "version": ""
        }
    },
    "nbformat_minor": 2,
    "nbformat": 4,
    "cells": [
        {
            "cell_type": "markdown",
            "source": [
                "# **Pool Architecture**\n",
                "\n",
                "This notebook:\n",
                "\n",
                "1. shows nodes that are part of the pool\n",
                "2. shows distribution attached to each node\n",
                "\n",
                "DMVs used in this notebook\n",
                "\n",
                "- [sys.dm\\_pdw\\_nodes](https://learn.microsoft.com/en-us/sql/relational-databases/system-dynamic-management-views/sys-dm-pdw-nodes-transact-sql?view=aps-pdw-2016-au7): Holds information about all of the nodes in Analytics Platform System. It lists one row per node in the appliance.\n",
                "    \n",
                "- [sys.pdw\\_distributions](https://learn.microsoft.com/en-us/sql/relational-databases/system-catalog-views/sys-pdw-distributions-transact-sql?view=aps-pdw-2016-au7): Holds information about the distributions on the appliance. It lists one row per appliance distribution."
            ],
            "metadata": {
                "azdata_cell_guid": "00ae0477-b0d5-4b64-aaac-b03f64e254de"
            },
            "attachments": {}
        },
        {
            "cell_type": "code",
            "source": [
                "select * from sys.dm_pdw_nodes\r\n",
                "select * from sys.pdw_distributions"
            ],
            "metadata": {
                "azdata_cell_guid": "4d27e63f-0afe-4252-b101-2db0c8b7dbaf",
                "language": "sql"
            },
            "outputs": [
                {
                    "output_type": "display_data",
                    "data": {
                        "text/html": "(3 rows affected)"
                    },
                    "metadata": {}
                },
                {
                    "output_type": "display_data",
                    "data": {
                        "text/html": "(60 rows affected)"
                    },
                    "metadata": {}
                },
                {
                    "output_type": "display_data",
                    "data": {
                        "text/html": "Total execution time: 00:00:00.232"
                    },
                    "metadata": {}
                },
                {
                    "output_type": "execute_result",
                    "execution_count": 1,
                    "data": {
                        "application/vnd.dataresource+json": {
                            "schema": {
                                "fields": [
                                    {
                                        "name": "pdw_node_id"
                                    },
                                    {
                                        "name": "type"
                                    },
                                    {
                                        "name": "name"
                                    },
                                    {
                                        "name": "address"
                                    },
                                    {
                                        "name": "is_passive"
                                    },
                                    {
                                        "name": "region"
                                    }
                                ]
                            },
                            "data": [
                                {
                                    "0": "25",
                                    "1": "CONTROL",
                                    "2": "DB.25",
                                    "3": "NULL",
                                    "4": "0",
                                    "5": "NULL"
                                },
                                {
                                    "0": "22",
                                    "1": "COMPUTE",
                                    "2": "DB.22",
                                    "3": "NULL",
                                    "4": "0",
                                    "5": "NULL"
                                },
                                {
                                    "0": "14",
                                    "1": "COMPUTE",
                                    "2": "DB.14",
                                    "3": "NULL",
                                    "4": "0",
                                    "5": "NULL"
                                }
                            ]
                        },
                        "text/html": "<table><tr><th>pdw_node_id</th><th>type</th><th>name</th><th>address</th><th>is_passive</th><th>region</th></tr><tr><td>25</td><td>CONTROL</td><td>DB.25</td><td>NULL</td><td>0</td><td>NULL</td></tr><tr><td>22</td><td>COMPUTE</td><td>DB.22</td><td>NULL</td><td>0</td><td>NULL</td></tr><tr><td>14</td><td>COMPUTE</td><td>DB.14</td><td>NULL</td><td>0</td><td>NULL</td></tr></table>"
                    },
                    "metadata": {}
                },
                {
                    "output_type": "execute_result",
                    "execution_count": 1,
                    "data": {
                        "application/vnd.dataresource+json": {
                            "schema": {
                                "fields": [
                                    {
                                        "name": "distribution_id"
                                    },
                                    {
                                        "name": "pdw_node_id"
                                    },
                                    {
                                        "name": "name"
                                    },
                                    {
                                        "name": "position"
                                    }
                                ]
                            },
                            "data": [
                                {
                                    "0": "1",
                                    "1": "22",
                                    "2": "1",
                                    "3": "1"
                                },
                                {
                                    "0": "2",
                                    "1": "22",
                                    "2": "2",
                                    "3": "2"
                                },
                                {
                                    "0": "3",
                                    "1": "22",
                                    "2": "3",
                                    "3": "3"
                                },
                                {
                                    "0": "4",
                                    "1": "22",
                                    "2": "4",
                                    "3": "4"
                                },
                                {
                                    "0": "5",
                                    "1": "22",
                                    "2": "5",
                                    "3": "5"
                                },
                                {
                                    "0": "6",
                                    "1": "22",
                                    "2": "6",
                                    "3": "6"
                                },
                                {
                                    "0": "7",
                                    "1": "22",
                                    "2": "7",
                                    "3": "7"
                                },
                                {
                                    "0": "8",
                                    "1": "22",
                                    "2": "8",
                                    "3": "8"
                                },
                                {
                                    "0": "9",
                                    "1": "22",
                                    "2": "9",
                                    "3": "9"
                                },
                                {
                                    "0": "10",
                                    "1": "22",
                                    "2": "10",
                                    "3": "10"
                                },
                                {
                                    "0": "11",
                                    "1": "22",
                                    "2": "11",
                                    "3": "11"
                                },
                                {
                                    "0": "12",
                                    "1": "22",
                                    "2": "12",
                                    "3": "12"
                                },
                                {
                                    "0": "13",
                                    "1": "22",
                                    "2": "13",
                                    "3": "13"
                                },
                                {
                                    "0": "14",
                                    "1": "22",
                                    "2": "14",
                                    "3": "14"
                                },
                                {
                                    "0": "15",
                                    "1": "22",
                                    "2": "15",
                                    "3": "15"
                                },
                                {
                                    "0": "16",
                                    "1": "22",
                                    "2": "16",
                                    "3": "16"
                                },
                                {
                                    "0": "17",
                                    "1": "22",
                                    "2": "17",
                                    "3": "17"
                                },
                                {
                                    "0": "18",
                                    "1": "22",
                                    "2": "18",
                                    "3": "18"
                                },
                                {
                                    "0": "19",
                                    "1": "22",
                                    "2": "19",
                                    "3": "19"
                                },
                                {
                                    "0": "20",
                                    "1": "22",
                                    "2": "20",
                                    "3": "20"
                                },
                                {
                                    "0": "21",
                                    "1": "22",
                                    "2": "21",
                                    "3": "21"
                                },
                                {
                                    "0": "22",
                                    "1": "22",
                                    "2": "22",
                                    "3": "22"
                                },
                                {
                                    "0": "23",
                                    "1": "22",
                                    "2": "23",
                                    "3": "23"
                                },
                                {
                                    "0": "24",
                                    "1": "22",
                                    "2": "24",
                                    "3": "24"
                                },
                                {
                                    "0": "25",
                                    "1": "22",
                                    "2": "25",
                                    "3": "25"
                                },
                                {
                                    "0": "26",
                                    "1": "22",
                                    "2": "26",
                                    "3": "26"
                                },
                                {
                                    "0": "27",
                                    "1": "22",
                                    "2": "27",
                                    "3": "27"
                                },
                                {
                                    "0": "28",
                                    "1": "22",
                                    "2": "28",
                                    "3": "28"
                                },
                                {
                                    "0": "29",
                                    "1": "22",
                                    "2": "29",
                                    "3": "29"
                                },
                                {
                                    "0": "30",
                                    "1": "22",
                                    "2": "30",
                                    "3": "30"
                                },
                                {
                                    "0": "31",
                                    "1": "14",
                                    "2": "31",
                                    "3": "1"
                                },
                                {
                                    "0": "32",
                                    "1": "14",
                                    "2": "32",
                                    "3": "2"
                                },
                                {
                                    "0": "33",
                                    "1": "14",
                                    "2": "33",
                                    "3": "3"
                                },
                                {
                                    "0": "34",
                                    "1": "14",
                                    "2": "34",
                                    "3": "4"
                                },
                                {
                                    "0": "35",
                                    "1": "14",
                                    "2": "35",
                                    "3": "5"
                                },
                                {
                                    "0": "36",
                                    "1": "14",
                                    "2": "36",
                                    "3": "6"
                                },
                                {
                                    "0": "37",
                                    "1": "14",
                                    "2": "37",
                                    "3": "7"
                                },
                                {
                                    "0": "38",
                                    "1": "14",
                                    "2": "38",
                                    "3": "8"
                                },
                                {
                                    "0": "39",
                                    "1": "14",
                                    "2": "39",
                                    "3": "9"
                                },
                                {
                                    "0": "40",
                                    "1": "14",
                                    "2": "40",
                                    "3": "10"
                                },
                                {
                                    "0": "41",
                                    "1": "14",
                                    "2": "41",
                                    "3": "11"
                                },
                                {
                                    "0": "42",
                                    "1": "14",
                                    "2": "42",
                                    "3": "12"
                                },
                                {
                                    "0": "43",
                                    "1": "14",
                                    "2": "43",
                                    "3": "13"
                                },
                                {
                                    "0": "44",
                                    "1": "14",
                                    "2": "44",
                                    "3": "14"
                                },
                                {
                                    "0": "45",
                                    "1": "14",
                                    "2": "45",
                                    "3": "15"
                                },
                                {
                                    "0": "46",
                                    "1": "14",
                                    "2": "46",
                                    "3": "16"
                                },
                                {
                                    "0": "47",
                                    "1": "14",
                                    "2": "47",
                                    "3": "17"
                                },
                                {
                                    "0": "48",
                                    "1": "14",
                                    "2": "48",
                                    "3": "18"
                                },
                                {
                                    "0": "49",
                                    "1": "14",
                                    "2": "49",
                                    "3": "19"
                                },
                                {
                                    "0": "50",
                                    "1": "14",
                                    "2": "50",
                                    "3": "20"
                                },
                                {
                                    "0": "51",
                                    "1": "14",
                                    "2": "51",
                                    "3": "21"
                                },
                                {
                                    "0": "52",
                                    "1": "14",
                                    "2": "52",
                                    "3": "22"
                                },
                                {
                                    "0": "53",
                                    "1": "14",
                                    "2": "53",
                                    "3": "23"
                                },
                                {
                                    "0": "54",
                                    "1": "14",
                                    "2": "54",
                                    "3": "24"
                                },
                                {
                                    "0": "55",
                                    "1": "14",
                                    "2": "55",
                                    "3": "25"
                                },
                                {
                                    "0": "56",
                                    "1": "14",
                                    "2": "56",
                                    "3": "26"
                                },
                                {
                                    "0": "57",
                                    "1": "14",
                                    "2": "57",
                                    "3": "27"
                                },
                                {
                                    "0": "58",
                                    "1": "14",
                                    "2": "58",
                                    "3": "28"
                                },
                                {
                                    "0": "59",
                                    "1": "14",
                                    "2": "59",
                                    "3": "29"
                                },
                                {
                                    "0": "60",
                                    "1": "14",
                                    "2": "60",
                                    "3": "30"
                                }
                            ]
                        },
                        "text/html": "<table><tr><th>distribution_id</th><th>pdw_node_id</th><th>name</th><th>position</th></tr><tr><td>1</td><td>22</td><td>1</td><td>1</td></tr><tr><td>2</td><td>22</td><td>2</td><td>2</td></tr><tr><td>3</td><td>22</td><td>3</td><td>3</td></tr><tr><td>4</td><td>22</td><td>4</td><td>4</td></tr><tr><td>5</td><td>22</td><td>5</td><td>5</td></tr><tr><td>6</td><td>22</td><td>6</td><td>6</td></tr><tr><td>7</td><td>22</td><td>7</td><td>7</td></tr><tr><td>8</td><td>22</td><td>8</td><td>8</td></tr><tr><td>9</td><td>22</td><td>9</td><td>9</td></tr><tr><td>10</td><td>22</td><td>10</td><td>10</td></tr><tr><td>11</td><td>22</td><td>11</td><td>11</td></tr><tr><td>12</td><td>22</td><td>12</td><td>12</td></tr><tr><td>13</td><td>22</td><td>13</td><td>13</td></tr><tr><td>14</td><td>22</td><td>14</td><td>14</td></tr><tr><td>15</td><td>22</td><td>15</td><td>15</td></tr><tr><td>16</td><td>22</td><td>16</td><td>16</td></tr><tr><td>17</td><td>22</td><td>17</td><td>17</td></tr><tr><td>18</td><td>22</td><td>18</td><td>18</td></tr><tr><td>19</td><td>22</td><td>19</td><td>19</td></tr><tr><td>20</td><td>22</td><td>20</td><td>20</td></tr><tr><td>21</td><td>22</td><td>21</td><td>21</td></tr><tr><td>22</td><td>22</td><td>22</td><td>22</td></tr><tr><td>23</td><td>22</td><td>23</td><td>23</td></tr><tr><td>24</td><td>22</td><td>24</td><td>24</td></tr><tr><td>25</td><td>22</td><td>25</td><td>25</td></tr><tr><td>26</td><td>22</td><td>26</td><td>26</td></tr><tr><td>27</td><td>22</td><td>27</td><td>27</td></tr><tr><td>28</td><td>22</td><td>28</td><td>28</td></tr><tr><td>29</td><td>22</td><td>29</td><td>29</td></tr><tr><td>30</td><td>22</td><td>30</td><td>30</td></tr><tr><td>31</td><td>14</td><td>31</td><td>1</td></tr><tr><td>32</td><td>14</td><td>32</td><td>2</td></tr><tr><td>33</td><td>14</td><td>33</td><td>3</td></tr><tr><td>34</td><td>14</td><td>34</td><td>4</td></tr><tr><td>35</td><td>14</td><td>35</td><td>5</td></tr><tr><td>36</td><td>14</td><td>36</td><td>6</td></tr><tr><td>37</td><td>14</td><td>37</td><td>7</td></tr><tr><td>38</td><td>14</td><td>38</td><td>8</td></tr><tr><td>39</td><td>14</td><td>39</td><td>9</td></tr><tr><td>40</td><td>14</td><td>40</td><td>10</td></tr><tr><td>41</td><td>14</td><td>41</td><td>11</td></tr><tr><td>42</td><td>14</td><td>42</td><td>12</td></tr><tr><td>43</td><td>14</td><td>43</td><td>13</td></tr><tr><td>44</td><td>14</td><td>44</td><td>14</td></tr><tr><td>45</td><td>14</td><td>45</td><td>15</td></tr><tr><td>46</td><td>14</td><td>46</td><td>16</td></tr><tr><td>47</td><td>14</td><td>47</td><td>17</td></tr><tr><td>48</td><td>14</td><td>48</td><td>18</td></tr><tr><td>49</td><td>14</td><td>49</td><td>19</td></tr><tr><td>50</td><td>14</td><td>50</td><td>20</td></tr><tr><td>51</td><td>14</td><td>51</td><td>21</td></tr><tr><td>52</td><td>14</td><td>52</td><td>22</td></tr><tr><td>53</td><td>14</td><td>53</td><td>23</td></tr><tr><td>54</td><td>14</td><td>54</td><td>24</td></tr><tr><td>55</td><td>14</td><td>55</td><td>25</td></tr><tr><td>56</td><td>14</td><td>56</td><td>26</td></tr><tr><td>57</td><td>14</td><td>57</td><td>27</td></tr><tr><td>58</td><td>14</td><td>58</td><td>28</td></tr><tr><td>59</td><td>14</td><td>59</td><td>29</td></tr><tr><td>60</td><td>14</td><td>60</td><td>30</td></tr></table>"
                    },
                    "metadata": {}
                }
            ],
            "execution_count": 1
        }
    ]
}