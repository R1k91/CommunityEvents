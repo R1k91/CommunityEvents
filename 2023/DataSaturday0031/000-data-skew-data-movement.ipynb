{
    "metadata": {
        "kernelspec": {
            "name": "SQL",
            "display_name": "SQL",
            "language": "sql"
        },
        "language_info": {
            "name": "sql",
            "version": ""
        }
    },
    "nbformat_minor": 2,
    "nbformat": 4,
    "cells": [
        {
            "cell_type": "markdown",
            "source": [
                "# **Data Skew and Data Movement**\n",
                "\n",
                " This notebook:\n",
                "\n",
                "1. shows data skew and explain round\\_robin on small tables\n",
                "2. shows execution plans when querying round\\_robin\n",
                "3. shows execution plans when querying round\\_robins joined\n",
                "\n",
                "DMVs used in this notebook:\n",
                "\n",
                "- [sys.schemas](https://learn.microsoft.com/en-us/sql/relational-databases/system-catalog-views/schemas-catalog-views-sys-schemas?view=azure-sqldw-latest?WT.mc_id=DP-MVP-5004236): Contains a row for each database schema.\n",
                "    \n",
                "- [sys.tables](https://learn.microsoft.com/en-us/sql/relational-databases/system-catalog-views/sys-tables-transact-sql?view=azure-sqldw-latest?WT.mc_id=DP-MVP-5004236): Returns a row for each user table in SQL Server. \n",
                "    \n",
                "- [sys.pdw\\_table\\_distribution\\_propertie](https://learn.microsoft.com/en-us/sql/relational-databases/system-catalog-views/sys-pdw-table-distribution-properties-transact-sql?view=aps-pdw-2016-au7?WT.mc_id=DP-MVP-5004236)s: Holds distribution information for tables.\n",
                "    \n",
                "- [sys.pdw\\_table\\_mappings](https://learn.microsoft.com/en-us/sql/relational-databases/system-catalog-views/sys-pdw-table-mappings-transact-sql?view=aps-pdw-2016-au7?WT.mc_id=DP-MVP-5004236): Ties user tables to internal object names by object\\_id.\n",
                "    \n",
                "- [sys.pdw\\_nodes\\_tables](https://learn.microsoft.com/en-us/sql/relational-databases/system-catalog-views/sys-pdw-nodes-tables-transact-sql?view=aps-pdw-2016-au7?WT.mc_id=DP-MVP-5004236): Contains a row for each table object that a principal either owns or on which the principal has been granted some permission.\n",
                "    \n",
                "- [sys.dm\\_pdw\\_nodes\\_db\\_partition\\_stats](https://learn.microsoft.com/en-us/sql/relational-databases/system-dynamic-management-views/sys-dm-db-partition-stats-transact-sql?view=sql-server-ver16?WT.mc_id=DP-MVP-5004236): Returns page and row-count information for every partition in the current database.\n",
                "    \n",
                "- [sys.dm\\_pdw\\_exec\\_requests](https://learn.microsoft.com/en-us/sql/relational-databases/system-dynamic-management-views/sys-dm-pdw-exec-requests-transact-sql?view=aps-pdw-2016-au7?WT.mc_id=DP-MVP-5004236): Holds information about all requests currently or recently active in synapse.\n",
                "    \n",
                "- [sys.dm\\_pdw\\_request\\_steps](https://learn.microsoft.com/en-us/sql/relational-databases/system-dynamic-management-views/sys-dm-pdw-request-steps-transact-sql?view=aps-pdw-2016-au7?WT.mc_id=DP-MVP-5004236): Holds information about all steps that compose a given request or query\n",
                "    \n",
                "- [DBCC PDW\\_SHOWSPACEUSED](https://learn.microsoft.com/en-us/sql/t-sql/database-console-commands/dbcc-pdw-showspaceused-transact-sql?view=aps-pdw-2016-au7?WT.mc_id=DP-MVP-5004236): Displays the number of rows, disk space reserved, and disk space used for a specific table"
            ],
            "metadata": {
                "language": "sql",
                "azdata_cell_guid": "c9251581-3ac6-4649-9907-f5992a8ee6a1"
            },
            "attachments": {}
        },
        {
            "cell_type": "markdown",
            "source": [
                "# Query 1\n",
                "\n",
                "## <span style=\"font-size: 14px;\">lists tables and their distribution policy</span>"
            ],
            "metadata": {
                "language": "sql",
                "azdata_cell_guid": "95773571-0428-4448-aae9-530f24ee4115"
            },
            "attachments": {}
        },
        {
            "cell_type": "code",
            "source": [
                "-- Query 1\r\n",
                "select\r\n",
                "    schema_name = s.name \r\n",
                "    ,table_name = t.name \r\n",
                "    ,distribution_policy = tp.distribution_policy_desc\r\n",
                "    ,row_count = sum(row_count) \r\n",
                "    ,max_row_count_per_distribution = max(row_count) \r\n",
                "    ,min_row_count_per_distribution = min(row_count) \r\n",
                "    ,avg_row_count_per_distribution = avg(row_count)\r\n",
                "from sys.schemas s\r\n",
                "    inner join sys.tables as t on s.schema_id = t.schema_id\r\n",
                "    inner join sys.pdw_table_distribution_properties as tp on t.object_id = tp.object_id\r\n",
                "    inner join sys.pdw_table_mappings as tm on t.object_id = tm.object_id\r\n",
                "    inner join sys.pdw_nodes_tables as nt on tm.physical_name = nt.name\r\n",
                "    inner join sys.dm_pdw_nodes_db_partition_stats as nps on nt.object_id = nps.object_id\r\n",
                "        and nt.pdw_node_id = nps.pdw_node_id\r\n",
                "        and nt.distribution_id = nps.distribution_id\r\n",
                "group by \r\n",
                "    s.name\r\n",
                "    ,t.name\r\n",
                "    ,tp.distribution_policy_desc;"
            ],
            "metadata": {
                "azdata_cell_guid": "c8abc895-56b3-4303-b945-d6b01fac67c1",
                "language": "sql"
            },
            "outputs": [],
            "execution_count": null
        },
        {
            "cell_type": "markdown",
            "source": [
                "# Query 2\n",
                "\n",
                "evaluates data skewness per table"
            ],
            "metadata": {
                "language": "sql",
                "azdata_cell_guid": "f5d1990c-77ba-4387-bf2c-a32750ee6475"
            },
            "attachments": {}
        },
        {
            "cell_type": "code",
            "source": [
                "-- Query 2\r\n",
                "with t as \r\n",
                "(\r\n",
                "    select\r\n",
                "        schema_name = s.name \r\n",
                "        ,table_name = t.name \r\n",
                "        ,distribution_policy = tp.distribution_policy_desc\r\n",
                "        ,row_count = sum(row_count) \r\n",
                "        ,max_row_count_per_distribution = max(row_count) \r\n",
                "        ,min_row_count_per_distribution = min(row_count) \r\n",
                "        ,avg_row_count_per_distribution = avg(row_count)\r\n",
                "    from sys.schemas s\r\n",
                "        inner join sys.tables as t on s.schema_id = t.schema_id\r\n",
                "        inner join sys.pdw_table_distribution_properties as tp on t.object_id = tp.object_id\r\n",
                "        inner join sys.pdw_table_mappings as tm on t.object_id = tm.object_id\r\n",
                "        inner join sys.pdw_nodes_tables as nt on tm.physical_name = nt.name\r\n",
                "        inner join sys.dm_pdw_nodes_db_partition_stats as nps on nt.object_id = nps.object_id\r\n",
                "            and nt.pdw_node_id = nps.pdw_node_id\r\n",
                "            and nt.distribution_id = nps.distribution_id\r\n",
                "    group by \r\n",
                "        s.name\r\n",
                "        ,t.name\r\n",
                "        ,tp.distribution_policy_desc\r\n",
                ")\r\n",
                "select \r\n",
                "    t.*\r\n",
                "\t,table_skew = case \r\n",
                "        when row_count = 0 then -1\r\n",
                "\t    else abs(max_row_count_per_distribution * 1.0 - min_row_count_per_distribution * 1.0) / max_row_count_per_distribution * 100.0\r\n",
                "\tend\r\n",
                "from t;"
            ],
            "metadata": {
                "language": "sql",
                "azdata_cell_guid": "40d6563e-a512-4b0b-aaf5-a95a36cfcefb"
            },
            "outputs": [],
            "execution_count": null
        },
        {
            "cell_type": "markdown",
            "source": [
                "# Query 3\n",
                "\n",
                "Displays the number of rows, disk pasce reserved and disk space used for dbo.Trip and dbo.Date table.\n",
                "\n",
                "This feature give insights on table distribution."
            ],
            "metadata": {
                "language": "sql",
                "azdata_cell_guid": "88730eb3-633b-444c-9d55-bbd26798799d"
            },
            "attachments": {}
        },
        {
            "cell_type": "code",
            "source": [
                "-- Query 3\r\n",
                "DBCC PDW_SHOWSPACEUSED('dbo.Trip')\r\n",
                "DBCC PDW_SHOWSPACEUSED('dbo.Date')"
            ],
            "metadata": {
                "language": "sql",
                "azdata_cell_guid": "1ec37f38-50f3-4c8c-ba46-168a4feaea46"
            },
            "outputs": [],
            "execution_count": null
        },
        {
            "cell_type": "markdown",
            "source": [
                "# Query 4\n",
                "\n",
                "Performs a query over a round robin table"
            ],
            "metadata": {
                "language": "sql",
                "azdata_cell_guid": "f2e879e7-20f0-4ff1-a551-3a56a1ab7ae1"
            },
            "attachments": {}
        },
        {
            "cell_type": "code",
            "source": [
                "-- Query 4\r\n",
                "select top(1000) * \r\n",
                "from dbo.trip \r\n",
                "option(label = 'SELECT FROM ROUND_ROBIN')"
            ],
            "metadata": {
                "azdata_cell_guid": "8f01624d-5af5-4ea1-95b2-cecbbc10addc",
                "language": "sql"
            },
            "outputs": [],
            "execution_count": null
        },
        {
            "cell_type": "markdown",
            "source": [
                "# Query 5\n",
                "\n",
                "Get execution info for the query using its label"
            ],
            "metadata": {
                "language": "sql",
                "azdata_cell_guid": "5436b8e0-38e6-4bb0-8092-fd27ce8f8ada"
            },
            "attachments": {}
        },
        {
            "cell_type": "code",
            "source": [
                "-- Query 5\r\n",
                "select * \r\n",
                "from sys.dm_pdw_exec_requests  as t \r\n",
                "where t.[label] = 'SELECT FROM ROUND_ROBIN' \r\n",
                "order by start_time desc "
            ],
            "metadata": {
                "azdata_cell_guid": "a895865d-260c-4853-a78f-913fbe2c119d",
                "language": "sql"
            },
            "outputs": [],
            "execution_count": null
        },
        {
            "cell_type": "markdown",
            "source": [
                "# Query 6\n",
                "\n",
                "Gets execution plan for the query using its request\\_id"
            ],
            "metadata": {
                "language": "sql",
                "azdata_cell_guid": "cdbb580d-fa00-49a3-9a05-236c4fd5b443"
            },
            "attachments": {}
        },
        {
            "cell_type": "code",
            "source": [
                "-- Query 6\r\n",
                "declare @request_id as nvarchar(50) = 'QID21315'\r\n",
                "\r\n",
                "select * \r\n",
                "from sys.dm_pdw_request_steps as t \r\n",
                "where request_id = @request_id;"
            ],
            "metadata": {
                "language": "sql",
                "azdata_cell_guid": "a46298bb-c536-4471-8552-5d4f53f2abc6"
            },
            "outputs": [],
            "execution_count": null
        },
        {
            "cell_type": "markdown",
            "source": [
                "# Query 7\n",
                "\n",
                "Query 5 and 6 in one step for dbo.Geography"
            ],
            "metadata": {
                "language": "sql",
                "azdata_cell_guid": "e176b3c8-9b18-48f6-9c1c-5e68582c0500"
            },
            "attachments": {}
        },
        {
            "cell_type": "code",
            "source": [
                "-- Query 7\r\n",
                "select * \r\n",
                "from dbo.[Geography] \r\n",
                "option(label = 'SELECT FROM ROUND_ROBIN')\r\n",
                "\r\n",
                "select * from sys.dm_pdw_request_steps as t \r\n",
                "where request_id =\r\n",
                "(\r\n",
                "    select top(1) request_id \r\n",
                "    from sys.dm_pdw_exec_requests  as t \r\n",
                "    where t.[label] = 'SELECT FROM ROUND_ROBIN'\r\n",
                "    order by start_time desc \r\n",
                ")"
            ],
            "metadata": {
                "azdata_cell_guid": "faf74d29-8057-432c-be4a-e93447422107",
                "language": "sql",
                "tags": []
            },
            "outputs": [],
            "execution_count": null
        },
        {
            "cell_type": "markdown",
            "source": [
                "# Query 8\n",
                "\n",
                "Shows plan of Round Robin joined to another Round Robin"
            ],
            "metadata": {
                "language": "sql",
                "azdata_cell_guid": "5a368383-4938-4ba4-b704-1e8304b882ca"
            },
            "attachments": {}
        },
        {
            "cell_type": "code",
            "source": [
                "-- Query 8\r\n",
                "select top(100000) * \r\n",
                "from dbo.Trip as t \r\n",
                "    inner join dbo.Geography as g on t.PickupGeographyID = g.GeographyID\r\n",
                "option (label = 'SELECT FROM ROUND_ROBIN JOIN ROUND_ROBIN');\r\n",
                "\r\n",
                "select * from sys.dm_pdw_request_steps as t \r\n",
                "where request_id =\r\n",
                "(\r\n",
                "    select top(1) request_id \r\n",
                "    from sys.dm_pdw_exec_requests  as t \r\n",
                "    where t.[label] = 'SELECT FROM ROUND_ROBIN JOIN ROUND_ROBIN'\r\n",
                "    order by start_time desc \r\n",
                ")"
            ],
            "metadata": {
                "language": "sql",
                "azdata_cell_guid": "cccc5047-223f-4950-8d6c-0836708e7a9b"
            },
            "outputs": [],
            "execution_count": null
        },
        {
            "cell_type": "markdown",
            "source": [
                "# Query 9\n",
                "\n",
                "Shows plan of a Round Robin joined to 2 Round Robins"
            ],
            "metadata": {
                "language": "sql",
                "azdata_cell_guid": "7bde8481-aa7a-48a3-992a-c3ea87d5f1be"
            },
            "attachments": {}
        },
        {
            "cell_type": "code",
            "source": [
                "-- Query 9\r\n",
                "select top(100000) * \r\n",
                "from dbo.Trip as t \r\n",
                "    inner join dbo.Geography as g on t.PickupGeographyID = g.GeographyID\r\n",
                "    inner join dbo.HackneyLicense as h on t.HackneyLicenseID = h.HackneyLicenseID\r\n",
                "option (label = 'SELECT FROM ROUND_ROBIN JOIN ROUND_ROBINx2');\r\n",
                "\r\n",
                "select * from sys.dm_pdw_request_steps as t \r\n",
                "where request_id =\r\n",
                "(\r\n",
                "    select top(1) request_id \r\n",
                "    from sys.dm_pdw_exec_requests  as t \r\n",
                "    where t.[label] = 'SELECT FROM ROUND_ROBIN JOIN ROUND_ROBINx2'\r\n",
                "    order by start_time desc \r\n",
                ")"
            ],
            "metadata": {
                "azdata_cell_guid": "8532f1a3-5365-4ec2-86e7-87fd1c01efd7",
                "language": "sql"
            },
            "outputs": [],
            "execution_count": null
        }
    ]
}