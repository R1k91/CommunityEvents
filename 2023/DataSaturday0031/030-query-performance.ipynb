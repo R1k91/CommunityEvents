{
    "metadata": {
        "kernelspec": {
            "name": "SQL",
            "display_name": "SQL",
            "language": "sql"
        },
        "language_info": {
            "name": "sql",
            "version": ""
        }
    },
    "nbformat_minor": 2,
    "nbformat": 4,
    "cells": [
        {
            "cell_type": "markdown",
            "source": [
                "# **Distribution and performance**\n",
                "\n",
                "This notebook:\n",
                "\n",
                "1. Shows ingestion performance when dealing with different distributions"
            ],
            "metadata": {
                "language": "sql",
                "azdata_cell_guid": "7e7caf26-90e0-4c79-acc9-fb9d2ba2a59f"
            },
            "attachments": {}
        },
        {
            "cell_type": "markdown",
            "source": [
                "# Query 1\n",
                "\n",
                "Creates 1 hash table and one round robin table with same structure and popolutes with same data"
            ],
            "metadata": {
                "language": "sql",
                "azdata_cell_guid": "2792af25-18a6-42bb-98b0-144be70de653"
            },
            "attachments": {}
        },
        {
            "cell_type": "code",
            "source": [
                "CREATE TABLE [dbo].[Trip_round_robin]\r\n",
                "(\r\n",
                "\t[DateID] [int] NOT NULL,\r\n",
                "\t[MedallionID] [int] NOT NULL,\r\n",
                "\t[HackneyLicenseID] [int] NOT NULL,\r\n",
                "\t[PickupTimeID] [int] NOT NULL,\r\n",
                "\t[DropoffTimeID] [int] NOT NULL,\r\n",
                "\t[PickupGeographyID] [int] NULL,\r\n",
                "\t[DropoffGeographyID] [int] NULL,\r\n",
                "\t[PickupLatitude] [float] NULL,\r\n",
                "\t[PickupLongitude] [float] NULL,\r\n",
                "\t[PickupLatLong] [varchar](50) NULL,\r\n",
                "\t[DropoffLatitude] [float] NULL,\r\n",
                "\t[DropoffLongitude] [float] NULL,\r\n",
                "\t[DropoffLatLong] [varchar](50) NULL,\r\n",
                "\t[PassengerCount] [int] NULL,\r\n",
                "\t[TripDurationSeconds] [int] NULL,\r\n",
                "\t[TripDistanceMiles] [float] NULL,\r\n",
                "\t[PaymentType] [varchar](50) NULL,\r\n",
                "\t[FareAmount] [money] NULL,\r\n",
                "\t[SurchargeAmount] [money] NULL,\r\n",
                "\t[TaxAmount] [money] NULL,\r\n",
                "\t[TipAmount] [money] NULL,\r\n",
                "\t[TollsAmount] [money] NULL,\r\n",
                "\t[TotalAmount] [money] NULL\r\n",
                ")\r\n",
                "WITH\r\n",
                "(\r\n",
                "\tDISTRIBUTION = ROUND_ROBIN--,\r\n",
                "\t--CLUSTERED COLUMNSTORE INDEX\r\n",
                ")\r\n",
                "GO\r\n",
                "\r\n",
                "CREATE TABLE [dbo].[Trip_hash]\r\n",
                "(\r\n",
                "\t[DateID] [int] NOT NULL,\r\n",
                "\t[MedallionID] [int] NOT NULL,\r\n",
                "\t[HackneyLicenseID] [int] NOT NULL,\r\n",
                "\t[PickupTimeID] [int] NOT NULL,\r\n",
                "\t[DropoffTimeID] [int] NOT NULL,\r\n",
                "\t[PickupGeographyID] [int] NULL,\r\n",
                "\t[DropoffGeographyID] [int] NULL,\r\n",
                "\t[PickupLatitude] [float] NULL,\r\n",
                "\t[PickupLongitude] [float] NULL,\r\n",
                "\t[PickupLatLong] [varchar](50) NULL,\r\n",
                "\t[DropoffLatitude] [float] NULL,\r\n",
                "\t[DropoffLongitude] [float] NULL,\r\n",
                "\t[DropoffLatLong] [varchar](50) NULL,\r\n",
                "\t[PassengerCount] [int] NULL,\r\n",
                "\t[TripDurationSeconds] [int] NULL,\r\n",
                "\t[TripDistanceMiles] [float] NULL,\r\n",
                "\t[PaymentType] [varchar](50) NULL,\r\n",
                "\t[FareAmount] [money] NULL,\r\n",
                "\t[SurchargeAmount] [money] NULL,\r\n",
                "\t[TaxAmount] [money] NULL,\r\n",
                "\t[TipAmount] [money] NULL,\r\n",
                "\t[TollsAmount] [money] NULL,\r\n",
                "\t[TotalAmount] [money] NULL\r\n",
                ")\r\n",
                "WITH\r\n",
                "(\r\n",
                "\tDISTRIBUTION = hash(DateId)--,\r\n",
                "\t--CLUSTERED COLUMNSTORE INDEX\r\n",
                ")\r\n",
                "GO\r\n",
                "\r\n",
                "truncate table dbo.Trip_round_robin;\r\n",
                "insert into dbo.Trip_round_robin \r\n",
                "select top(10000000)* from dbo.Trip\r\n",
                "option (label = 'INSERT rr');\r\n",
                "\r\n",
                "truncate table dbo.Trip_hash;\r\n",
                "insert into dbo.Trip_hash\r\n",
                "select top(10000000)* from dbo.Trip\r\n",
                "option (label = 'INSERT hash');\r\n",
                "\r\n",
                "DBCC PDW_SHOWSPACEUSED('dbo.Trip_round_robin')\r\n",
                "DBCC PDW_SHOWSPACEUSED('dbo.Trip_hash')"
            ],
            "metadata": {
                "azdata_cell_guid": "2dc03de9-87c6-44c8-bdde-0e89198898e5",
                "language": "sql"
            },
            "outputs": [],
            "execution_count": null
        },
        {
            "cell_type": "markdown",
            "source": [
                "Query 2\n",
                "\n",
                "Shows duration and plans for inserts"
            ],
            "metadata": {
                "language": "sql",
                "azdata_cell_guid": "ee05b79c-f1fa-450c-8d1c-1b6020304b78"
            },
            "attachments": {}
        },
        {
            "cell_type": "code",
            "source": [
                "-- Query 2\r\n",
                "select 'hash', total_elapsed_time \r\n",
                "    from sys.dm_pdw_exec_requests  as t \r\n",
                "    where t.[label] = 'INSERT hash'\r\n",
                "    order by start_time desc \r\n",
                "\r\n",
                "select 'rr', total_elapsed_time \r\n",
                "    from sys.dm_pdw_exec_requests  as t \r\n",
                "    where t.[label] = 'INSERT rr'\r\n",
                "    order by start_time desc \r\n",
                "\r\n",
                "select * from sys.dm_pdw_request_steps as t \r\n",
                "where request_id =\r\n",
                "(\r\n",
                "    select top(1) request_id \r\n",
                "    from sys.dm_pdw_exec_requests  as t \r\n",
                "    where t.[label] = 'INSERT hash'\r\n",
                "    order by start_time desc \r\n",
                ")\r\n",
                "\r\n",
                "select * from sys.dm_pdw_request_steps as t \r\n",
                "where request_id =\r\n",
                "(\r\n",
                "    select top(1) request_id \r\n",
                "    from sys.dm_pdw_exec_requests  as t \r\n",
                "    where t.[label] = 'INSERT rr'\r\n",
                "    order by start_time desc \r\n",
                ")\r\n",
                "\r\n",
                ""
            ],
            "metadata": {
                "language": "sql",
                "azdata_cell_guid": "07118921-5a4d-47a5-a328-527481f22b78"
            },
            "outputs": [],
            "execution_count": null
        }
    ]
}