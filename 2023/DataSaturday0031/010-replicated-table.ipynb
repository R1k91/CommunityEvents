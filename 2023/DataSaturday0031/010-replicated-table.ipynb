{
    "metadata": {
        "kernelspec": {
            "name": "SQL",
            "display_name": "SQL",
            "language": "sql"
        },
        "language_info": {
            "name": "sql",
            "version": ""
        }
    },
    "nbformat_minor": 2,
    "nbformat": 4,
    "cells": [
        {
            "cell_type": "markdown",
            "source": [
                "# **Fix distribution strategy with Replicated Table**\n",
                "\n",
                "This notebook:\n",
                "\n",
                "1. creates tables with replicate distribution\n",
                "2. shows replication cache concept\n",
                "3. shows execution plans when joining with replicate tables\n",
                "4. controllare su nodo con 2 compute se la somma delle righe su nodo 1 e nodo 2 sono identiche e quindi è randomico solo il caricamento nelle distribuzioni (to-do)\n",
                "\n",
                "DMVs used in this notebook:\n",
                "\n",
                "- [pdw\\_replicated\\_table\\_cache\\_state](https://learn.microsoft.com/en-us/sql/relational-databases/system-catalog-views/sys-pdw-replicated-table-cache-state-transact-sql?view=azure-sqldw-latest?WT.mc_id=DP-MVP-5004236%20): Returns the state of the cache associated with a replicated table by object\\_id"
            ],
            "metadata": {
                "language": "sql",
                "azdata_cell_guid": "c9251581-3ac6-4649-9907-f5992a8ee6a1"
            },
            "attachments": {}
        },
        {
            "cell_type": "markdown",
            "source": [
                "# Query 1\n",
                "\n",
                "Creates 2 Geography tables replicated and insert data from the Geography table."
            ],
            "metadata": {
                "language": "sql",
                "azdata_cell_guid": "c3ed214e-859a-4b90-a179-baeaec38254f"
            },
            "attachments": {}
        },
        {
            "cell_type": "code",
            "source": [
                "-- Query 1\r\n",
                "CREATE TABLE [dbo].[Geography_replicated]\r\n",
                "(\r\n",
                "\t[GeographyID] [int] NOT NULL,\r\n",
                "\t[ZipCodeBKey] [varchar](10) NOT NULL,\r\n",
                "\t[County] [varchar](50) NULL,\r\n",
                "\t[City] [varchar](50) NULL,\r\n",
                "\t[State] [varchar](50) NULL,\r\n",
                "\t[Country] [varchar](50) NULL,\r\n",
                "\t[ZipCode] [varchar](50) NULL\r\n",
                ")\r\n",
                "WITH\r\n",
                "(\r\n",
                "\tDISTRIBUTION = replicate,\r\n",
                "\tCLUSTERED COLUMNSTORE INDEX\r\n",
                ")\r\n",
                "GO\r\n",
                "\r\n",
                "\r\n",
                "CREATE TABLE [dbo].[Geography_replicated_for_checks]\r\n",
                "(\r\n",
                "\t[GeographyID] [int] NOT NULL,\r\n",
                "\t[ZipCodeBKey] [varchar](10) NOT NULL,\r\n",
                "\t[County] [varchar](50) NULL,\r\n",
                "\t[City] [varchar](50) NULL,\r\n",
                "\t[State] [varchar](50) NULL,\r\n",
                "\t[Country] [varchar](50) NULL,\r\n",
                "\t[ZipCode] [varchar](50) NULL\r\n",
                ")\r\n",
                "WITH\r\n",
                "(\r\n",
                "\tDISTRIBUTION = replicate,\r\n",
                "\tCLUSTERED COLUMNSTORE INDEX\r\n",
                ")\r\n",
                "GO\r\n",
                "\r\n",
                "insert into dbo.Geography_replicated\r\n",
                "select * from dbo.Geography;\r\n",
                "\r\n",
                "insert into dbo.Geography_replicated_for_checks\r\n",
                "select * from dbo.Geography;"
            ],
            "metadata": {
                "azdata_cell_guid": "a62112bc-edb1-42c8-aed5-12d5609caf3a",
                "language": "sql",
                "tags": []
            },
            "outputs": [],
            "execution_count": null
        },
        {
            "cell_type": "markdown",
            "source": [
                "# Query 2\n",
                "\n",
                "## <span style=\"font-size: 14px;\">lists tables and their distribution policy</span>"
            ],
            "metadata": {
                "language": "sql",
                "azdata_cell_guid": "bd155bb7-f48b-4b80-b9c4-d18aad3e6df8"
            },
            "attachments": {}
        },
        {
            "cell_type": "code",
            "source": [
                "-- Query 2\r\n",
                "select\r\n",
                "    schema_name = s.name \r\n",
                "    ,table_name = t.name \r\n",
                "    ,distribution_policy = tp.distribution_policy_desc\r\n",
                "    ,row_count = sum(row_count) \r\n",
                "    ,max_row_count_per_distribution = max(row_count) \r\n",
                "    ,min_row_count_per_distribution = min(row_count) \r\n",
                "    ,avg_row_count_per_distribution = avg(row_count)\r\n",
                "from sys.schemas s\r\n",
                "    inner join sys.tables as t on s.schema_id = t.schema_id\r\n",
                "    inner join sys.pdw_table_distribution_properties as tp on t.object_id = tp.object_id\r\n",
                "    inner join sys.pdw_table_mappings as tm on t.object_id = tm.object_id\r\n",
                "    inner join sys.pdw_nodes_tables as nt on tm.physical_name = nt.name\r\n",
                "    inner join sys.dm_pdw_nodes_db_partition_stats as nps on nt.object_id = nps.object_id\r\n",
                "        and nt.pdw_node_id = nps.pdw_node_id\r\n",
                "        and nt.distribution_id = nps.distribution_id\r\n",
                "group by \r\n",
                "    s.name\r\n",
                "    ,t.name\r\n",
                "    ,tp.distribution_policy_desc;"
            ],
            "metadata": {
                "azdata_cell_guid": "dbd40af2-53a9-4742-8038-1ddc23ee1c0c",
                "language": "sql",
                "tags": []
            },
            "outputs": [],
            "execution_count": null
        },
        {
            "cell_type": "markdown",
            "source": [
                "# Query 3\n",
                "\n",
                "Shows plan of a RR joined to a Replicated"
            ],
            "metadata": {
                "language": "sql",
                "azdata_cell_guid": "559cd504-4b43-4653-b214-d47c61d77763"
            },
            "attachments": {}
        },
        {
            "cell_type": "code",
            "source": [
                "--Query 3\r\n",
                "select top(100000) * \r\n",
                "from dbo.Trip as t \r\n",
                "    inner join dbo.Geography_replicated as g on t.PickupGeographyID = g.GeographyID\r\n",
                "option (label = 'SELECT FROM ROUND_ROBIN JOIN replicated');\r\n",
                "\r\n",
                "select * from sys.dm_pdw_request_steps as t \r\n",
                "where request_id =\r\n",
                "(\r\n",
                "    select top(1) request_id \r\n",
                "    from sys.dm_pdw_exec_requests  as t \r\n",
                "    where t.[label] = 'SELECT FROM ROUND_ROBIN JOIN replicated'\r\n",
                "    order by start_time desc \r\n",
                ")"
            ],
            "metadata": {
                "language": "sql",
                "azdata_cell_guid": "05f25ed1-b997-49ca-86cc-772a47d8a310"
            },
            "outputs": [],
            "execution_count": null
        },
        {
            "cell_type": "markdown",
            "source": [
                "# Query 4\n",
                "\n",
                "Shows replication status for replicated table"
            ],
            "metadata": {
                "language": "sql",
                "azdata_cell_guid": "a6fe7e97-188a-4d0a-8bb9-745173220e02"
            },
            "attachments": {}
        },
        {
            "cell_type": "code",
            "source": [
                "-- Query 4\r\n",
                "select \r\n",
                "    table_name = sch.[name] + '.' + t.[name] \r\n",
                "     ,p.distribution_policy_desc\r\n",
                "     ,c.[state]\r\n",
                "from sys.tables t \r\n",
                "    inner join sys.pdw_replicated_table_cache_state as c on c.object_id = t.object_id\r\n",
                "    inner join sys.pdw_table_distribution_properties as p  on p.object_id = t.object_id\r\n",
                "    inner join sys.schemas as sch on t.schema_id = sch.schema_id\r\n",
                "where p.distribution_policy_desc = 'replicate'\r\n",
                "order by c.[state] desc, table_name"
            ],
            "metadata": {
                "language": "sql",
                "azdata_cell_guid": "751c03cf-3f01-4eae-8c8b-1c7174a05ac2",
                "tags": []
            },
            "outputs": [],
            "execution_count": null
        },
        {
            "cell_type": "markdown",
            "source": [
                "# Query 5\n",
                "\n",
                "Shows the replication cache"
            ],
            "metadata": {
                "language": "sql",
                "azdata_cell_guid": "2356865b-e03d-4392-932f-c07c7dc94aa6"
            },
            "attachments": {}
        },
        {
            "cell_type": "code",
            "source": [
                "-- Query 5\r\n",
                "DBCC PDW_SHOWSPACEUSED('dbo.Geography_replicated')\r\n",
                "DBCC PDW_SHOWSPACEUSED('dbo.Geography_replicated') WITH IGNORE_REPLICATED_TABLE_CACHE \r\n",
                "DBCC PDW_SHOWSPACEUSED('dbo.Geography_replicated_for_checks')"
            ],
            "metadata": {
                "language": "sql",
                "azdata_cell_guid": "b5bb586f-e4b0-423d-a321-716fab16b1fb",
                "tags": []
            },
            "outputs": [],
            "execution_count": null
        },
        {
            "cell_type": "markdown",
            "source": [
                "# Query 6\n",
                "\n",
                "Shows table replication processes"
            ],
            "metadata": {
                "language": "sql",
                "azdata_cell_guid": "76745edd-81a3-44b9-a274-1cf5742966db"
            },
            "attachments": {}
        },
        {
            "cell_type": "code",
            "source": [
                "-- Query 6\r\n",
                "select \r\n",
                "    [status]\r\n",
                "    ,command, submit_time\r\n",
                "    ,start_time, end_time\r\n",
                "    ,total_elapsed_time\r\n",
                "from sys.dm_pdw_exec_requests\r\n",
                "where command like '%buildreplicatedtablecache%'\r\n",
                "    and command not like '%select%'\r\n",
                "order by submit_time desc"
            ],
            "metadata": {
                "language": "sql",
                "azdata_cell_guid": "bdb90a85-2f23-4c33-bf15-eab93f8e1349",
                "tags": []
            },
            "outputs": [],
            "execution_count": null
        },
        {
            "cell_type": "markdown",
            "source": [
                "# Query 7\n",
                "\n",
                "Replicate HackenyLicense"
            ],
            "metadata": {
                "language": "sql",
                "azdata_cell_guid": "b4522b8d-0f53-4061-95a8-fc14d1720417"
            },
            "attachments": {}
        },
        {
            "cell_type": "code",
            "source": [
                "-- Query 7\r\n",
                "CREATE TABLE [dbo].[HackneyLicense_replicated]\r\n",
                "(\r\n",
                "\t[HackneyLicenseID] [int] NOT NULL,\r\n",
                "\t[HackneyLicenseBKey] [varchar](50) NOT NULL,\r\n",
                "\t[HackneyLicenseCode] [varchar](50) NULL\r\n",
                ")\r\n",
                "WITH\r\n",
                "(\r\n",
                "\tDISTRIBUTION = replicate,\r\n",
                "\tCLUSTERED COLUMNSTORE INDEX\r\n",
                ")\r\n",
                "GO\r\n",
                "\r\n",
                "insert into dbo.HackneyLicense_replicated\r\n",
                "select * from dbo.HackneyLicense;"
            ],
            "metadata": {
                "azdata_cell_guid": "4d817706-f865-4e27-a209-1cab92a8a4f7",
                "language": "sql"
            },
            "outputs": [],
            "execution_count": null
        },
        {
            "cell_type": "markdown",
            "source": [
                "# Query 8\n",
                "\n",
                "Shows cache replication process"
            ],
            "metadata": {
                "language": "sql",
                "azdata_cell_guid": "c101d6c3-5cb2-4c76-89ad-b520aa3829ba"
            },
            "attachments": {}
        },
        {
            "cell_type": "code",
            "source": [
                "-- Query 8\r\n",
                "select \r\n",
                "    table_name = sch.[name] + '.' + t.[name] \r\n",
                "     ,p.distribution_policy_desc\r\n",
                "     ,c.[state]\r\n",
                "from sys.tables t \r\n",
                "    inner join sys.pdw_replicated_table_cache_state as c on c.object_id = t.object_id\r\n",
                "    inner join sys.pdw_table_distribution_properties as p  on p.object_id = t.object_id\r\n",
                "    inner join sys.schemas as sch on t.schema_id = sch.schema_id\r\n",
                "where p.distribution_policy_desc = 'replicate'\r\n",
                "order by c.[state] desc, table_name;\r\n",
                "\r\n",
                "select top(0) 1 from dbo.HackneyLicense_replicated;"
            ],
            "metadata": {
                "language": "sql",
                "azdata_cell_guid": "22ce8dfa-d931-435f-9ec8-3eee73d603e7"
            },
            "outputs": [],
            "execution_count": null
        },
        {
            "cell_type": "code",
            "source": [
                "select \r\n",
                "    table_name = sch.[name] + '.' + t.[name] \r\n",
                "     ,p.distribution_policy_desc\r\n",
                "     ,c.[state]\r\n",
                "from sys.tables t \r\n",
                "    inner join sys.pdw_replicated_table_cache_state as c on c.object_id = t.object_id\r\n",
                "    inner join sys.pdw_table_distribution_properties as p  on p.object_id = t.object_id\r\n",
                "    inner join sys.schemas as sch on t.schema_id = sch.schema_id\r\n",
                "where p.distribution_policy_desc = 'replicate'\r\n",
                "order by c.[state] desc, table_name;"
            ],
            "metadata": {
                "language": "sql",
                "azdata_cell_guid": "81a2ad29-52c4-49c4-82b5-bc55637816a2"
            },
            "outputs": [],
            "execution_count": null
        },
        {
            "cell_type": "markdown",
            "source": [
                "# Query 9\n",
                "\n",
                "Shows when cache is invalidated"
            ],
            "metadata": {
                "language": "sql",
                "azdata_cell_guid": "606b6662-5fb5-4fc1-8eb7-73265c049f5e"
            },
            "attachments": {}
        },
        {
            "cell_type": "code",
            "source": [
                "-- Query 9\r\n",
                "update dbo.Geography_replicated \r\n",
                "set city = 'data changed'\r\n",
                "where 1  = 0\r\n",
                "\r\n",
                "select \r\n",
                "    table_name = sch.[name] + '.' + t.[name] \r\n",
                "     ,p.distribution_policy_desc\r\n",
                "     ,c.[state]\r\n",
                "from sys.tables t \r\n",
                "    inner join sys.pdw_replicated_table_cache_state as c on c.object_id = t.object_id\r\n",
                "    inner join sys.pdw_table_distribution_properties as p  on p.object_id = t.object_id\r\n",
                "    inner join sys.schemas as sch on t.schema_id = sch.schema_id\r\n",
                "where p.distribution_policy_desc = 'replicate'\r\n",
                "order by c.[state] desc, table_name;"
            ],
            "metadata": {
                "language": "sql",
                "azdata_cell_guid": "a3200f4c-f141-4548-83f1-afb067d4ec05"
            },
            "outputs": [],
            "execution_count": null
        },
        {
            "cell_type": "markdown",
            "source": [
                "# Query 10\n",
                "\n",
                "Warm up cache"
            ],
            "metadata": {
                "language": "sql",
                "azdata_cell_guid": "3de83fc6-6d41-4b45-885f-d6dee18f2833"
            },
            "attachments": {}
        },
        {
            "cell_type": "code",
            "source": [
                "-- Query 10\n",
                "select top(0) 1 from dbo.Geography_replicated;\r\n",
                "\r\n",
                "select \r\n",
                "    table_name = sch.[name] + '.' + t.[name] \r\n",
                "     ,p.distribution_policy_desc\r\n",
                "     ,c.[state]\r\n",
                "from sys.tables t \r\n",
                "    inner join sys.pdw_replicated_table_cache_state as c on c.object_id = t.object_id\r\n",
                "    inner join sys.pdw_table_distribution_properties as p  on p.object_id = t.object_id\r\n",
                "    inner join sys.schemas as sch on t.schema_id = sch.schema_id\r\n",
                "where p.distribution_policy_desc = 'replicate'\r\n",
                "order by c.[state] desc, table_name;"
            ],
            "metadata": {
                "language": "sql",
                "azdata_cell_guid": "62061a42-2c5d-4db5-af27-39ebf4c5906a"
            },
            "outputs": [],
            "execution_count": null
        },
        {
            "cell_type": "markdown",
            "source": [
                "# Query 11\n",
                "\n",
                "Show plan when joining with replicated tables"
            ],
            "metadata": {
                "language": "sql",
                "azdata_cell_guid": "6b5a6341-21d6-4c7c-be60-1464bde4b15a"
            },
            "attachments": {}
        },
        {
            "cell_type": "code",
            "source": [
                "-- Query 11\r\n",
                "select top(100000) * \r\n",
                "from dbo.Trip as t \r\n",
                "    inner join dbo.Geography_replicated as g on t.PickupGeographyID = g.GeographyID\r\n",
                "    inner join dbo.HackneyLicense_replicated as h on t.HackneyLicenseID = h.HackneyLicenseID\r\n",
                "option (label = 'SELECT FROM ROUND_ROBIN JOIN REPLICATEDx2');\r\n",
                "\r\n",
                "select * from sys.dm_pdw_request_steps as t \r\n",
                "where request_id =\r\n",
                "(\r\n",
                "    select top(1) request_id \r\n",
                "    from sys.dm_pdw_exec_requests  as t \r\n",
                "    where t.[label] = 'SELECT FROM ROUND_ROBIN JOIN REPLICATEDx2'\r\n",
                "    order by start_time desc \r\n",
                ")"
            ],
            "metadata": {
                "language": "sql",
                "azdata_cell_guid": "df2a461e-415f-41b9-833f-703d299216f7"
            },
            "outputs": [],
            "execution_count": null
        }
    ]
}