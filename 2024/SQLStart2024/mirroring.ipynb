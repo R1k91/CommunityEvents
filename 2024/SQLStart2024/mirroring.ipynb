{
    "metadata": {
        "kernelspec": {
            "name": "SQL",
            "display_name": "SQL",
            "language": "sql"
        },
        "language_info": {
            "name": "sql",
            "version": ""
        }
    },
    "nbformat_minor": 2,
    "nbformat": 4,
    "cells": [
        {
            "cell_type": "markdown",
            "source": [
                "The System Assigned Managed Identity (SAMI) of your Azure SQL logical server must be enabled, and must be the primary identity, to publish data to Fabric OneLake."
            ],
            "metadata": {
                "language": "sql",
                "azdata_cell_guid": "69e32c52-1f8e-4474-bf63-8a4e9be132e5"
            },
            "attachments": {}
        },
        {
            "cell_type": "code",
            "source": [
                "SELECT * FROM sys.dm_server_managed_identities;"
            ],
            "metadata": {
                "azdata_cell_guid": "bc081621-6240-42df-8690-6b3bb6c17a08",
                "language": "sql"
            },
            "outputs": [
                {
                    "output_type": "display_data",
                    "data": {
                        "text/html": "(1 row affected)"
                    },
                    "metadata": {}
                },
                {
                    "output_type": "display_data",
                    "data": {
                        "text/html": "Total execution time: 00:00:00.804"
                    },
                    "metadata": {}
                },
                {
                    "output_type": "execute_result",
                    "metadata": {},
                    "execution_count": 1,
                    "data": {
                        "application/vnd.dataresource+json": {
                            "schema": {
                                "fields": [
                                    {
                                        "name": "client_id"
                                    },
                                    {
                                        "name": "identity_type"
                                    },
                                    {
                                        "name": "tenant_id"
                                    },
                                    {
                                        "name": "is_primary"
                                    }
                                ]
                            },
                            "data": [
                                {
                                    "client_id": "21959c71-14a0-46ca-87b0-b91a09d2f3e3",
                                    "identity_type": "System-assigned",
                                    "tenant_id": "3def9555-f6cd-4e97-a115-cfcb50d38090",
                                    "is_primary": "1"
                                }
                            ]
                        },
                        "text/html": [
                            "<table>",
                            "<tr><th>client_id</th><th>identity_type</th><th>tenant_id</th><th>is_primary</th></tr>",
                            "<tr><td>21959c71-14a0-46ca-87b0-b91a09d2f3e3</td><td>System-assigned</td><td>3def9555-f6cd-4e97-a115-cfcb50d38090</td><td>1</td></tr>",
                            "</table>"
                        ]
                    }
                }
            ],
            "execution_count": 1
        },
        {
            "cell_type": "markdown",
            "source": [
                "Next, you need to create a way for the Fabric service to connect to your Azure SQL Database.\n",
                "\n",
                "  \n",
                "\n",
                "You can accomplish this with a login and mapped database user."
            ],
            "metadata": {
                "language": "sql",
                "azdata_cell_guid": "d3fbc723-bef0-4783-be40-fb015ad978aa"
            },
            "attachments": {}
        },
        {
            "cell_type": "code",
            "source": [
                "CREATE LOGIN fabric_login WITH PASSWORD = 'R12345678910!';\r\n",
                "ALTER SERVER ROLE [##MS_ServerStateReader##] ADD MEMBER fabric_login;"
            ],
            "metadata": {
                "language": "sql",
                "azdata_cell_guid": "61156a4b-bfa7-46b4-a5de-ade4d1c455fe"
            },
            "outputs": [
                {
                    "output_type": "display_data",
                    "data": {
                        "text/html": "Commands completed successfully."
                    },
                    "metadata": {}
                },
                {
                    "output_type": "display_data",
                    "data": {
                        "text/html": "Total execution time: 00:00:00.053"
                    },
                    "metadata": {}
                }
            ],
            "execution_count": 2
        },
        {
            "cell_type": "code",
            "source": [
                "CREATE USER fabric_user FOR LOGIN fabric_login;\r\n",
                "GRANT CONTROL TO fabric_user;"
            ],
            "metadata": {
                "language": "sql",
                "azdata_cell_guid": "b913a21d-71aa-4149-bbf5-e7bb4b1d28f9",
                "tags": []
            },
            "outputs": [
                {
                    "output_type": "error",
                    "evalue": "Msg 15023, Level 16, State 5, Line 1\r\nUser, group, or role 'fabric_user' already exists in the current database.",
                    "ename": "",
                    "traceback": []
                },
                {
                    "output_type": "error",
                    "evalue": "Msg 4613, Level 16, State 1, Line 2\r\nGrantor does not have GRANT permission.",
                    "ename": "",
                    "traceback": []
                },
                {
                    "output_type": "display_data",
                    "data": {
                        "text/html": "Total execution time: 00:00:00.045"
                    },
                    "metadata": {}
                }
            ],
            "execution_count": 4
        }
    ]
}