{
    "metadata": {
        "kernelspec": {
            "name": "SQL",
            "display_name": "SQL",
            "language": "sql"
        },
        "language_info": {
            "name": "sql",
            "version": ""
        }
    },
    "nbformat_minor": 2,
    "nbformat": 4,
    "cells": [
        {
            "cell_type": "markdown",
            "source": [
                "# Step 1\n",
                "\n",
                "- creates **dbo.TestVacumWH** table with a column called **col** and one row\n",
                "- generates nine **transactions** to insert nine rows into **dbo.TestVacumWH**"
            ],
            "metadata": {
                "language": "sql",
                "azdata_cell_guid": "139a52da-ffbc-4ca5-8a10-188683638e0c"
            },
            "attachments": {}
        },
        {
            "cell_type": "code",
            "source": [
                "SELECT 1 AS col\r\n",
                "INTO dbo.TestVacumWH;\r\n",
                "GO\r\n",
                "\r\n",
                "DECLARE @i INT = 1;\r\n",
                "\r\n",
                "WHILE @i < 9\r\n",
                "BEGIN\r\n",
                "    INSERT INTO dbo.TestVacumWH VALUES(1);\r\n",
                "    SET @i = @i + 1;\r\n",
                "END;"
            ],
            "metadata": {
                "azdata_cell_guid": "727b21e0-ba8c-4290-a9ed-855df8c844c0",
                "language": "sql"
            },
            "outputs": [],
            "execution_count": null
        },
        {
            "cell_type": "markdown",
            "source": [
                "# Step 2\n",
                "\n",
                "- check the number of transaction log files\n",
                "- check the number of parquet files"
            ],
            "metadata": {
                "azdata_cell_guid": "0db4036d-7c14-4d30-8085-d2dafb9c78ca"
            },
            "attachments": {}
        },
        {
            "cell_type": "markdown",
            "source": [
                "# Step 3\n",
                "\n",
                "- inserts another line in **dbo.TestVacumWH** generating tenth transaction"
            ],
            "metadata": {
                "azdata_cell_guid": "c21bb48c-5151-4c3a-880d-2e31c8e0f3f1"
            },
            "attachments": {}
        },
        {
            "cell_type": "markdown",
            "source": [
                " <span style=\"color: #0000ff;\">INSERT INTO</span> dbo.TestVacumWH <span style=\"color: #0000ff;\">VALUES</span>(<span style=\"color: #09885a;\">1</span>);"
            ],
            "metadata": {
                "azdata_cell_guid": "13ea3967-e0aa-4253-9931-44763fe855e1"
            },
            "attachments": {}
        },
        {
            "cell_type": "markdown",
            "source": [
                "# Step 4\n",
                "\n",
                "- check the number of transaction log files\n",
                "- check the number of parquet files\n",
                "- check last\\_checkpoint file\n",
                "- check checkpoint.parquet file"
            ],
            "metadata": {
                "azdata_cell_guid": "64a0cc25-4fe8-4395-854c-b68067210a25"
            },
            "attachments": {}
        }
    ]
}