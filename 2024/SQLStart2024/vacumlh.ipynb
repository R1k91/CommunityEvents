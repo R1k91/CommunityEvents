{
    "metadata": {
        "kernelspec": {
            "name": "SQL",
            "display_name": "SQL",
            "language": "sql"
        },
        "language_info": {
            "name": "sql",
            "version": ""
        }
    },
    "nbformat_minor": 2,
    "nbformat": 4,
    "cells": [
        {
            "cell_type": "markdown",
            "source": [
                "# Step 1\n",
                "\n",
                "- creates **dbo.TestVacumLH** table with a column called **col** and one row\n",
                "- generates ten **transactions** to insert ten rows into **dbo.TestVacumWH**"
            ],
            "metadata": {
                "azdata_cell_guid": "7aaceb68-9bda-4cf2-9ce3-c164dd44e1ff"
            },
            "attachments": {}
        },
        {
            "cell_type": "markdown",
            "source": [
                "df = spark.sql(<span style=\"color: #ce9178;\">\"SELECT 1 AS col\"</span>)\n",
                "\n",
                "  \n",
                "\n",
                "<span style=\"color: #569cd6;\">for</span> i <span style=\"color: #569cd6;\">in</span> range(<span style=\"color: #b5cea8;\">1</span>, <span style=\"color: #b5cea8;\">11</span>):\n",
                "\n",
                "    df.write.format(<span style=\"color: #ce9178;\">\"delta\"</span>).mode(<span style=\"color: #ce9178;\">\"append\"</span>).saveAsTable(<span style=\"color: #ce9178;\">\"TestVacumLH\"</span>)"
            ],
            "metadata": {
                "azdata_cell_guid": "f8084fed-1d23-4e15-9f5a-89497a2c3a07"
            },
            "attachments": {}
        },
        {
            "cell_type": "markdown",
            "source": [
                "# Step 2\n",
                "\n",
                "- check the number of transaction log files\n",
                "- check the number of parquet files"
            ],
            "metadata": {
                "azdata_cell_guid": "0171b4c3-4ef8-473d-8b9d-d55abfa4f251"
            },
            "attachments": {}
        }
    ]
}